{
 "cells": [
  {
   "cell_type": "markdown",
   "metadata": {},
   "source": [
    "# <span style=\"color:brown\"> Homework 1 - PDS </span> \n",
    "\n",
    "Alícia Pinho Santos <br> \n",
    "20230525 <br> \n",
    "20230525@novaims.unl.pt <br> \n",
    "\n",
    "\n",
    "Adriana Costinha <br>\n",
    "20230567 <br>\n",
    "20230567@novaims.unl.pt <br>"
   ]
  },
  {
   "cell_type": "markdown",
   "metadata": {},
   "source": [
    "# <span style=\"color:brown\"> Part 1 -  Variable Declaration and Manipulation </span> \n",
    "\n",
    "## Exercise I - of Lists and Random numbers\n",
    "\n",
    "**1**: Declare a variable X that stores a list of 100 integers randomly sampled between -100 and 100.<br>\n",
    "Note: You are not allowed to use third party libraries -- such as Numpy, Pandas, or Scipy -- in this exercise."
   ]
  },
  {
   "cell_type": "markdown",
   "metadata": {},
   "source": [
    "### <font color='maroon'>Answer:</p>"
   ]
  },
  {
   "cell_type": "code",
   "execution_count": 1,
   "metadata": {
    "tags": []
   },
   "outputs": [
    {
     "name": "stdout",
     "output_type": "stream",
     "text": [
      "[56, 96, -43, -12, 95, -17, -39, -20, -32, 65, -19, -48, -26, 7, 53, 68, -49, -1, -36, 87, 29, 7, 0, -93, 3, -94, -23, 39, 36, -46, -88, 93, 63, 22, 67, -5, -28, -85, -86, -11, 66, 48, -77, -10, 73, -54, -43, 28, -97, -38, -53, 6, -40, 19, -13, 48, 83, -15, -43, 48, 32, 25, -79, -8, 97, -96, -32, -60, -61, -17, 87, -32, 19, 4, -77, -7, 19, 7, -82, -20, -68, -87, -74, -7, 26, 1, -11, 81, 83, 73, -20, 27, -65, 96, 74, -48, -73, -95, -77, 46]\n"
     ]
    }
   ],
   "source": [
    "import random\n",
    "\n",
    "X = []\n",
    "for i in range(100):\n",
    "    X.append(random.randint(-100,100))\n",
    "\n",
    "print(X)"
   ]
  },
  {
   "cell_type": "markdown",
   "metadata": {},
   "source": [
    "**2**: How many odd numbers are in the list X?\n"
   ]
  },
  {
   "cell_type": "markdown",
   "metadata": {},
   "source": [
    "### <font color='maroon'>Answer:</p>"
   ]
  },
  {
   "cell_type": "code",
   "execution_count": 2,
   "metadata": {
    "tags": []
   },
   "outputs": [
    {
     "name": "stdout",
     "output_type": "stream",
     "text": [
      "56\n"
     ]
    }
   ],
   "source": [
    "odd = 0\n",
    "for i in range(100):\n",
    "    if X[i]%2 != 0 :\n",
    "        odd += 1\n",
    "print(odd)"
   ]
  },
  {
   "cell_type": "markdown",
   "metadata": {},
   "source": [
    "**2.1** Check if there are as many even numbers as there are odd numbers, else discard the list and generate a new one."
   ]
  },
  {
   "cell_type": "markdown",
   "metadata": {},
   "source": [
    "### <font color='maroon'>Answer:</p>"
   ]
  },
  {
   "cell_type": "code",
   "execution_count": 3,
   "metadata": {
    "tags": []
   },
   "outputs": [
    {
     "name": "stdout",
     "output_type": "stream",
     "text": [
      "[-82, -58, -43, 97, -100, 83, -91, -86, 36, -87, -65, 75, -53, 3, 22, 28, 38, -32, 43, -63, 16, 32, -78, 45, 61, 35, -48, -19, 59, 88, -68, 100, 55, 8, -22, -84, -74, 49, 8, -37, -20, 95, -93, -58, 49, -89, 0, -3, -87, -85, -86, -5, 32, 83, 79, 9, -12, 90, -42, 9, -39, -95, -75, 77, 90, 3, 61, 78, -46, -11, 64, -78, -58, 82, -44, -21, 16, 83, -93, -32, 46, 89, -7, -89, -41, -86, -86, -33, -88, -93, -48, -97, 41, -57, -91, 63, -9, 40, 66, 80]\n"
     ]
    }
   ],
   "source": [
    "if odd != (len(X)/2):\n",
    "    X = []\n",
    "    for i in range(100):\n",
    "        X.append(random.randint(-100,100))\n",
    "print(X)"
   ]
  },
  {
   "cell_type": "markdown",
   "metadata": {},
   "source": [
    "**2.2** Create a pipeline to automatically perform the tasks above such that you avoid having to run the cells multiple times to reach the desired outcome."
   ]
  },
  {
   "cell_type": "markdown",
   "metadata": {},
   "source": [
    "### <font color='maroon'>Answer:</p>\n",
    "\n",
    "A pipeline performs multiple operations. So we decided to create a \"While\" loop, where while its interior is True, the loop continues. In it, we create a matrix X with a lenght of one hundred random digits that can vary between minus one hundred and one hundred. Our objective here is to perform the tasks we already did previously, meaning: checking if our matrix X has the same amount of even and odd numbers, and if it doesn't a new list needs to be created until it does.\n",
    "\n",
    "Knowing that an even number has remains zero from dividing it by two, we create an \"if\" loop with this condition, that counts all the even numbers in our matrix X. If our variable \"even\" isn't equal to the half of the lenght of X, then our \"While\" loop starts performing this tasks again. If it is equal, the loop is broken and we have our desired matrix.\n"
   ]
  },
  {
   "cell_type": "code",
   "execution_count": 4,
   "metadata": {
    "tags": []
   },
   "outputs": [
    {
     "name": "stdout",
     "output_type": "stream",
     "text": [
      "[21, -14, 46, -81, 90, -30, 2, 57, -7, -44, 41, -49, -38, 3, -86, -52, 41, -44, -40, 60, 63, 51, 13, -25, 88, 51, -24, 62, 11, 36, 76, -38, 39, 71, -85, -61, -78, -86, 36, -8, 24, 75, 40, 7, -71, -81, -98, 3, 100, -26, -66, 25, -45, 66, -84, -78, -35, 11, -86, 93, 91, 61, 61, 20, 9, 28, -87, 3, 37, 21, -54, -9, -86, 52, -66, -20, -83, 3, -47, 51, 95, 14, 6, 58, 57, 90, 11, -36, 10, 8, -16, -41, 71, -34, -12, 71, 89, -91, -6, -37]\n"
     ]
    }
   ],
   "source": [
    "while True:\n",
    "    X = []\n",
    "    even = 0\n",
    "    for i in range(100):\n",
    "        X.append(random.randint(-100,100))\n",
    "        if X[i]%2 == 0:\n",
    "            even += 1\n",
    "    if even == int(len(X)/2):\n",
    "        break\n",
    "        \n",
    "print(X)"
   ]
  },
  {
   "cell_type": "markdown",
   "metadata": {},
   "source": [
    "**3**: Print the number of digits that the 5th and 100th element of the list have. <br>\n",
    "*Note: For instance, the number 1 contains one digit, the number 10 contains two digits, the number -2 contains one digit.*"
   ]
  },
  {
   "cell_type": "markdown",
   "metadata": {},
   "source": [
    "### <font color='maroon'>Answer:</p>\n",
    "\n",
    "Knowing our list X probably has negative numbers, we need to make sure that we're not counting the negative sign as a digit. \n",
    "\n",
    "So we use abs() that returns the absolute value of the number. This way, when we pass the integer to a string, the negative sign isn't considered. So we just need to print the lenght of this string, such as follows:"
   ]
  },
  {
   "cell_type": "code",
   "execution_count": 5,
   "metadata": {},
   "outputs": [
    {
     "name": "stdout",
     "output_type": "stream",
     "text": [
      "2\n",
      "2\n"
     ]
    }
   ],
   "source": [
    "print(len(str(abs(X[4]))))\n",
    "\n",
    "print(len(str(abs(X[-1]))))"
   ]
  },
  {
   "cell_type": "markdown",
   "metadata": {},
   "source": [
    "**4**: Is the sum total of all the numbers in the list even or odd?"
   ]
  },
  {
   "cell_type": "markdown",
   "metadata": {},
   "source": [
    "### <font color='maroon'>Answer:</p>"
   ]
  },
  {
   "cell_type": "code",
   "execution_count": 6,
   "metadata": {
    "tags": []
   },
   "outputs": [
    {
     "name": "stdout",
     "output_type": "stream",
     "text": [
      "Even\n"
     ]
    }
   ],
   "source": [
    "sum_X = sum(X)\n",
    "if sum_X%2 == 0:\n",
    "    print(\"Even\")\n",
    "else:\n",
    "    print(\"Odd\")"
   ]
  },
  {
   "cell_type": "markdown",
   "metadata": {},
   "source": [
    "**5**: What is the average of the list X?"
   ]
  },
  {
   "cell_type": "markdown",
   "metadata": {},
   "source": [
    "### <font color='maroon'>Answer:</p>"
   ]
  },
  {
   "cell_type": "code",
   "execution_count": 7,
   "metadata": {
    "tags": []
   },
   "outputs": [
    {
     "name": "stdout",
     "output_type": "stream",
     "text": [
      "1.34\n"
     ]
    }
   ],
   "source": [
    "mean = sum_X/100\n",
    "print(mean)"
   ]
  },
  {
   "cell_type": "markdown",
   "metadata": {},
   "source": [
    "**5.1.** What is the population standard deviation? <br>"
   ]
  },
  {
   "cell_type": "markdown",
   "metadata": {},
   "source": [
    "### <font color='maroon'>Answer:</p>"
   ]
  },
  {
   "cell_type": "code",
   "execution_count": 8,
   "metadata": {
    "tags": []
   },
   "outputs": [
    {
     "name": "stdout",
     "output_type": "stream",
     "text": [
      "55.22557740757448\n"
     ]
    }
   ],
   "source": [
    "somatorio = 0\n",
    "for i in range(100):\n",
    "    somatorio += ((X[i] - mean)**2)\n",
    "\n",
    "sd = (somatorio/100)**(1/2)\n",
    "print(sd)"
   ]
  },
  {
   "cell_type": "markdown",
   "metadata": {},
   "source": [
    "**6**: Sort list X in descending order and store the result in variable Xsort. <br>"
   ]
  },
  {
   "cell_type": "markdown",
   "metadata": {},
   "source": [
    "### <font color='maroon'>Answer:</p>\n",
    "\n",
    "Since we're creating a new variable called Xsort, and not changing the original, we use the function sorted() instead of the method .sort()."
   ]
  },
  {
   "cell_type": "code",
   "execution_count": 9,
   "metadata": {
    "scrolled": true,
    "tags": []
   },
   "outputs": [
    {
     "name": "stdout",
     "output_type": "stream",
     "text": [
      "[100, 95, 93, 91, 90, 90, 89, 88, 76, 75, 71, 71, 71, 66, 63, 62, 61, 61, 60, 58, 57, 57, 52, 51, 51, 51, 46, 41, 41, 40, 39, 37, 36, 36, 28, 25, 24, 21, 21, 20, 14, 13, 11, 11, 11, 10, 9, 8, 7, 6, 3, 3, 3, 3, 2, -6, -7, -8, -9, -12, -14, -16, -20, -24, -25, -26, -30, -34, -35, -36, -37, -38, -38, -40, -41, -44, -44, -45, -47, -49, -52, -54, -61, -66, -66, -71, -78, -78, -81, -81, -83, -84, -85, -86, -86, -86, -86, -87, -91, -98]\n"
     ]
    }
   ],
   "source": [
    "Xsort = sorted(X, reverse = True)\n",
    "print(Xsort)"
   ]
  },
  {
   "cell_type": "markdown",
   "metadata": {},
   "source": [
    "**6.1** Then replace each value in Xsort with index i as the sum of the values with index i-1 and i. <br> \n",
    "\n",
    "*Note: Consider that Xsort[-1] = 0.*"
   ]
  },
  {
   "cell_type": "markdown",
   "metadata": {},
   "source": [
    "### <font color='maroon'>Answer:</p>"
   ]
  },
  {
   "cell_type": "code",
   "execution_count": 10,
   "metadata": {},
   "outputs": [
    {
     "name": "stdout",
     "output_type": "stream",
     "text": [
      "[100, 195, 288, 379, 469, 559, 648, 736, 812, 887, 958, 1029, 1100, 1166, 1229, 1291, 1352, 1413, 1473, 1531, 1588, 1645, 1697, 1748, 1799, 1850, 1896, 1937, 1978, 2018, 2057, 2094, 2130, 2166, 2194, 2219, 2243, 2264, 2285, 2305, 2319, 2332, 2343, 2354, 2365, 2375, 2384, 2392, 2399, 2405, 2408, 2411, 2414, 2417, 2419, 2413, 2406, 2398, 2389, 2377, 2363, 2347, 2327, 2303, 2278, 2252, 2222, 2188, 2153, 2117, 2080, 2042, 2004, 1964, 1923, 1879, 1835, 1790, 1743, 1694, 1642, 1588, 1527, 1461, 1395, 1324, 1246, 1168, 1087, 1006, 923, 839, 754, 668, 582, 496, 410, 323, 232, 134]\n"
     ]
    }
   ],
   "source": [
    "for i in range(1,100):\n",
    "    Xsort[i] += Xsort[i-1]\n",
    "print(Xsort)"
   ]
  },
  {
   "cell_type": "markdown",
   "metadata": {},
   "source": [
    "## Exercise II - we have a gamer in the room\n",
    "\n",
    "**7**: Consider the dictionaries  *purchases* and *clients* that are declared in the cell below. <br>\n",
    "Create a list with the names of the clients who bought more than one videogame. Print the List. <br>"
   ]
  },
  {
   "cell_type": "code",
   "execution_count": 11,
   "metadata": {},
   "outputs": [],
   "source": [
    "purchases = {\n",
    "    \n",
    "    \"1539\":\"Red dead redemption II\",\n",
    "    \"9843\":\"GTA V,FarCry 5, watchdogs II\",\n",
    "    \"8472\":\"Canis Canem Edit\",\n",
    "    \"3874\":\"Watchdogs II,South Park: The Stick of Truth\",\n",
    "    \"5783\":\"AC: The Ezio Collection, watchdogs ii\",\n",
    "    \"9823\":\"For Honor,The Forest,South Park: The Fractured but whole\"\n",
    "    \n",
    "}"
   ]
  },
  {
   "cell_type": "code",
   "execution_count": 12,
   "metadata": {},
   "outputs": [],
   "source": [
    "clients = {\n",
    "    \n",
    "    \"1539\":\"Rick Sanchez\",\n",
    "    \"9843\":\"Morty Smith\",\n",
    "    \"8472\":\"Eve Polastri\",\n",
    "    \"3874\":\"Mildred Ratched\",\n",
    "    \"5783\":\"Alex Vause\",\n",
    "    \"9823\":\"Sheldon Cooper\"\n",
    "    \n",
    "}"
   ]
  },
  {
   "cell_type": "markdown",
   "metadata": {},
   "source": [
    "### <font color='maroon'>Answer:</p>"
   ]
  },
  {
   "cell_type": "code",
   "execution_count": 13,
   "metadata": {},
   "outputs": [
    {
     "name": "stdout",
     "output_type": "stream",
     "text": [
      "['Morty Smith', 'Mildred Ratched', 'Alex Vause', 'Sheldon Cooper']\n"
     ]
    }
   ],
   "source": [
    "more_1_game = []\n",
    "for number in purchases: \n",
    "    client_games = len(purchases[number].split(',')) #We're counting the purchases for each line - client - in the dictionary \n",
    "#\"purchases\".\n",
    "    if client_games > 1:\n",
    "        more_1_game.append(clients[number]) #Storing the names of the clients that purchased more than one game.\n",
    "        \n",
    "print(more_1_game)"
   ]
  },
  {
   "cell_type": "markdown",
   "metadata": {},
   "source": [
    "**7.1** What is the name of the client that bought more videogames?\n",
    "\n",
    "*Tip: You will want to check the methods associated with string manipulation. See the link: <br>\n",
    "https://python-reference.readthedocs.io/en/latest/docs/unicode/index.html*"
   ]
  },
  {
   "cell_type": "markdown",
   "metadata": {},
   "source": [
    "### <font color='maroon'>Answer:</p>\n",
    "The \"for\" loop creates a dictionary where the keys are the name of the clients and the values the amount of videogames that they bought."
   ]
  },
  {
   "cell_type": "code",
   "execution_count": 14,
   "metadata": {
    "tags": []
   },
   "outputs": [
    {
     "name": "stdout",
     "output_type": "stream",
     "text": [
      "The client that bought more videogames was ['Morty Smith', 'Sheldon Cooper']\n"
     ]
    }
   ],
   "source": [
    "more_games_bought = {}\n",
    "list_gamers = []\n",
    "\n",
    "for name in clients.keys():\n",
    "    client_games = purchases[name].split(',') #Storing the games' names by client and separating each with a comma.\n",
    "    more_games_bought[clients[name]] = len(client_games) #Couting the number of games purchased per client.\n",
    "\n",
    "for k,v in more_games_bought.items(): \n",
    "    if v == max(more_games_bought.values()): # if the value in items is the max, then the name of the buyer is added to the\n",
    "# list_gamers.\n",
    "        list_gamers.append(k)\n",
    "\n",
    "print('The client that bought more videogames was', list_gamers)"
   ]
  },
  {
   "cell_type": "markdown",
   "metadata": {},
   "source": [
    "**7.2** What is the name of the most popular videogame?"
   ]
  },
  {
   "cell_type": "markdown",
   "metadata": {},
   "source": [
    "### <font color='maroon'>Answer:</p>\n"
   ]
  },
  {
   "cell_type": "code",
   "execution_count": 15,
   "metadata": {
    "tags": []
   },
   "outputs": [
    {
     "name": "stdout",
     "output_type": "stream",
     "text": [
      "The most popular videogame is [' watchdogs ii']\n"
     ]
    }
   ],
   "source": [
    "popular_game = {}\n",
    "most_popular_games = []\n",
    "\n",
    "for num in purchases:\n",
    "    client_games = purchases[num].split(',')\n",
    "    for game in client_games:\n",
    "        game = game.lower()\n",
    "        if game in popular_game:\n",
    "            popular_game[game] += 1\n",
    "        else:\n",
    "            popular_game[game] = 1\n",
    "\n",
    "for k,v in popular_game.items():\n",
    "    if v == max(popular_game.values()):\n",
    "        most_popular_games.append(k)\n",
    "print('The most popular videogame is', most_popular_games)"
   ]
  },
  {
   "cell_type": "markdown",
   "metadata": {},
   "source": [
    "# <span style=\"color:brown\"> Part 2 -  Data loading and analysis  </span>\n",
    "\n",
    "## Exercise I - Alice what do you have to say?\n",
    "\n",
    "**8**: Load the Alice text file into a variable called Alice. <br>\n",
    "\n",
    "*Note: Use a relative filepath in relation to the location of your notebook.*"
   ]
  },
  {
   "cell_type": "markdown",
   "metadata": {},
   "source": [
    "### <font color='maroon'>Answer:</p>"
   ]
  },
  {
   "cell_type": "code",
   "execution_count": 16,
   "metadata": {},
   "outputs": [
    {
     "name": "stdout",
     "output_type": "stream",
     "text": [
      "Alice was beginning to get very tired of sitting by her sister on the bank, and of having nothing to do: once or twice she had peeped into the book her sister was reading, but it had no pictures or conversations in it, <<and what is the use of a book>>. thought Alice <<without pictures or conversation?>>.\n"
     ]
    }
   ],
   "source": [
    "filepath = 'alice.txt'\n",
    "file =  open(filepath, 'r')\n",
    "Alice = file.read()\n",
    "print(Alice)"
   ]
  },
  {
   "cell_type": "markdown",
   "metadata": {},
   "source": [
    "**9**: Create a list in which each element is a word from the file *Alice*. Store that list in a variable called *wAlice*. <br>\n",
    "\n",
    "*Note: You will need to do some text parsing here. In particular to split the sentences into words. It is also a good practice to normalize words so that words \"Hello\" and \"hello\" become identical, by making all letters lower case. <br>*\n",
    "\n",
    "*Tip: check the following links for a discussion on regular expressions. Also consult the methods available for string manipulation.*\n",
    "\n",
    "https://docs.python.org/3/library/re.html\n",
    "\n",
    "https://stackoverflow.com/questions/1276764/stripping-everything-but-alphanumeric-chars-from-a-string-in-python"
   ]
  },
  {
   "cell_type": "markdown",
   "metadata": {},
   "source": [
    "### <font color='maroon'>Answer:</p>"
   ]
  },
  {
   "cell_type": "code",
   "execution_count": 17,
   "metadata": {
    "scrolled": true
   },
   "outputs": [
    {
     "name": "stdout",
     "output_type": "stream",
     "text": [
      "['alice', 'was', 'beginning', 'to', 'get', 'very', 'tired', 'of', 'sitting', 'by', 'her', 'sister', 'on', 'the', 'bank', 'and', 'of', 'having', 'nothing', 'to', 'do', 'once', 'or', 'twice', 'she', 'had', 'peeped', 'into', 'the', 'book', 'her', 'sister', 'was', 'reading', 'but', 'it', 'had', 'no', 'pictures', 'or', 'conversations', 'in', 'it', 'and', 'what', 'is', 'the', 'use', 'of', 'a', 'book', 'thought', 'alice', 'without', 'pictures', 'or', 'conversation']\n"
     ]
    }
   ],
   "source": [
    "import re\n",
    "wAlice = re.findall(r'\\b[a-z]+\\b',Alice.lower())\n",
    "print(wAlice)"
   ]
  },
  {
   "cell_type": "markdown",
   "metadata": {},
   "source": [
    "##### Using the list *wAlice* answer the following questions:<br>\n",
    "**10**: How many words are in the file Alice.txt? <br>"
   ]
  },
  {
   "cell_type": "markdown",
   "metadata": {},
   "source": [
    "### <font color='maroon'>Answer:</p>"
   ]
  },
  {
   "cell_type": "code",
   "execution_count": 18,
   "metadata": {},
   "outputs": [
    {
     "name": "stdout",
     "output_type": "stream",
     "text": [
      "There are 57 words.\n"
     ]
    }
   ],
   "source": [
    "print('There are', len(wAlice), 'words.')"
   ]
  },
  {
   "cell_type": "markdown",
   "metadata": {},
   "source": [
    "**11**: What is the longest and smallest word in the text file?\n",
    "\n",
    "*Note: Length in this case is measured in terms of the number of characters.*"
   ]
  },
  {
   "cell_type": "markdown",
   "metadata": {},
   "source": [
    "### <font color='maroon'>Answer:</p>\n",
    "With the functions min() and max() and using the parameter key we calculate de number os characters of each word.\n",
    "Then it will return the longest and the smallest word."
   ]
  },
  {
   "cell_type": "code",
   "execution_count": 19,
   "metadata": {},
   "outputs": [
    {
     "name": "stdout",
     "output_type": "stream",
     "text": [
      "The longest and smallest word in the text file are conversations and a\n"
     ]
    }
   ],
   "source": [
    "longest_word = max(wAlice, key=len)\n",
    "smallest_word = min(wAlice, key=len)\n",
    "\n",
    "print('The longest and smallest word in the text file are', longest_word, 'and', smallest_word)"
   ]
  },
  {
   "cell_type": "markdown",
   "metadata": {},
   "source": [
    "**12**: Delete all the repeated words from *wAlice*. "
   ]
  },
  {
   "cell_type": "markdown",
   "metadata": {},
   "source": [
    "### <font color='maroon'>Answer:</p>\n",
    "\n",
    "The set() function creates a sequence of unique elements. Then we transform wAlice into a list."
   ]
  },
  {
   "cell_type": "code",
   "execution_count": 20,
   "metadata": {
    "scrolled": true
   },
   "outputs": [
    {
     "name": "stdout",
     "output_type": "stream",
     "text": [
      "['pictures', 'get', 'it', 'twice', 'in', 'thought', 'alice', 'what', 'sister', 'of', 'peeped', 'by', 'into', 'having', 'bank', 'nothing', 'do', 'sitting', 'book', 'no', 'conversations', 'to', 'had', 'was', 'but', 'on', 'is', 'her', 'very', 'or', 'once', 'a', 'beginning', 'tired', 'she', 'reading', 'use', 'conversation', 'and', 'without', 'the']\n"
     ]
    }
   ],
   "source": [
    "wAlice = list(set(wAlice))\n",
    "print(wAlice)"
   ]
  },
  {
   "cell_type": "markdown",
   "metadata": {},
   "source": [
    "**12.1**:How many different words does the text contain?"
   ]
  },
  {
   "cell_type": "markdown",
   "metadata": {},
   "source": [
    "### <font color='maroon'>Answer:</p>"
   ]
  },
  {
   "cell_type": "code",
   "execution_count": 21,
   "metadata": {},
   "outputs": [
    {
     "name": "stdout",
     "output_type": "stream",
     "text": [
      "The text contains 41 diferent words.\n"
     ]
    }
   ],
   "source": [
    "print('The text contains', len(wAlice),'diferent words.')"
   ]
  },
  {
   "cell_type": "markdown",
   "metadata": {},
   "source": [
    "## Exercise II - of Countries I Love\n",
    "\n",
    "Consider the list countries in the cell below. <br>\n",
    "It consists of a list of the 3-digit ISO codes of a set of countries of interest."
   ]
  },
  {
   "cell_type": "code",
   "execution_count": 22,
   "metadata": {},
   "outputs": [],
   "source": [
    "countries = [\n",
    "\n",
    "('PRT','Portugal','Europe'),\n",
    "('ISL','Israel','Asia'),\n",
    "('COL','Colombia','South America'),\n",
    "('NEV','Nevada','North America'),\n",
    "('JPN','Japan','Asia'),\n",
    "('RUS','Russia','well... which part?'),\n",
    "('DEN','Denmark','Europe'),\n",
    "('NOR','Norway','Europe')\n",
    "    \n",
    "]"
   ]
  },
  {
   "cell_type": "markdown",
   "metadata": {},
   "source": [
    "**Now consider the file *cdata.csv* that you should download.** <br>\n",
    "\n",
    "The file contains several information about countries, and is organized as follows:\n",
    "1. Column 1 is the 3-digit **ISO Code**\n",
    "2. Column 2 is the **Full Name** of the country\n",
    "3. Column 3 is the **Continent** of the country\n",
    "4. Column 4 is the **Population Size** in 2010\n",
    "5. Column 5 is the **GDP per capita** in 2010"
   ]
  },
  {
   "cell_type": "markdown",
   "metadata": {},
   "source": [
    "**13**: Using the Library CSV from Python STL, load the file *cdata.csv* into an object called *raw*. "
   ]
  },
  {
   "cell_type": "markdown",
   "metadata": {},
   "source": [
    "### <font color='maroon'>Answer:</p>"
   ]
  },
  {
   "cell_type": "code",
   "execution_count": 23,
   "metadata": {},
   "outputs": [
    {
     "name": "stdout",
     "output_type": "stream",
     "text": [
      "[['iso', 'countryname', 'continent', 'population(mil)', 'gdp'], ['ago', 'Angola', 'Africa', '23.369131088256836', '5988.534997149481'], ['bdi', 'Burundi', 'Africa', '8.766929626464844', '731.4232803265862'], ['ben', 'Benin', 'Africa', '9.199258804321289', '1919.9969479963038'], ['bfa', 'Burkina Faso', 'Africa', '15.605216979980469', '1327.2165314775982'], ['bwa', 'Botswana', 'Africa', '2.0148661136627197', '12256.14159052444'], ['caf', 'Central African Republic', 'Africa', '4.4485249519348145', '865.4421867263901'], ['cmr', 'Cameroon', 'Africa', '19.970495223999023', '2684.972890247272'], ['cod', 'Democratic Republic of the Congo', 'Africa', '64.52326202392578', '634.9713963013496'], ['cog', 'Republic of the Congo', 'Africa', '4.386693000793457', '4979.990496069269'], ['com', 'Comoros', 'Africa', '0.6896920204162598', '2292.997969425929'], ['cpv', 'Cape Verde', 'Africa', '0.5023840069770813', '5644.821253339075'], ['dji', 'Djibouti', 'Africa', '0.8511459827423096', '2124.4420625972525'], ['dza', 'Algeria', 'Africa', '36.117637634277344', '12590.224223813591'], ['egy', 'Egypt', 'Africa', '84.10760498046875', '9148.839753298033'], ['eth', 'Ethiopia', 'Africa', '87.70266723632812', '1100.1831875876223'], ['gab', 'Gabon', 'Africa', '1.6402100324630737', '11961.168226448879'], ['gha', 'Ghana', 'Africa', '24.512104034423828', '3931.2918319728856'], ['gin', 'Guinea', 'Africa', '10.794170379638672', '1742.7346742167783'], ['gmb', 'Gambia', 'Africa', '1.692149043083191', '2681.8586168502143'], ['gnb', 'Guinea-Bissau', 'Africa', '1.5558799505233765', '1387.2497310879905'], ['gnq', 'Equatorial Guinea', 'Africa', '0.9511039853096008', '31416.887137501908'], ['ken', 'Kenya', 'Africa', '41.35015106201172', '2484.0349094725366'], ['lbr', 'Liberia', 'Africa', '3.948124885559082', '786.6702306741524'], ['lso', 'Lesotho', 'Africa', '2.040550947189331', '2432.7976546880823'], ['mar', 'Morocco', 'Africa', '32.409637451171875', '6421.937677907418'], ['mdg', 'Madagascar', 'Africa', '21.151639938354492', '1459.9156124535612'], ['mli', 'Mali', 'Africa', '15.075084686279297', '1873.2809618195865'], ['moz', 'Mozambique', 'Africa', '24.221405029296875', '969.2307622526259'], ['mrt', 'Mauritania', 'Africa', '3.6095430850982666', '3082.647028528842'], ['mus', 'Mauritius', 'Africa', '1.2479549646377563', '15178.325920597827'], ['mwi', 'Malawi', 'Africa', '15.167095184326172', '972.0456815116237'], ['nam', 'Namibia', 'Africa', '2.1731700897216797', '7689.171239820006'], ['ner', 'Niger', 'Africa', '16.42557716369629', '845.8693682212395'], ['nga', 'Nigeria', 'Africa', '158.57826232910156', '5186.304307542348'], ['rwa', 'Rwanda', 'Africa', '10.246842384338379', '1379.6993252327009'], ['sdn', 'Sudan', 'Africa', '34.385963439941406', '3608.7856176907358'], ['sen', 'Senegal', 'Africa', '12.916229248046875', '2741.121456198507'], ['sle', 'Sierra Leone', 'Africa', '6.4587202072143555', '1161.8796942144647'], ['swz', 'Swaziland', 'Africa', '1.2028429508209229', '7042.524359035093'], ['syc', 'Seychelles', 'Africa', '0.0914049968123436', '17960.353075613308'], ['tcd', 'Chad', 'Africa', '11.887202262878418', '1880.3748762799714'], ['tgo', 'Togo', 'Africa', '6.5029520988464355', '1222.8150529133295'], ['tun', 'Tunisia', 'Africa', '10.639930725097656', '10647.834980284626'], ['tza', 'Tanzania', 'Africa', '44.82893753051758', '1979.1718644815185'], ['uga', 'Uganda', 'Africa', '33.91513442993164', '1723.5943355766267'], ['zaf', 'South Africa', 'Africa', '51.58466339111328', '11388.640515995063'], ['zmb', 'Zambia', 'Africa', '13.850032806396484', '2870.8872656342314'], ['zwe', 'Zimbabwe', 'Africa', '14.08631706237793', '1479.0305839163732'], ['are', 'United Arab Emirates', 'Asia', '8.270684242248535', '59707.412565389604'], ['arm', 'Armenia', 'Asia', '2.8773109912872314', '8222.945234202914'], ['aze', 'Azerbaijan', 'Asia', '9.03245735168457', '12947.102198682365'], ['bgd', 'Bangladesh', 'Asia', '152.14910888671875', '2411.1020691099325'], ['bhr', 'Bahrain', 'Asia', '1.2408620119094849', '37045.81310919623'], ['brn', 'Brunei', 'Asia', '0.3886620104312897', '67320.89957245934'], ['btn', 'Bhutan', 'Asia', '0.7276409864425659', '7235.18974818538'], ['chn', 'China', 'Asia', '1359.755126953125', '9337.290772677254'], ['cyp', 'Cyprus', 'Asia', '0.829446017742157', '28046.373877741087'], ['geo', 'Georgia', 'Asia', '4.231660842895508', '7966.602756952667'], ['hkg', 'Hong Kong', 'Asia', '7.02522087097168', '41687.946418899235'], ['ind', 'India', 'Asia', '1230.980712890625', '4357.0597360582315'], ['irn', 'Iran', 'Asia', '74.56751251220703', '17328.457882894658'], ['irq', 'Iraq', 'Asia', '30.7627010345459', '9344.543768350652'], ['isr', 'Israel', 'Asia', '7.42595911026001', '28638.9037385305'], ['jor', 'Jordan', 'Asia', '7.182390213012695', '9351.387283068141'], ['jpn', 'Japan', 'Asia', '128.5518798828125', '36595.63364058582'], ['kaz', 'Kazakhstan', 'Asia', '16.398975372314453', '17908.83993251286'], ['kgz', 'Kyrgyzstan', 'Asia', '5.422337055206299', '3382.4639059259293'], ['khm', 'Cambodia', 'Asia', '14.30873966217041', '2330.127207632253'], ['kor', 'South Korea', 'Asia', '49.5528564453125', '31589.705161145695'], ['kwt', 'Kuwait', 'Asia', '2.9980831146240234', '67029.51680017101'], ['lao', 'Laos', 'Asia', '6.246273994445801', '4316.969858587265'], ['lbn', 'Lebanon', 'Asia', '4.337141036987305', '18025.24893894264'], ['lka', 'Sri Lanka', 'Asia', '20.198352813720703', '8390.429701766443'], ['mac', 'Macau', 'Asia', '0.536969006061554', '91982.39517540816'], ['mdv', 'Maldives', 'Asia', '0.36451101303100586', '12140.803390739566'], ['mmr', 'Burma', 'Asia', '50.1558952331543', '3422.241340266976'], ['mng', 'Mongolia', 'Asia', '2.7126500606536865', '7670.714034382584'], ['mys', 'Malaysia', 'Asia', '28.112289428710938', '17913.164410782432'], ['npl', 'Nepal', 'Asia', '27.023136138916016', '1996.1961554516242'], ['omn', 'Oman', 'Asia', '3.0414600372314453', '40472.674942509126'], ['pak', 'Pakistan', 'Asia', '170.5601806640625', '4171.416562353057'], ['phl', 'Philippines', 'Asia', '93.72662353515625', '5391.233965240031'], ['qat', 'Qatar', 'Asia', '1.7796759605407715', '123128.40152283433'], ['sau', 'Saudi Arabia', 'Asia', '27.425676345825195', '42331.65885721999'], ['sgp', 'Singapore', 'Asia', '5.074252128601074', '58618.43503468222'], ['syr', 'Syria', 'Asia', '21.01883316040039', '5700.329438992399'], ['tha', 'Thailand', 'Asia', '67.20880889892578', '12496.244186726299'], ['tjk', 'Tajikistan', 'Asia', '7.641630172729492', '2784.5145587763627'], ['tkm', 'Turkmenistan', 'Asia', '5.087210178375244', '16061.429412691556'], ['tur', 'Turkey', 'Asia', '72.32691192626953', '17930.678781392427'], ['twn', 'Taiwan', 'Asia', '23.140947341918945', '37188.89452901009'], ['uzb', 'Uzbekistan', 'Asia', '28.606294631958008', '6574.51672506692'], ['vnm', 'Vietnam', 'Asia', '88.4725112915039', '4428.42140209062'], ['yem', 'Yemen', 'Asia', '23.606779098510742', '4553.557258443674'], ['alb', 'Albania', 'Europe', '2.9405250549316406', '9544.73991912729'], ['aut', 'Austria', 'Europe', '8.40994930267334', '40489.80635849457'], ['bel', 'Belgium', 'Europe', '10.938738822937012', '38177.94724875522'], ['bgr', 'Bulgaria', 'Europe', '7.404590129852295', '14906.784964031736'], ['bih', 'Bosnia and Herzegovina', 'Europe', '3.7220840454101562', '9049.364732987471'], ['blr', 'Belarus', 'Europe', '9.473071098327637', '16457.02937904922'], ['che', 'Switzerland', 'Europe', '7.831971168518066', '55688.020214268225'], ['cze', 'Czech Republic', 'Europe', '10.536286354064941', '26129.56935189834'], ['deu', 'Germany', 'Europe', '80.89478302001953', '40627.23054942445'], ['dnk', 'Denmark', 'Europe', '5.554843902587891', '43416.22338615916'], ['esp', 'Spain', 'Europe', '46.788631439208984', '31610.980157042286'], ['est', 'Estonia', 'Europe', '1.3321019411087036', '20265.572596704937'], ['fin', 'Finland', 'Europe', '5.365781784057617', '38394.06158150017'], ['fra', 'France', 'Europe', '65.14578247070312', '35786.16161450548'], ['gbr', 'United Kingdom', 'Europe', '63.30684280395508', '34810.28120173958'], ['grc', 'Greece', 'Europe', '11.446004867553711', '25815.80076797162'], ['hrv', 'Croatia', 'Europe', '4.328153133392334', '19305.008088868373'], ['hun', 'Hungary', 'Europe', '9.927840232849121', '20477.79856764035'], ['irl', 'Ireland', 'Europe', '4.626927852630615', '47823.50815113634'], ['isl', 'Iceland', 'Europe', '0.3203279972076416', '37729.01607603124'], ['ita', 'Italy', 'Europe', '59.72980880737305', '34727.67268834705'], ['ltu', 'Lithuania', 'Europe', '3.123802900314331', '18475.371145517096'], ['lux', 'Luxembourg', 'Europe', '0.5078889727592468', '57882.81020537233'], ['lva', 'Latvia', 'Europe', '2.1188480854034424', '16943.688322829523'], ['mda', 'Moldova', 'Europe', '4.0844807624816895', '4173.634753274572'], ['mkd', 'Macedonia', 'Europe', '2.0707390308380127', '11265.643175619889'], ['mlt', 'Malta', 'Europe', '0.41611000895500183', '22983.44992639125'], ['mne', 'Montenegro', 'Europe', '0.6242849826812744', '14960.94855221103'], ['nld', 'Netherlands', 'Europe', '16.68291664123535', '44004.146024770846'], ['nor', 'Norway', 'Europe', '4.885878086090088', '73262.68174170727'], ['pol', 'Poland', 'Europe', '38.323402404785156', '21006.027309294514'], ['prt', 'Portugal', 'Europe', '10.652320861816406', '25788.2739652247'], ['rou', 'Romania', 'Europe', '20.44034767150879', '16775.609043478133'], ['rus', 'Russia', 'Asia', '143.15386962890625', '21754.067899615977'], ['srb', 'Serbia', 'Europe', '7.291436195373535', '12453.482551916944'], ['svk', 'Slovakia', 'Europe', '5.404294013977051', '23061.12099058148'], ['svn', 'Slovenia', 'Europe', '2.045167922973633', '25831.33128718208'], ['swe', 'Sweden', 'Europe', '9.390168190002441', '40421.906436576974'], ['ukr', 'Ukraine', 'Europe', '45.79249954223633', '8713.259627419637'], ['abw', 'Aruba', 'NorthAmerica', '0.10166899859905243', '37059.34143869512'], ['aia', 'Anguilla', 'NorthAmerica', '0.013768999837338924', '21098.057152999143'], ['atg', 'Antigua and Barbuda', 'NorthAmerica', '0.09466099739074707', '17162.16102781353'], ['bhs', 'Bahamas', 'NorthAmerica', '0.36083200573921204', '29504.581346144332'], ['blz', 'Belize', 'NorthAmerica', '0.3216080069541931', '7145.952547655193'], ['bmu', 'Bermuda', 'NorthAmerica', '0.06395599991083145', '51447.147481910884'], ['brb', 'Barbados', 'NorthAmerica', '0.27956900000572205', '13995.612896540895'], ['can', 'Canada', 'NorthAmerica', '34.16866683959961', '40269.03526728651'], ['cri', 'Costa Rica', 'NorthAmerica', '4.5452799797058105', '12106.99191566891'], ['cuw', 'CuraÃ§ao', 'NorthAmerica', '0.14760799705982208', '24337.816177887613'], ['cym', 'Cayman Islands', 'NorthAmerica', '0.05550700053572655', '36670.678481483985'], ['dma', 'Dominica', 'NorthAmerica', '0.07143999636173248', '9101.993729581038'], ['dom', 'Dominican Republic', 'NorthAmerica', '9.897985458374023', '11500.13134401987'], ['grd', 'Grenada', 'NorthAmerica', '0.1046769991517067', '9791.291133092265'], ['gtm', 'Guatemala', 'NorthAmerica', '14.630416870117188', '6359.262684615136'], ['hnd', 'Honduras', 'NorthAmerica', '8.194778442382812', '3789.9102248753848'], ['hti', 'Haiti', 'NorthAmerica', '9.999616622924805', '1650.2697128700804'], ['jam', 'Jamaica', 'NorthAmerica', '2.8172099590301514', '6675.176956450172'], ['kna', 'Saint Kitts and Nevis', 'NorthAmerica', '0.05144499987363815', '17837.349758162076'], ['lca', 'Saint Lucia', 'NorthAmerica', '0.17258000373840332', '9178.266990673521'], ['mex', 'Mexico', 'NorthAmerica', '117.31893920898438', '14507.011923865603'], ['msr', 'Montserrat', 'NorthAmerica', '0.00494399992749095', '15385.002991478228'], ['nic', 'Nicaragua', 'NorthAmerica', '5.737722873687744', '3992.7619078961748'], ['pan', 'Panama', 'NorthAmerica', '3.6432220935821533', '15055.237591848218'], ['slv', 'El Salvador', 'NorthAmerica', '6.164626121520996', '6096.958357099287'], ['tca', 'Turks and Caicos Islands', 'NorthAmerica', '0.030993999913334846', '7230.966074605446'], ['tto', 'Trinidad and Tobago', 'NorthAmerica', '1.3280999660491943', '27510.236190041924'], ['usa', 'United States', 'NorthAmerica', '308.6413879394531', '49500.62628346238'], ['vct', 'Saint Vincent and the Grenadines', 'NorthAmerica', '0.10931500047445297', '8095.21923068351'], ['vgb', 'British Virgin Islands', 'NorthAmerica', '0.027224000543355942', '21183.279165646647'], ['aus', 'Australia', 'Oceania', '22.12006378173828', '44854.90004866657'], ['fji', 'Fiji', 'Oceania', '0.8599500060081482', '6902.0687720944225'], ['nzl', 'New Zealand', 'Oceania', '4.370061874389648', '30867.05437525178'], ['arg', 'Argentina', 'SouthAmerica', '41.2238883972168', '15841.658208158999'], ['bol', 'Bolivia', 'SouthAmerica', '9.918242454528809', '4806.608983377068'], ['bra', 'Brazil', 'SouthAmerica', '196.7962646484375', '13541.462561602328'], ['chl', 'Chile', 'SouthAmerica', '16.99335479736328', '18092.94007371081']]\n"
     ]
    }
   ],
   "source": [
    "import csv\n",
    "filepath = 'cdata.csv'\n",
    "raw = []\n",
    "with open(filepath,'r') as file:\n",
    "    reader = csv.reader(file)\n",
    "    for r in reader:\n",
    "        raw.append(r)\n",
    "        \n",
    "print(raw)"
   ]
  },
  {
   "cell_type": "markdown",
   "metadata": {},
   "source": [
    "**13.1**: Create a dictionary called *cData* in which the key corresponds to the 3-digit ISO Code and the value is a tuple with the information contained in the 2nd to the 5th of column of the cdata file."
   ]
  },
  {
   "cell_type": "markdown",
   "metadata": {},
   "source": [
    "### <font color='maroon'>Answer:</p>"
   ]
  },
  {
   "cell_type": "code",
   "execution_count": 24,
   "metadata": {},
   "outputs": [
    {
     "name": "stdout",
     "output_type": "stream",
     "text": [
      "{'ago': ['Angola', 'Africa', '23.369131088256836', '5988.534997149481'], 'bdi': ['Burundi', 'Africa', '8.766929626464844', '731.4232803265862'], 'ben': ['Benin', 'Africa', '9.199258804321289', '1919.9969479963038'], 'bfa': ['Burkina Faso', 'Africa', '15.605216979980469', '1327.2165314775982'], 'bwa': ['Botswana', 'Africa', '2.0148661136627197', '12256.14159052444'], 'caf': ['Central African Republic', 'Africa', '4.4485249519348145', '865.4421867263901'], 'cmr': ['Cameroon', 'Africa', '19.970495223999023', '2684.972890247272'], 'cod': ['Democratic Republic of the Congo', 'Africa', '64.52326202392578', '634.9713963013496'], 'cog': ['Republic of the Congo', 'Africa', '4.386693000793457', '4979.990496069269'], 'com': ['Comoros', 'Africa', '0.6896920204162598', '2292.997969425929'], 'cpv': ['Cape Verde', 'Africa', '0.5023840069770813', '5644.821253339075'], 'dji': ['Djibouti', 'Africa', '0.8511459827423096', '2124.4420625972525'], 'dza': ['Algeria', 'Africa', '36.117637634277344', '12590.224223813591'], 'egy': ['Egypt', 'Africa', '84.10760498046875', '9148.839753298033'], 'eth': ['Ethiopia', 'Africa', '87.70266723632812', '1100.1831875876223'], 'gab': ['Gabon', 'Africa', '1.6402100324630737', '11961.168226448879'], 'gha': ['Ghana', 'Africa', '24.512104034423828', '3931.2918319728856'], 'gin': ['Guinea', 'Africa', '10.794170379638672', '1742.7346742167783'], 'gmb': ['Gambia', 'Africa', '1.692149043083191', '2681.8586168502143'], 'gnb': ['Guinea-Bissau', 'Africa', '1.5558799505233765', '1387.2497310879905'], 'gnq': ['Equatorial Guinea', 'Africa', '0.9511039853096008', '31416.887137501908'], 'ken': ['Kenya', 'Africa', '41.35015106201172', '2484.0349094725366'], 'lbr': ['Liberia', 'Africa', '3.948124885559082', '786.6702306741524'], 'lso': ['Lesotho', 'Africa', '2.040550947189331', '2432.7976546880823'], 'mar': ['Morocco', 'Africa', '32.409637451171875', '6421.937677907418'], 'mdg': ['Madagascar', 'Africa', '21.151639938354492', '1459.9156124535612'], 'mli': ['Mali', 'Africa', '15.075084686279297', '1873.2809618195865'], 'moz': ['Mozambique', 'Africa', '24.221405029296875', '969.2307622526259'], 'mrt': ['Mauritania', 'Africa', '3.6095430850982666', '3082.647028528842'], 'mus': ['Mauritius', 'Africa', '1.2479549646377563', '15178.325920597827'], 'mwi': ['Malawi', 'Africa', '15.167095184326172', '972.0456815116237'], 'nam': ['Namibia', 'Africa', '2.1731700897216797', '7689.171239820006'], 'ner': ['Niger', 'Africa', '16.42557716369629', '845.8693682212395'], 'nga': ['Nigeria', 'Africa', '158.57826232910156', '5186.304307542348'], 'rwa': ['Rwanda', 'Africa', '10.246842384338379', '1379.6993252327009'], 'sdn': ['Sudan', 'Africa', '34.385963439941406', '3608.7856176907358'], 'sen': ['Senegal', 'Africa', '12.916229248046875', '2741.121456198507'], 'sle': ['Sierra Leone', 'Africa', '6.4587202072143555', '1161.8796942144647'], 'swz': ['Swaziland', 'Africa', '1.2028429508209229', '7042.524359035093'], 'syc': ['Seychelles', 'Africa', '0.0914049968123436', '17960.353075613308'], 'tcd': ['Chad', 'Africa', '11.887202262878418', '1880.3748762799714'], 'tgo': ['Togo', 'Africa', '6.5029520988464355', '1222.8150529133295'], 'tun': ['Tunisia', 'Africa', '10.639930725097656', '10647.834980284626'], 'tza': ['Tanzania', 'Africa', '44.82893753051758', '1979.1718644815185'], 'uga': ['Uganda', 'Africa', '33.91513442993164', '1723.5943355766267'], 'zaf': ['South Africa', 'Africa', '51.58466339111328', '11388.640515995063'], 'zmb': ['Zambia', 'Africa', '13.850032806396484', '2870.8872656342314'], 'zwe': ['Zimbabwe', 'Africa', '14.08631706237793', '1479.0305839163732'], 'are': ['United Arab Emirates', 'Asia', '8.270684242248535', '59707.412565389604'], 'arm': ['Armenia', 'Asia', '2.8773109912872314', '8222.945234202914'], 'aze': ['Azerbaijan', 'Asia', '9.03245735168457', '12947.102198682365'], 'bgd': ['Bangladesh', 'Asia', '152.14910888671875', '2411.1020691099325'], 'bhr': ['Bahrain', 'Asia', '1.2408620119094849', '37045.81310919623'], 'brn': ['Brunei', 'Asia', '0.3886620104312897', '67320.89957245934'], 'btn': ['Bhutan', 'Asia', '0.7276409864425659', '7235.18974818538'], 'chn': ['China', 'Asia', '1359.755126953125', '9337.290772677254'], 'cyp': ['Cyprus', 'Asia', '0.829446017742157', '28046.373877741087'], 'geo': ['Georgia', 'Asia', '4.231660842895508', '7966.602756952667'], 'hkg': ['Hong Kong', 'Asia', '7.02522087097168', '41687.946418899235'], 'ind': ['India', 'Asia', '1230.980712890625', '4357.0597360582315'], 'irn': ['Iran', 'Asia', '74.56751251220703', '17328.457882894658'], 'irq': ['Iraq', 'Asia', '30.7627010345459', '9344.543768350652'], 'isr': ['Israel', 'Asia', '7.42595911026001', '28638.9037385305'], 'jor': ['Jordan', 'Asia', '7.182390213012695', '9351.387283068141'], 'jpn': ['Japan', 'Asia', '128.5518798828125', '36595.63364058582'], 'kaz': ['Kazakhstan', 'Asia', '16.398975372314453', '17908.83993251286'], 'kgz': ['Kyrgyzstan', 'Asia', '5.422337055206299', '3382.4639059259293'], 'khm': ['Cambodia', 'Asia', '14.30873966217041', '2330.127207632253'], 'kor': ['South Korea', 'Asia', '49.5528564453125', '31589.705161145695'], 'kwt': ['Kuwait', 'Asia', '2.9980831146240234', '67029.51680017101'], 'lao': ['Laos', 'Asia', '6.246273994445801', '4316.969858587265'], 'lbn': ['Lebanon', 'Asia', '4.337141036987305', '18025.24893894264'], 'lka': ['Sri Lanka', 'Asia', '20.198352813720703', '8390.429701766443'], 'mac': ['Macau', 'Asia', '0.536969006061554', '91982.39517540816'], 'mdv': ['Maldives', 'Asia', '0.36451101303100586', '12140.803390739566'], 'mmr': ['Burma', 'Asia', '50.1558952331543', '3422.241340266976'], 'mng': ['Mongolia', 'Asia', '2.7126500606536865', '7670.714034382584'], 'mys': ['Malaysia', 'Asia', '28.112289428710938', '17913.164410782432'], 'npl': ['Nepal', 'Asia', '27.023136138916016', '1996.1961554516242'], 'omn': ['Oman', 'Asia', '3.0414600372314453', '40472.674942509126'], 'pak': ['Pakistan', 'Asia', '170.5601806640625', '4171.416562353057'], 'phl': ['Philippines', 'Asia', '93.72662353515625', '5391.233965240031'], 'qat': ['Qatar', 'Asia', '1.7796759605407715', '123128.40152283433'], 'sau': ['Saudi Arabia', 'Asia', '27.425676345825195', '42331.65885721999'], 'sgp': ['Singapore', 'Asia', '5.074252128601074', '58618.43503468222'], 'syr': ['Syria', 'Asia', '21.01883316040039', '5700.329438992399'], 'tha': ['Thailand', 'Asia', '67.20880889892578', '12496.244186726299'], 'tjk': ['Tajikistan', 'Asia', '7.641630172729492', '2784.5145587763627'], 'tkm': ['Turkmenistan', 'Asia', '5.087210178375244', '16061.429412691556'], 'tur': ['Turkey', 'Asia', '72.32691192626953', '17930.678781392427'], 'twn': ['Taiwan', 'Asia', '23.140947341918945', '37188.89452901009'], 'uzb': ['Uzbekistan', 'Asia', '28.606294631958008', '6574.51672506692'], 'vnm': ['Vietnam', 'Asia', '88.4725112915039', '4428.42140209062'], 'yem': ['Yemen', 'Asia', '23.606779098510742', '4553.557258443674'], 'alb': ['Albania', 'Europe', '2.9405250549316406', '9544.73991912729'], 'aut': ['Austria', 'Europe', '8.40994930267334', '40489.80635849457'], 'bel': ['Belgium', 'Europe', '10.938738822937012', '38177.94724875522'], 'bgr': ['Bulgaria', 'Europe', '7.404590129852295', '14906.784964031736'], 'bih': ['Bosnia and Herzegovina', 'Europe', '3.7220840454101562', '9049.364732987471'], 'blr': ['Belarus', 'Europe', '9.473071098327637', '16457.02937904922'], 'che': ['Switzerland', 'Europe', '7.831971168518066', '55688.020214268225'], 'cze': ['Czech Republic', 'Europe', '10.536286354064941', '26129.56935189834'], 'deu': ['Germany', 'Europe', '80.89478302001953', '40627.23054942445'], 'dnk': ['Denmark', 'Europe', '5.554843902587891', '43416.22338615916'], 'esp': ['Spain', 'Europe', '46.788631439208984', '31610.980157042286'], 'est': ['Estonia', 'Europe', '1.3321019411087036', '20265.572596704937'], 'fin': ['Finland', 'Europe', '5.365781784057617', '38394.06158150017'], 'fra': ['France', 'Europe', '65.14578247070312', '35786.16161450548'], 'gbr': ['United Kingdom', 'Europe', '63.30684280395508', '34810.28120173958'], 'grc': ['Greece', 'Europe', '11.446004867553711', '25815.80076797162'], 'hrv': ['Croatia', 'Europe', '4.328153133392334', '19305.008088868373'], 'hun': ['Hungary', 'Europe', '9.927840232849121', '20477.79856764035'], 'irl': ['Ireland', 'Europe', '4.626927852630615', '47823.50815113634'], 'isl': ['Iceland', 'Europe', '0.3203279972076416', '37729.01607603124'], 'ita': ['Italy', 'Europe', '59.72980880737305', '34727.67268834705'], 'ltu': ['Lithuania', 'Europe', '3.123802900314331', '18475.371145517096'], 'lux': ['Luxembourg', 'Europe', '0.5078889727592468', '57882.81020537233'], 'lva': ['Latvia', 'Europe', '2.1188480854034424', '16943.688322829523'], 'mda': ['Moldova', 'Europe', '4.0844807624816895', '4173.634753274572'], 'mkd': ['Macedonia', 'Europe', '2.0707390308380127', '11265.643175619889'], 'mlt': ['Malta', 'Europe', '0.41611000895500183', '22983.44992639125'], 'mne': ['Montenegro', 'Europe', '0.6242849826812744', '14960.94855221103'], 'nld': ['Netherlands', 'Europe', '16.68291664123535', '44004.146024770846'], 'nor': ['Norway', 'Europe', '4.885878086090088', '73262.68174170727'], 'pol': ['Poland', 'Europe', '38.323402404785156', '21006.027309294514'], 'prt': ['Portugal', 'Europe', '10.652320861816406', '25788.2739652247'], 'rou': ['Romania', 'Europe', '20.44034767150879', '16775.609043478133'], 'rus': ['Russia', 'Asia', '143.15386962890625', '21754.067899615977'], 'srb': ['Serbia', 'Europe', '7.291436195373535', '12453.482551916944'], 'svk': ['Slovakia', 'Europe', '5.404294013977051', '23061.12099058148'], 'svn': ['Slovenia', 'Europe', '2.045167922973633', '25831.33128718208'], 'swe': ['Sweden', 'Europe', '9.390168190002441', '40421.906436576974'], 'ukr': ['Ukraine', 'Europe', '45.79249954223633', '8713.259627419637'], 'abw': ['Aruba', 'NorthAmerica', '0.10166899859905243', '37059.34143869512'], 'aia': ['Anguilla', 'NorthAmerica', '0.013768999837338924', '21098.057152999143'], 'atg': ['Antigua and Barbuda', 'NorthAmerica', '0.09466099739074707', '17162.16102781353'], 'bhs': ['Bahamas', 'NorthAmerica', '0.36083200573921204', '29504.581346144332'], 'blz': ['Belize', 'NorthAmerica', '0.3216080069541931', '7145.952547655193'], 'bmu': ['Bermuda', 'NorthAmerica', '0.06395599991083145', '51447.147481910884'], 'brb': ['Barbados', 'NorthAmerica', '0.27956900000572205', '13995.612896540895'], 'can': ['Canada', 'NorthAmerica', '34.16866683959961', '40269.03526728651'], 'cri': ['Costa Rica', 'NorthAmerica', '4.5452799797058105', '12106.99191566891'], 'cuw': ['CuraÃ§ao', 'NorthAmerica', '0.14760799705982208', '24337.816177887613'], 'cym': ['Cayman Islands', 'NorthAmerica', '0.05550700053572655', '36670.678481483985'], 'dma': ['Dominica', 'NorthAmerica', '0.07143999636173248', '9101.993729581038'], 'dom': ['Dominican Republic', 'NorthAmerica', '9.897985458374023', '11500.13134401987'], 'grd': ['Grenada', 'NorthAmerica', '0.1046769991517067', '9791.291133092265'], 'gtm': ['Guatemala', 'NorthAmerica', '14.630416870117188', '6359.262684615136'], 'hnd': ['Honduras', 'NorthAmerica', '8.194778442382812', '3789.9102248753848'], 'hti': ['Haiti', 'NorthAmerica', '9.999616622924805', '1650.2697128700804'], 'jam': ['Jamaica', 'NorthAmerica', '2.8172099590301514', '6675.176956450172'], 'kna': ['Saint Kitts and Nevis', 'NorthAmerica', '0.05144499987363815', '17837.349758162076'], 'lca': ['Saint Lucia', 'NorthAmerica', '0.17258000373840332', '9178.266990673521'], 'mex': ['Mexico', 'NorthAmerica', '117.31893920898438', '14507.011923865603'], 'msr': ['Montserrat', 'NorthAmerica', '0.00494399992749095', '15385.002991478228'], 'nic': ['Nicaragua', 'NorthAmerica', '5.737722873687744', '3992.7619078961748'], 'pan': ['Panama', 'NorthAmerica', '3.6432220935821533', '15055.237591848218'], 'slv': ['El Salvador', 'NorthAmerica', '6.164626121520996', '6096.958357099287'], 'tca': ['Turks and Caicos Islands', 'NorthAmerica', '0.030993999913334846', '7230.966074605446'], 'tto': ['Trinidad and Tobago', 'NorthAmerica', '1.3280999660491943', '27510.236190041924'], 'usa': ['United States', 'NorthAmerica', '308.6413879394531', '49500.62628346238'], 'vct': ['Saint Vincent and the Grenadines', 'NorthAmerica', '0.10931500047445297', '8095.21923068351'], 'vgb': ['British Virgin Islands', 'NorthAmerica', '0.027224000543355942', '21183.279165646647'], 'aus': ['Australia', 'Oceania', '22.12006378173828', '44854.90004866657'], 'fji': ['Fiji', 'Oceania', '0.8599500060081482', '6902.0687720944225'], 'nzl': ['New Zealand', 'Oceania', '4.370061874389648', '30867.05437525178'], 'arg': ['Argentina', 'SouthAmerica', '41.2238883972168', '15841.658208158999'], 'bol': ['Bolivia', 'SouthAmerica', '9.918242454528809', '4806.608983377068'], 'bra': ['Brazil', 'SouthAmerica', '196.7962646484375', '13541.462561602328'], 'chl': ['Chile', 'SouthAmerica', '16.99335479736328', '18092.94007371081']}\n"
     ]
    }
   ],
   "source": [
    "cData = {}\n",
    "for i in range(1,len(raw)):\n",
    "    cData[raw[i][0]] = raw[i][1:5]\n",
    "    \n",
    "print(cData)"
   ]
  },
  {
   "cell_type": "markdown",
   "metadata": {},
   "source": [
    "**14**: Using *cData*, identify what is the most common Continent among the nations in the list *countries*."
   ]
  },
  {
   "cell_type": "markdown",
   "metadata": {},
   "source": [
    "### <font color='maroon'>Answer:</p>\n",
    "\n",
    "In this exercise, we decided to treat it as if our countries list was too big for it to be possible to notice all errors. We created two codes so we can analyse which has more information, and which doesn't, so we know which way is the most complete - which code is losing less data.\n",
    "\n",
    "So firstly we start by using the ISO codes in our countries list to cross with the information in cData. As we can see below, we get that Europe is the most common continent in our countries list.\n",
    "\n",
    "Repeating this, but this time using the countries' name instead of the ISO codes, we get that Europe and Asia are both the most common continents in our list.\n",
    "\n",
    "This means that using the ISO codes one country in Asia is being lost, giving us a different conclusion. Because of this, we decided using the countries' name is the most complete way to cross with cData. Even though we're probably still losing some data, there's nothing we can do."
   ]
  },
  {
   "cell_type": "code",
   "execution_count": 25,
   "metadata": {},
   "outputs": [
    {
     "name": "stdout",
     "output_type": "stream",
     "text": [
      "{'Europe': 3, 'Asia': 2}\n",
      "The most common Continent among the nations in the list countries is ['Europe']\n"
     ]
    }
   ],
   "source": [
    "continents_count = {}\n",
    "common_continents = []\n",
    "\n",
    "#In this loop we search for iso codes in the list countries.\n",
    "for iso_code,_,_ in countries:\n",
    "    a = iso_code.lower() #For every iso code found, we lower case them so we can look for them in cData.\n",
    "    if a in cData:\n",
    "        continent = cData[a][1] #If the iso code is a cData key it will return their continent.\n",
    "        if continent in continents_count: #After that we add the continent to the new dictionary.\n",
    "            continents_count[continent] += 1\n",
    "        else:\n",
    "            continents_count[continent] = 1\n",
    "#Some of the iso codes weren't found on the cData, so we don't include them.\n",
    "\n",
    "for k,v in continents_count.items():\n",
    "    if v == max(continents_count.values()):\n",
    "        common_continents.append(k)\n",
    "\n",
    "print(continents_count)\n",
    "print('The most common Continent among the nations in the list countries is',common_continents) \n",
    "#Will return the keys that havw the highest value."
   ]
  },
  {
   "cell_type": "code",
   "execution_count": 26,
   "metadata": {},
   "outputs": [
    {
     "name": "stdout",
     "output_type": "stream",
     "text": [
      "{'Europe': 3, 'Asia': 3}\n",
      "Most common Continent among the nations in the counties list: dict_keys(['Europe', 'Asia'])\n"
     ]
    }
   ],
   "source": [
    "continents_count_2 = {}\n",
    "for _,country,_ in countries:\n",
    "    for iso_code in cData:\n",
    "        if country == cData[iso_code][0]:\n",
    "            continent = cData[iso_code][1]\n",
    "            if continent in continents_count_2:\n",
    "                continents_count_2[continent] += 1\n",
    "            else:\n",
    "                continents_count_2[continent] = 1\n",
    "\n",
    "print(continents_count_2)\n",
    "print(\"Most common Continent among the nations in the counties list:\", continents_count_2.keys())"
   ]
  },
  {
   "cell_type": "markdown",
   "metadata": {},
   "source": [
    "**15**: Using *cData*, identify what is the the most populated nation in the list *countries*."
   ]
  },
  {
   "cell_type": "markdown",
   "metadata": {},
   "source": [
    "### <font color='maroon'>Answer:</p>"
   ]
  },
  {
   "cell_type": "code",
   "execution_count": 27,
   "metadata": {},
   "outputs": [
    {
     "name": "stdout",
     "output_type": "stream",
     "text": [
      "The most populated nation in the list countries is Russia\n"
     ]
    }
   ],
   "source": [
    "max_population = 0\n",
    "most_populated = None\n",
    "\n",
    "#In this loop we search for country in the list countries.\n",
    "for _,country,_ in countries:\n",
    "    for iso_code in cData:\n",
    "        if country == cData[iso_code][0]:\n",
    "            population = float(cData[iso_code][2]) #If the country name is a cData key it will return their population size.\n",
    "            if population > max_population: #After this we compare the population size among the nations.\n",
    "                max_population = population \n",
    "                most_populated = country\n",
    "\n",
    "print('The most populated nation in the list countries is',most_populated)"
   ]
  },
  {
   "cell_type": "markdown",
   "metadata": {},
   "source": [
    "**16**: Compare the average GDP per capita of the nations in the list *countries* with the average GDP of the countries in cdata file. What can you conclude?"
   ]
  },
  {
   "cell_type": "markdown",
   "metadata": {},
   "source": [
    "### <font color='maroon'>Answer:</p>\n",
    "\n",
    "Since our country list has a smaller dimension in comparison with cData, obviously the average GDP for each will be much different. As it can be observed below, the GPD of cData is less than half of the GPD of the countries list, so the GPD of cData is poorer than the GPD of the countries list."
   ]
  },
  {
   "cell_type": "code",
   "execution_count": 28,
   "metadata": {},
   "outputs": [
    {
     "name": "stdout",
     "output_type": "stream",
     "text": [
      "The average GDP per capita of the nations in the list countries is 38242.63072863724\n",
      "The average GDP per capita of the countries in the cData file is 18092.940073710855\n"
     ]
    }
   ],
   "source": [
    "total_iso = 0\n",
    "total_gdp = 0\n",
    "total_gdp_cd = 0\n",
    "\n",
    "for _,country,_ in countries:\n",
    "    for iso_code in cData:\n",
    "        if country == cData[iso_code][0]: \n",
    "            total_gdp += float(cData[iso_code][3])\n",
    "            total_iso +=1\n",
    "\n",
    "for iso in cData:\n",
    "    total_gdp_cd += float(cData[iso_code][3])\n",
    "    \n",
    "print(\"The average GDP per capita of the nations in the list countries is\",total_gdp/total_iso)\n",
    "print(\"The average GDP per capita of the countries in the cData file is\",total_gdp_cd/len(cData))"
   ]
  },
  {
   "cell_type": "markdown",
   "metadata": {},
   "source": [
    "# <span style=\"color:brown\"> Part 3 - Functions hurt nobody </span>\n",
    "\n",
    "## Exercise I - I hate math\n",
    "\n",
    "##### Consider the following equation:\n",
    "\n",
    "\\begin{equation}\n",
    "    y = 6x^2 + 3x + 2\n",
    "\\end{equation}\n",
    "\n",
    "**17**: Write a function called *f* that takes one argument, x, and returns y according to the equation above. "
   ]
  },
  {
   "cell_type": "markdown",
   "metadata": {},
   "source": [
    "### <font color='maroon'>Answer:</p>"
   ]
  },
  {
   "cell_type": "code",
   "execution_count": 29,
   "metadata": {},
   "outputs": [],
   "source": [
    "def f(x):\n",
    "    y = 6*x**2 + 3*x + 2\n",
    "    return y"
   ]
  },
  {
   "cell_type": "markdown",
   "metadata": {},
   "source": [
    "**17.1**: Call the function for x = 2 and print the answer."
   ]
  },
  {
   "cell_type": "markdown",
   "metadata": {},
   "source": [
    "### <font color='maroon'>Answer:</p>"
   ]
  },
  {
   "cell_type": "code",
   "execution_count": 30,
   "metadata": {},
   "outputs": [
    {
     "name": "stdout",
     "output_type": "stream",
     "text": [
      "y(2) = 32\n"
     ]
    }
   ],
   "source": [
    "print(\"y(2) =\",f(2))"
   ]
  },
  {
   "cell_type": "markdown",
   "metadata": {},
   "source": [
    "##### Consider the following sequence of numbers:\n",
    "\n",
    "\\begin{equation}\n",
    "    x_0 = 0; ~~~ ~~~ ~~~ ~~ ~~~ ~~~ ~~~ ~~~ ~~~ ~~~ ~~~ ~~ ~~~ ~~~ ~~~ ~~ ~~~ ~~~ ~~~ ~~ ~ ~~~ ~~~ ~~~ ~~ ~~~ ~~~ ~~~ ~~ ~~~ ~~~ ~~~ ~~ ~~~ ~~~ ~~~ ~~ \\\\\n",
    "    x_{n} = x_{n-1} - n; ~~~ \\textit{ if} ~~~ x_{n-1}-n > 0 ~~~ \\textit{ and is not already in the sequence}\\\\\n",
    "    x_{n} = x_{n-1} + n; ~~~ \\textit{ otherwise} ~~~ ~~~ ~~~ ~~~ ~~ ~~~ ~~~ ~~~ ~~~ ~~~ ~ ~~~ ~~~ ~~~ ~~~ ~~~ ~~~ ~ ~~~ ~~~ ~~~~ ~~~ ~~~ ~~~ ~ \\\\\n",
    "\\end{equation}\n",
    "\n",
    "**17.2**: Write a function that returns the nth digit of the above defined sequence. <br>\n",
    "\n",
    "*Note: the above sequence is also known as the Recamán's sequence, and it was invnted by Bernardo Recamán Santos (Bogotá, Colombia)*"
   ]
  },
  {
   "cell_type": "markdown",
   "metadata": {},
   "source": [
    "### <font color='maroon'>Answer:</p>\n",
    "Since we're writing a function that returns a digit of a sequence, we need to make sure its input follows the rules of sequences, such as being an integer and bigger than zero. \n",
    "    \n",
    "So we start by forming a matrix M, where its first element (of index 0) is zero, as stated by the Recamán's sequence, and we create a for loop where we analise \"i\" and add it to M according to the Recamán's sequence's conditions. Then, we finally return the last element of the M matrix, since it's the nth digit that we want."
   ]
  },
  {
   "cell_type": "code",
   "execution_count": 31,
   "metadata": {},
   "outputs": [],
   "source": [
    "def nth(n):\n",
    "    if type(n) != int and n <= 0:\n",
    "        return \"Enter a positive integer\"\n",
    "    M = [0]\n",
    "    for i in range(1,n):\n",
    "        if M[i-1] - i > 0 and M[i-1]-i not in M :\n",
    "            M.append(M[i-1] - i)\n",
    "        else:\n",
    "            M.append(M[i-1] + i)\n",
    "    return M[-1]"
   ]
  },
  {
   "cell_type": "code",
   "execution_count": 32,
   "metadata": {},
   "outputs": [
    {
     "data": {
      "text/plain": [
       "6"
      ]
     },
     "execution_count": 32,
     "metadata": {},
     "output_type": "execute_result"
    }
   ],
   "source": [
    "nth(4)"
   ]
  },
  {
   "cell_type": "markdown",
   "metadata": {},
   "source": [
    "**17.3** Write a function named isPrime that takes an integer as input and outputs True if the number is prime and False if the number if not prime."
   ]
  },
  {
   "cell_type": "markdown",
   "metadata": {},
   "source": [
    "### <font color='maroon'>Answer:</p>\n",
    "Firstly, we need to make sure the input in our isPrime function is an integer. Then, we start by analysing if the reminder of\n",
    "dividing our input number by all the numbers before it is zero. If it is, then our number isn't prime, otherwise it is.\n",
    "\n",
    "On a side note, we start our range on two since every number (prime or not) is dividable by one, and we can't divide a number by zero. In case our number input is two, in the for loop we'll have \"for n in range(2,2)\" which means the loop won't be executed so is jumped straight to \"True\"."
   ]
  },
  {
   "cell_type": "code",
   "execution_count": 33,
   "metadata": {},
   "outputs": [],
   "source": [
    "def isPrime(number):\n",
    "    if type(number) != int:\n",
    "        return(\"Please insert an integer\")\n",
    "    for n in range(2,number):\n",
    "        if number%n == 0:\n",
    "            return False\n",
    "    else: \n",
    "        return True"
   ]
  },
  {
   "cell_type": "markdown",
   "metadata": {},
   "source": [
    "**17.4** Test your function against some examples to show that it works as expected."
   ]
  },
  {
   "cell_type": "code",
   "execution_count": 34,
   "metadata": {},
   "outputs": [
    {
     "data": {
      "text/plain": [
       "False"
      ]
     },
     "execution_count": 34,
     "metadata": {},
     "output_type": "execute_result"
    }
   ],
   "source": [
    "isPrime(6)"
   ]
  },
  {
   "cell_type": "code",
   "execution_count": 35,
   "metadata": {},
   "outputs": [
    {
     "data": {
      "text/plain": [
       "True"
      ]
     },
     "execution_count": 35,
     "metadata": {},
     "output_type": "execute_result"
    }
   ],
   "source": [
    "isPrime(11)"
   ]
  },
  {
   "cell_type": "markdown",
   "metadata": {},
   "source": [
    "## Exercise II - Monty Hall Problem\n"
   ]
  },
  {
   "cell_type": "markdown",
   "metadata": {},
   "source": [
    "**18**: The Monty Hall Problem is a probability puzzle loosely based on the American television game show \"Let's Make a Deal\" and named after its original host, Monty Hall. The puzzle can be stated as follows\n",
    "\n",
    "> Suppose you're on a game show, and you're given the choice of three doors: Behind one door is a car; behind the others, goats. You pick a door, say No. 1, and the host, who knows what's behind the doors, opens another door, say No. 3, which has a goat. He then says to you, \"Do you want to pick door No. 2?\" Is it to your advantage to switch your choice? <br>\n",
    "+info: https://en.wikipedia.org/wiki/Monty_Hall_problem\n",
    "\n",
    "While intuitively your guess might be that the chances of winning the car is 1/3 independently of the choice to switch doors or not. Howewver, the odds of winning if you switch doors are 2/3 and greater than if you decide not to switch. While there are theoretical solutions to this problem that allow us to estimate the correct odds of winning in each scenario -- switching or not doors -- an alternative way to proof such outcome is through computer simulations. That is the goal of this exercise, to write the necessary components to simulate the Monty Hall problem and validate the theoretical results through simulations.\n",
    "\n",
    "In this exercise, start by implementing a function that simulates one instance of the Monty Hall problem. \n",
    "In that sense, write a function called MontyHall that accepts **one argument**:\n",
    "- A boolean (True/False, or 1/0) that specifies if the player switches doors or not (after the host has opened his door, which contains a goat).\n",
    "The function should return True if the player wins the car or False if not.\n",
    "\n",
    "Naturally, for the function to reproduce the contest it needs to consider and perform some actions, such as:\n",
    "- Set up the game, that is, create the necessary variables to store the information about three doors and what they have behind, as well as an indicator to track the choice of the player.\n",
    "- Given the initial choice of the player, simulate the opening of one of the two remaining doors that contains a goat.\n",
    "- Given the last two doors left, simulate if the player wants to switch or not his/her choice given their strategy (defined by the input boolean argument of the function).\n",
    "- Output the result, if the contestant correctly guesses which door hides the car or if not.\n",
    "\n",
    "The function MontyHall should simulate one instance of the contest given the choice of the player (to switch or not).\n",
    "\n",
    "**The goal is to understand, statistically, which action leads to the highest probability of winning.** <br>\n",
    "*Note: You should use the library random to solve this exercise.*"
   ]
  },
  {
   "cell_type": "markdown",
   "metadata": {},
   "source": [
    "### <font color='maroon'>Answer:</p>\n",
    "In the MontyHall problem, the player can only have two strategies. Either switches the door, or doesn't. With this in mind, the input in our function will determine the player's strategy, where \"True\" means he switches the door, and \"False\" he doesn't.\n",
    "\n",
    "Firstly we make sure our input strategy is a boolean, then we define the existence of the prize, creating a variable called prize_choice that will randomnly select between three choices - which means between three doors. After the prize door is established, the player will make his first choice, choosing between the three doors. The host will then open a door, different from the players choice and different from the prize door. \n",
    "\n",
    "Here comes the strategy play, where the player must decide if they keep the first door chosen, or switches the door. So we created an \"if\" loop, where if the player decides to maintain their first choice - *the False strategy* - and its the prize door, he wins the game, otherwise loses. If they decide to switch doors - *the True strategy* - we need to make sure that this second choice is different from the first and different from the host's open door. Then it's the same, if this choice is the prize door, they win, otherwise they lose."
   ]
  },
  {
   "cell_type": "code",
   "execution_count": 36,
   "metadata": {},
   "outputs": [],
   "source": [
    "def MontyHall(strategy):\n",
    "    if type(strategy) != bool:\n",
    "        print(\"Please insert a Boolean\")\n",
    "    prize_choice = random.choice([1,2,3])\n",
    "    first_choice = random.choice([1,2,3])\n",
    "    portas = [1,2,3]\n",
    "    hosts_door = random.choice([p for p in portas if p != first_choice and p!= prize_choice])\n",
    "    if strategy == False:\n",
    "        second_choice = first_choice\n",
    "    else: \n",
    "        second_choice = random.choice([p for p in portas if p != first_choice and p!= hosts_door])\n",
    "    if second_choice == prize_choice:\n",
    "        return True\n",
    "    else:\n",
    "        return False"
   ]
  },
  {
   "cell_type": "code",
   "execution_count": 37,
   "metadata": {
    "scrolled": true
   },
   "outputs": [
    {
     "data": {
      "text/plain": [
       "True"
      ]
     },
     "execution_count": 37,
     "metadata": {},
     "output_type": "execute_result"
    }
   ],
   "source": [
    "MontyHall(True)"
   ]
  },
  {
   "cell_type": "markdown",
   "metadata": {},
   "source": [
    "**18.1** Now that you have a function that simulates an instance of the Monty Hall problem, implement an experiment where you repeat many times (thousands of times) for each of the two possible scenarios: player switching the door, and player not switcing the door. Keep track of the results and estimate the frequencies of wins for each scenario and discuss if the results are inline with the theoretical odds."
   ]
  },
  {
   "cell_type": "markdown",
   "metadata": {},
   "source": [
    "### <font color='maroon'>Answer:</p>\n",
    "Our objective is to count the amount of times the player won by switching the door, and by not switching, in a thousand of tries. This is achieved by calculating the conditional probability for each scenario.\n",
    "\n",
    "So we start by analysing the strategy True - _where the player switches the door_. For each \"True\" output of our MontyHall function, we count it for the amount of tries - in this case, one thousand. To calculate the conditional probability, we need to divide the amount of times the player won by the amount of times the player switch - winning ot not. The theoretical probability is 2/3 - which is 0.666(6) - and our output is 0.6545(45).\n",
    "\n",
    "Then we do the exact same, but for the _strategy False - where the player doesn't switch the door_. The theoretical odd is 1/3 - which is 0.333(3) - and our output is 0.33267. \n",
    "\n",
    "Finally we can conclude that although the results are practically the same, there is a fraction of error that can be expected, since we're only repeating this experiment one thousand of times. So, we can say _we got the expected probabilities_.\n",
    "\n",
    "**Note**: For this exercise we assumed the player might be biased when deciding which strategy to play - this means the probability of switching might not be 1/2, which also means our output probability will vary a little, but never too much."
   ]
  },
  {
   "cell_type": "code",
   "execution_count": 38,
   "metadata": {},
   "outputs": [
    {
     "name": "stdout",
     "output_type": "stream",
     "text": [
      "0.509\n",
      "The probability of winning and switching the door is: 69.18367346938776 %\n",
      "The probability of winning and not switching the door is: 33.33333333333333 %\n"
     ]
    }
   ],
   "source": [
    "switch_and_win = 0\n",
    "dont_switch_and_win = 0\n",
    "switching = 0\n",
    "choices = [False,True]\n",
    "\n",
    "for i in range(1000):\n",
    "    x = random.choice(choices)\n",
    "    if MontyHall(x) == True and x == 1: # MontyHall(x)==T means winning and x==1 means switching.\n",
    "        switch_and_win += 1\n",
    "    if MontyHall(x) == True and x==0:\n",
    "        dont_switch_and_win += 1\n",
    "#Now we'll assume that the player might be biased, meaning the probability of switching isn't 1/2.\n",
    "    if x==1: #everytime the player switched, winning or losing.\n",
    "        switching +=1\n",
    "\n",
    "#Now we'll calculate our conditional probability:\n",
    "\n",
    "prob_winning_and_switching = (switch_and_win / switching)*100\n",
    "prob_winning_and_not_switching = (dont_switch_and_win / (1000 - switching))*100\n",
    "\n",
    "print(\"The probability of winning and switching the door is:\",prob_winning_and_switching, \"%\")\n",
    "print(\"The probability of winning and not switching the door is:\",prob_winning_and_not_switching, \"%\")"
   ]
  },
  {
   "cell_type": "markdown",
   "metadata": {},
   "source": [
    "## Exercise III\n",
    "\n",
    "**19**: Consider the list *A*, declared below. <br>\n",
    "Use the function map() to change the values of A by adding 1 to each value if it is even and subtracting 1 to it otherwise."
   ]
  },
  {
   "cell_type": "code",
   "execution_count": 39,
   "metadata": {},
   "outputs": [],
   "source": [
    "A = [460,3347,3044,490,699,1258,1804,973,2223,3416,2879,1058,2915,2422,351,1543,1020,208,643,795,3337,2585,471,2623,1077]"
   ]
  },
  {
   "cell_type": "markdown",
   "metadata": {},
   "source": [
    "### <font color='maroon'>Answer:</p>\n",
    "The function map() takes two arguments, the first must be a function and the second an iterable that is to be mapped. In this case, we don't need to define a function to make something so trivial - and that we won't be needing again - so we use the function lambda(). The lambda function needs an argument and an expression, as we used.\n",
    "\n",
    "So we're able to confirm that what we want happens, we transform the map function in a list and print it, as you can see below."
   ]
  },
  {
   "cell_type": "code",
   "execution_count": 40,
   "metadata": {},
   "outputs": [
    {
     "name": "stdout",
     "output_type": "stream",
     "text": [
      "[461, 3346, 3045, 491, 698, 1259, 1805, 972, 2222, 3417, 2878, 1059, 2914, 2423, 350, 1542, 1021, 209, 642, 794, 3336, 2584, 470, 2622, 1076]\n"
     ]
    }
   ],
   "source": [
    "A = list(map(lambda x: x+1 if x%2 == 0 else x-1, A))\n",
    "print(A)"
   ]
  },
  {
   "cell_type": "markdown",
   "metadata": {},
   "source": [
    "**20**: Create a list B with the same size of A, where each element is True if the associated value in list A is greater than 700, else is False."
   ]
  },
  {
   "cell_type": "code",
   "execution_count": 41,
   "metadata": {},
   "outputs": [
    {
     "name": "stdout",
     "output_type": "stream",
     "text": [
      "[False, True, True, False, False, True, True, True, True, True, True, True, True, True, False, True, True, False, False, True, True, True, False, True, True]\n"
     ]
    }
   ],
   "source": [
    "B = list(map(lambda x: x > 700, A))\n",
    "print(B)"
   ]
  },
  {
   "cell_type": "markdown",
   "metadata": {},
   "source": [
    "**21**: Create a list L that contains the Logarithm of base 10 of each value in A. <br>\n",
    "\n",
    "*Note: You should use the module math to solve this exercise.*"
   ]
  },
  {
   "cell_type": "markdown",
   "metadata": {},
   "source": [
    "### <font color='maroon'>Answer:</p>\n",
    "In this exercise, we don't need the lambda function like before, since \"math.log10\" is already a function."
   ]
  },
  {
   "cell_type": "code",
   "execution_count": 42,
   "metadata": {},
   "outputs": [
    {
     "name": "stdout",
     "output_type": "stream",
     "text": [
      "[2.663700925389648, 3.5245259366263757, 3.4835872969688944, 2.6910814921229687, 2.843855422623161, 3.1000257301078626, 3.256477206241677, 2.9876662649262746, 3.346744054604849, 3.5336449787987627, 3.4590907896005865, 3.024895960107485, 3.4644895474339714, 3.384353414137506, 2.5440680443502757, 3.188084373714938, 3.0090257420869104, 2.3201462861110542, 2.807535028068853, 2.8998205024270964, 3.523226041965701, 3.4122925093230463, 2.6720978579357175, 3.4186326873540653, 3.0318122713303706]\n"
     ]
    }
   ],
   "source": [
    "import math\n",
    "\n",
    "L = list(map(math.log10, A))\n",
    "print(L)"
   ]
  },
  {
   "cell_type": "markdown",
   "metadata": {},
   "source": [
    "**22**: How many numbers in A are greater than 1000? <br>\n",
    "\n",
    "*Note: You should use the function filter().*"
   ]
  },
  {
   "cell_type": "markdown",
   "metadata": {},
   "source": [
    "### <font color='maroon'>Answer:</p>\n",
    "The function filter() needs two arguments, a function and a sequence that will be filtered. In this case, we define a function called greater and use the list A as our sequence. Answering the problem's question, we count how many elements are in the list \"filtering_A\"."
   ]
  },
  {
   "cell_type": "code",
   "execution_count": 43,
   "metadata": {},
   "outputs": [
    {
     "name": "stdout",
     "output_type": "stream",
     "text": [
      "There are 16 numbers bigger than 1000 in A.\n"
     ]
    }
   ],
   "source": [
    "def greater(a):\n",
    "    if a > 1000:\n",
    "        return True\n",
    "    else:\n",
    "        return False\n",
    "    \n",
    "filtering_A = list(filter(greater, A))\n",
    "print(\"There are\", len(filtering_A), \"numbers bigger than 1000 in A.\")"
   ]
  },
  {
   "cell_type": "markdown",
   "metadata": {},
   "source": [
    "**23.** Use the function isPrime, that you declared in 17.3, to identify which numbers from A are prime. Note that depending on your implementation of isPrime this task can take more or less time. Use filter to achieve this task."
   ]
  },
  {
   "cell_type": "code",
   "execution_count": 44,
   "metadata": {},
   "outputs": [
    {
     "name": "stdout",
     "output_type": "stream",
     "text": [
      "[461, 491, 1259, 2423, 1021]\n"
     ]
    }
   ],
   "source": [
    "A_Primes = filter(isPrime, A)\n",
    "print(list(A_Primes))"
   ]
  },
  {
   "cell_type": "markdown",
   "metadata": {},
   "source": [
    "### Congratulations, it is done!"
   ]
  },
  {
   "cell_type": "markdown",
   "metadata": {},
   "source": [
    "![LEO_GOOD_JOB](https://www.idlememe.com/wp-content/uploads/2022/01/good-job-meme-idlememe-3.jpg)"
   ]
  }
 ],
 "metadata": {
  "kernelspec": {
   "display_name": "Python 3 (ipykernel)",
   "language": "python",
   "name": "python3"
  },
  "language_info": {
   "codemirror_mode": {
    "name": "ipython",
    "version": 3
   },
   "file_extension": ".py",
   "mimetype": "text/x-python",
   "name": "python",
   "nbconvert_exporter": "python",
   "pygments_lexer": "ipython3",
   "version": "3.11.4"
  }
 },
 "nbformat": 4,
 "nbformat_minor": 4
}
