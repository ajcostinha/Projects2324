{
  "cells": [
    {
      "cell_type": "code",
      "execution_count": 3,
      "metadata": {
        "colab": {
          "base_uri": "https://localhost:8080/"
        },
        "id": "5pNO5sfbSO_4",
        "outputId": "f544b17b-47ca-4660-dfc0-af8593f344ce"
      },
      "outputs": [
        {
          "name": "stdout",
          "output_type": "stream",
          "text": [
            "Mounted at /content/drive\n"
          ]
        }
      ],
      "source": [
        "import keras\n",
        "import tensorflow\n",
        "from keras.models import Sequential\n",
        "from keras.layers import Dense\n",
        "import pandas as pd\n",
        "\n",
        "from google.colab import drive\n",
        "#drive.flush_and_unmount()\n",
        "drive.mount(\"/content/drive\")"
      ]
    },
    {
      "cell_type": "code",
      "execution_count": 1,
      "metadata": {
        "id": "SEDqWNzUB54F"
      },
      "outputs": [],
      "source": [
        "import keras\n",
        "import pandas as pd\n",
        "\n",
        "import os\n",
        "import requests\n",
        "\n",
        "import shutil\n",
        "import random\n",
        "from math import floor\n",
        "from PIL import Image\n",
        "\n",
        "from tensorflow.keras.preprocessing.image import ImageDataGenerator\n",
        "from tensorflow.keras.layers import Dropout\n",
        "from tensorflow.keras import models\n",
        "from tensorflow.keras import layers\n",
        "from tensorflow.keras import optimizers\n",
        "from keras.models import Sequential\n",
        "from keras.layers import Dense\n",
        "\n",
        "import tensorflow as tf\n",
        "import tensorflow.keras\n",
        "import numpy as np\n",
        "from sklearn.preprocessing import LabelEncoder\n",
        "from sklearn.model_selection import train_test_split\n",
        "from tensorflow.keras.utils import to_categorical\n",
        "from sklearn.utils.class_weight import compute_class_weight\n",
        "\n",
        "import matplotlib.pyplot as plt\n",
        "\n",
        "import numpy as np\n",
        "import pandas as pd\n",
        "from sklearn.preprocessing import LabelEncoder\n",
        "from sklearn.model_selection import train_test_split\n",
        "from tensorflow.keras.utils import to_categorical\n",
        "from sklearn.utils.class_weight import compute_class_weight"
      ]
    },
    {
      "cell_type": "code",
      "execution_count": 4,
      "metadata": {
        "colab": {
          "base_uri": "https://localhost:8080/"
        },
        "id": "t_CuaNQlhBKb",
        "outputId": "ca21d802-f023-40cd-c7d7-84b99e991042"
      },
      "outputs": [
        {
          "name": "stdout",
          "output_type": "stream",
          "text": [
            "Requirement already satisfied: q in /usr/local/lib/python3.10/dist-packages (2.7)\n",
            "Requirement already satisfied: keras==3.2.1 in /usr/local/lib/python3.10/dist-packages (3.2.1)\n",
            "Requirement already satisfied: absl-py in /usr/local/lib/python3.10/dist-packages (from keras==3.2.1) (1.4.0)\n",
            "Requirement already satisfied: numpy in /usr/local/lib/python3.10/dist-packages (from keras==3.2.1) (1.25.2)\n",
            "Requirement already satisfied: rich in /usr/local/lib/python3.10/dist-packages (from keras==3.2.1) (13.7.1)\n",
            "Requirement already satisfied: namex in /usr/local/lib/python3.10/dist-packages (from keras==3.2.1) (0.0.8)\n",
            "Requirement already satisfied: h5py in /usr/local/lib/python3.10/dist-packages (from keras==3.2.1) (3.9.0)\n",
            "Requirement already satisfied: optree in /usr/local/lib/python3.10/dist-packages (from keras==3.2.1) (0.11.0)\n",
            "Requirement already satisfied: ml-dtypes in /usr/local/lib/python3.10/dist-packages (from keras==3.2.1) (0.2.0)\n",
            "Requirement already satisfied: typing-extensions>=4.0.0 in /usr/local/lib/python3.10/dist-packages (from optree->keras==3.2.1) (4.11.0)\n",
            "Requirement already satisfied: markdown-it-py>=2.2.0 in /usr/local/lib/python3.10/dist-packages (from rich->keras==3.2.1) (3.0.0)\n",
            "Requirement already satisfied: pygments<3.0.0,>=2.13.0 in /usr/local/lib/python3.10/dist-packages (from rich->keras==3.2.1) (2.16.1)\n",
            "Requirement already satisfied: mdurl~=0.1 in /usr/local/lib/python3.10/dist-packages (from markdown-it-py>=2.2.0->rich->keras==3.2.1) (0.1.2)\n"
          ]
        }
      ],
      "source": [
        "#!pip install q keras==3.2.1"
      ]
    },
    {
      "cell_type": "code",
      "execution_count": 6,
      "metadata": {
        "colab": {
          "base_uri": "https://localhost:8080/"
        },
        "id": "rVuAdGekHUvW",
        "outputId": "1dbc2a3f-de16-4357-df3f-0c60030484bf"
      },
      "outputs": [
        {
          "name": "stdout",
          "output_type": "stream",
          "text": [
            "Archive:  /content/drive/My Drive/Fac/DL2/new_dataset_arrays.zip\n",
            "  inflating: /content/new_dataset_arrays.pkl  \n"
          ]
        }
      ],
      "source": [
        "!unzip \"/content/drive/My Drive/Fac/DL2/new_dataset_arrays.zip\" -d \"/content\""
      ]
    },
    {
      "cell_type": "code",
      "execution_count": 7,
      "metadata": {
        "id": "qO0IGMh5BQzF"
      },
      "outputs": [],
      "source": [
        "\n",
        "pickle_file_path = '/content/new_dataset_arrays.pkl'\n",
        "df = pd.read_pickle(pickle_file_path)"
      ]
    },
    {
      "cell_type": "code",
      "execution_count": 8,
      "metadata": {
        "colab": {
          "base_uri": "https://localhost:8080/",
          "height": 153
        },
        "id": "b4c0hFvrH0jF",
        "outputId": "42fc4f31-49d1-403c-e6ab-14bc2b2b1679"
      },
      "outputs": [
        {
          "data": {
            "application/vnd.google.colaboratory.intrinsic+json": {
              "summary": "{\n  \"name\": \"df\",\n  \"rows\": 16506,\n  \"fields\": [\n    {\n      \"column\": \"md5hash\",\n      \"properties\": {\n        \"dtype\": \"string\",\n        \"num_unique_values\": 16506,\n        \"samples\": [\n          \"7bea5460d1e522ef183f4da647da4f8f\",\n          \"a9a8e1bda61bd6d24d074b571fec6853\",\n          \"e76e989e715f392a80b223b0236415e5\"\n        ],\n        \"semantic_type\": \"\",\n        \"description\": \"\"\n      }\n    },\n    {\n      \"column\": \"fitzpatrick_scale\",\n      \"properties\": {\n        \"dtype\": \"number\",\n        \"std\": 1,\n        \"min\": -1,\n        \"max\": 6,\n        \"num_unique_values\": 7,\n        \"samples\": [\n          3,\n          1,\n          -1\n        ],\n        \"semantic_type\": \"\",\n        \"description\": \"\"\n      }\n    },\n    {\n      \"column\": \"fitzpatrick_centaur\",\n      \"properties\": {\n        \"dtype\": \"number\",\n        \"std\": 1,\n        \"min\": -1,\n        \"max\": 6,\n        \"num_unique_values\": 7,\n        \"samples\": [\n          3,\n          1,\n          -1\n        ],\n        \"semantic_type\": \"\",\n        \"description\": \"\"\n      }\n    },\n    {\n      \"column\": \"label\",\n      \"properties\": {\n        \"dtype\": \"category\",\n        \"num_unique_values\": 114,\n        \"samples\": [\n          \"lymphangioma\",\n          \"kaposi sarcoma\",\n          \"erythema nodosum\"\n        ],\n        \"semantic_type\": \"\",\n        \"description\": \"\"\n      }\n    },\n    {\n      \"column\": \"nine_partition_label\",\n      \"properties\": {\n        \"dtype\": \"category\",\n        \"num_unique_values\": 9,\n        \"samples\": [\n          \"benign melanocyte\",\n          \"benign dermal\",\n          \"malignant epidermal\"\n        ],\n        \"semantic_type\": \"\",\n        \"description\": \"\"\n      }\n    },\n    {\n      \"column\": \"three_partition_label\",\n      \"properties\": {\n        \"dtype\": \"category\",\n        \"num_unique_values\": 3,\n        \"samples\": [\n          \"non-neoplastic\",\n          \"benign\",\n          \"malignant\"\n        ],\n        \"semantic_type\": \"\",\n        \"description\": \"\"\n      }\n    },\n    {\n      \"column\": \"qc\",\n      \"properties\": {\n        \"dtype\": \"category\",\n        \"num_unique_values\": 4,\n        \"samples\": [\n          \"5 Potentially\",\n          \"4 Other\",\n          \"1 Diagnostic\"\n        ],\n        \"semantic_type\": \"\",\n        \"description\": \"\"\n      }\n    },\n    {\n      \"column\": \"url\",\n      \"properties\": {\n        \"dtype\": \"string\",\n        \"num_unique_values\": 16506,\n        \"samples\": [\n          \"https://www.dermaamin.com/site/images/clinical-pic/s/solar-urticaria/solar-urticaria1.jpg\",\n          \"http://atlasdermatologico.com.br/img?imageId=2164\",\n          \"https://www.dermaamin.com/site/images/clinical-pic/p/prurigo_nodularis/prurigo_nodularis50.jpg\"\n        ],\n        \"semantic_type\": \"\",\n        \"description\": \"\"\n      }\n    },\n    {\n      \"column\": \"url_alphanum\",\n      \"properties\": {\n        \"dtype\": \"string\",\n        \"num_unique_values\": 16506,\n        \"samples\": [\n          \"httpwwwdermaamincomsiteimagesclinicalpicssolarurticariasolarurticaria1jpg.jpg\",\n          \"httpwwwatlasdermatologicocombrimgimageId2164.jpg\",\n          \"httpwwwdermaamincomsiteimagesclinicalpicpprurigonodularisprurigonodularis50jpg.jpg\"\n        ],\n        \"semantic_type\": \"\",\n        \"description\": \"\"\n      }\n    },\n    {\n      \"column\": \"filename\",\n      \"properties\": {\n        \"dtype\": \"string\",\n        \"num_unique_values\": 16506,\n        \"samples\": [\n          \"solar-urticaria1.jpg\",\n          \"img_imageId=2164.jpg\",\n          \"prurigo_nodularis50.jpg\"\n        ],\n        \"semantic_type\": \"\",\n        \"description\": \"\"\n      }\n    },\n    {\n      \"column\": \"image_path\",\n      \"properties\": {\n        \"dtype\": \"string\",\n        \"num_unique_values\": 16506,\n        \"samples\": [\n          \"C:\\\\Users\\\\afspf\\\\Documents\\\\FAC\\\\2nd semester\\\\DL\\\\Project\\\\all_images\\\\all_images\\\\solar-urticaria1.jpg\",\n          \"C:\\\\Users\\\\afspf\\\\Documents\\\\FAC\\\\2nd semester\\\\DL\\\\Project\\\\all_images\\\\all_images\\\\img_imageId=2164.jpg\",\n          \"C:\\\\Users\\\\afspf\\\\Documents\\\\FAC\\\\2nd semester\\\\DL\\\\Project\\\\all_images\\\\all_images\\\\prurigo_nodularis50.jpg\"\n        ],\n        \"semantic_type\": \"\",\n        \"description\": \"\"\n      }\n    },\n    {\n      \"column\": \"image_array_sq\",\n      \"properties\": {\n        \"dtype\": \"object\",\n        \"semantic_type\": \"\",\n        \"description\": \"\"\n      }\n    },\n    {\n      \"column\": \"is_grayscale\",\n      \"properties\": {\n        \"dtype\": \"boolean\",\n        \"num_unique_values\": 1,\n        \"samples\": [\n          false\n        ],\n        \"semantic_type\": \"\",\n        \"description\": \"\"\n      }\n    }\n  ]\n}",
              "type": "dataframe",
              "variable_name": "df"
            },
            "text/html": [
              "\n",
              "  <div id=\"df-9c2ce805-7f61-444e-9265-7c1f1bc091cf\" class=\"colab-df-container\">\n",
              "    <div>\n",
              "<style scoped>\n",
              "    .dataframe tbody tr th:only-of-type {\n",
              "        vertical-align: middle;\n",
              "    }\n",
              "\n",
              "    .dataframe tbody tr th {\n",
              "        vertical-align: top;\n",
              "    }\n",
              "\n",
              "    .dataframe thead th {\n",
              "        text-align: right;\n",
              "    }\n",
              "</style>\n",
              "<table border=\"1\" class=\"dataframe\">\n",
              "  <thead>\n",
              "    <tr style=\"text-align: right;\">\n",
              "      <th></th>\n",
              "      <th>md5hash</th>\n",
              "      <th>fitzpatrick_scale</th>\n",
              "      <th>fitzpatrick_centaur</th>\n",
              "      <th>label</th>\n",
              "      <th>nine_partition_label</th>\n",
              "      <th>three_partition_label</th>\n",
              "      <th>qc</th>\n",
              "      <th>url</th>\n",
              "      <th>url_alphanum</th>\n",
              "      <th>filename</th>\n",
              "      <th>image_path</th>\n",
              "      <th>image_array_sq</th>\n",
              "      <th>is_grayscale</th>\n",
              "    </tr>\n",
              "  </thead>\n",
              "  <tbody>\n",
              "    <tr>\n",
              "      <th>0</th>\n",
              "      <td>5e82a45bc5d78bd24ae9202d194423f8</td>\n",
              "      <td>3</td>\n",
              "      <td>3</td>\n",
              "      <td>drug induced pigmentary changes</td>\n",
              "      <td>inflammatory</td>\n",
              "      <td>non-neoplastic</td>\n",
              "      <td>NaN</td>\n",
              "      <td>https://www.dermaamin.com/site/images/clinical...</td>\n",
              "      <td>httpwwwdermaamincomsiteimagesclinicalpicmminoc...</td>\n",
              "      <td>minocycline-pigmentation1.jpg</td>\n",
              "      <td>C:\\Users\\afspf\\Documents\\FAC\\2nd semester\\DL\\P...</td>\n",
              "      <td>[[[169, 180, 190], [171, 181, 193], [174, 182,...</td>\n",
              "      <td>False</td>\n",
              "    </tr>\n",
              "  </tbody>\n",
              "</table>\n",
              "</div>\n",
              "    <div class=\"colab-df-buttons\">\n",
              "\n",
              "  <div class=\"colab-df-container\">\n",
              "    <button class=\"colab-df-convert\" onclick=\"convertToInteractive('df-9c2ce805-7f61-444e-9265-7c1f1bc091cf')\"\n",
              "            title=\"Convert this dataframe to an interactive table.\"\n",
              "            style=\"display:none;\">\n",
              "\n",
              "  <svg xmlns=\"http://www.w3.org/2000/svg\" height=\"24px\" viewBox=\"0 -960 960 960\">\n",
              "    <path d=\"M120-120v-720h720v720H120Zm60-500h600v-160H180v160Zm220 220h160v-160H400v160Zm0 220h160v-160H400v160ZM180-400h160v-160H180v160Zm440 0h160v-160H620v160ZM180-180h160v-160H180v160Zm440 0h160v-160H620v160Z\"/>\n",
              "  </svg>\n",
              "    </button>\n",
              "\n",
              "  <style>\n",
              "    .colab-df-container {\n",
              "      display:flex;\n",
              "      gap: 12px;\n",
              "    }\n",
              "\n",
              "    .colab-df-convert {\n",
              "      background-color: #E8F0FE;\n",
              "      border: none;\n",
              "      border-radius: 50%;\n",
              "      cursor: pointer;\n",
              "      display: none;\n",
              "      fill: #1967D2;\n",
              "      height: 32px;\n",
              "      padding: 0 0 0 0;\n",
              "      width: 32px;\n",
              "    }\n",
              "\n",
              "    .colab-df-convert:hover {\n",
              "      background-color: #E2EBFA;\n",
              "      box-shadow: 0px 1px 2px rgba(60, 64, 67, 0.3), 0px 1px 3px 1px rgba(60, 64, 67, 0.15);\n",
              "      fill: #174EA6;\n",
              "    }\n",
              "\n",
              "    .colab-df-buttons div {\n",
              "      margin-bottom: 4px;\n",
              "    }\n",
              "\n",
              "    [theme=dark] .colab-df-convert {\n",
              "      background-color: #3B4455;\n",
              "      fill: #D2E3FC;\n",
              "    }\n",
              "\n",
              "    [theme=dark] .colab-df-convert:hover {\n",
              "      background-color: #434B5C;\n",
              "      box-shadow: 0px 1px 3px 1px rgba(0, 0, 0, 0.15);\n",
              "      filter: drop-shadow(0px 1px 2px rgba(0, 0, 0, 0.3));\n",
              "      fill: #FFFFFF;\n",
              "    }\n",
              "  </style>\n",
              "\n",
              "    <script>\n",
              "      const buttonEl =\n",
              "        document.querySelector('#df-9c2ce805-7f61-444e-9265-7c1f1bc091cf button.colab-df-convert');\n",
              "      buttonEl.style.display =\n",
              "        google.colab.kernel.accessAllowed ? 'block' : 'none';\n",
              "\n",
              "      async function convertToInteractive(key) {\n",
              "        const element = document.querySelector('#df-9c2ce805-7f61-444e-9265-7c1f1bc091cf');\n",
              "        const dataTable =\n",
              "          await google.colab.kernel.invokeFunction('convertToInteractive',\n",
              "                                                    [key], {});\n",
              "        if (!dataTable) return;\n",
              "\n",
              "        const docLinkHtml = 'Like what you see? Visit the ' +\n",
              "          '<a target=\"_blank\" href=https://colab.research.google.com/notebooks/data_table.ipynb>data table notebook</a>'\n",
              "          + ' to learn more about interactive tables.';\n",
              "        element.innerHTML = '';\n",
              "        dataTable['output_type'] = 'display_data';\n",
              "        await google.colab.output.renderOutput(dataTable, element);\n",
              "        const docLink = document.createElement('div');\n",
              "        docLink.innerHTML = docLinkHtml;\n",
              "        element.appendChild(docLink);\n",
              "      }\n",
              "    </script>\n",
              "  </div>\n",
              "\n",
              "    </div>\n",
              "  </div>\n"
            ],
            "text/plain": [
              "                            md5hash  fitzpatrick_scale  fitzpatrick_centaur  \\\n",
              "0  5e82a45bc5d78bd24ae9202d194423f8                  3                    3   \n",
              "\n",
              "                             label nine_partition_label three_partition_label  \\\n",
              "0  drug induced pigmentary changes         inflammatory        non-neoplastic   \n",
              "\n",
              "    qc                                                url  \\\n",
              "0  NaN  https://www.dermaamin.com/site/images/clinical...   \n",
              "\n",
              "                                        url_alphanum  \\\n",
              "0  httpwwwdermaamincomsiteimagesclinicalpicmminoc...   \n",
              "\n",
              "                        filename  \\\n",
              "0  minocycline-pigmentation1.jpg   \n",
              "\n",
              "                                          image_path  \\\n",
              "0  C:\\Users\\afspf\\Documents\\FAC\\2nd semester\\DL\\P...   \n",
              "\n",
              "                                      image_array_sq  is_grayscale  \n",
              "0  [[[169, 180, 190], [171, 181, 193], [174, 182,...         False  "
            ]
          },
          "execution_count": 8,
          "metadata": {},
          "output_type": "execute_result"
        }
      ],
      "source": [
        "df.head(1)"
      ]
    },
    {
      "cell_type": "code",
      "execution_count": 9,
      "metadata": {
        "id": "WRIj9B16H4Ql"
      },
      "outputs": [],
      "source": [
        "dataset = df.copy()"
      ]
    },
    {
      "cell_type": "code",
      "execution_count": 10,
      "metadata": {
        "id": "K27mJrtuwLJ9"
      },
      "outputs": [],
      "source": [
        "label_encoder = LabelEncoder()\n",
        "dataset['label_encoded'] = label_encoder.fit_transform(dataset['label'])\n",
        "\n",
        "X = np.stack(dataset['image_array_sq'].values)\n",
        "y = dataset['label_encoded'].values\n",
        "\n",
        "X_train, X_temp, y_train, y_temp = train_test_split(X, y, test_size=0.25, random_state=42, stratify=y)\n",
        "X_val, X_test, y_val, y_test = train_test_split(X_temp, y_temp, test_size=0.4, random_state=42, stratify=y_temp)\n",
        "\n",
        "y_train_encoded = to_categorical(y_train, num_classes=len(label_encoder.classes_))\n",
        "y_val_encoded = to_categorical(y_val, num_classes=len(label_encoder.classes_))\n",
        "y_test_encoded = to_categorical(y_test, num_classes=len(label_encoder.classes_))\n",
        "\n",
        "class_weights = compute_class_weight('balanced', classes=np.unique(y_train), y=y_train)\n",
        "class_weights_dict = {i : class_weights[i] for i in range(len(class_weights))}\n"
      ]
    },
    {
      "cell_type": "code",
      "execution_count": 11,
      "metadata": {
        "colab": {
          "base_uri": "https://localhost:8080/",
          "height": 153
        },
        "id": "TWURjdJD4msT",
        "outputId": "4d87c522-fd9e-4774-fb3e-28fcaa57391d"
      },
      "outputs": [
        {
          "data": {
            "application/vnd.google.colaboratory.intrinsic+json": {
              "summary": "{\n  \"name\": \"dataset\",\n  \"rows\": 16506,\n  \"fields\": [\n    {\n      \"column\": \"md5hash\",\n      \"properties\": {\n        \"dtype\": \"string\",\n        \"num_unique_values\": 16506,\n        \"samples\": [\n          \"7bea5460d1e522ef183f4da647da4f8f\",\n          \"a9a8e1bda61bd6d24d074b571fec6853\",\n          \"e76e989e715f392a80b223b0236415e5\"\n        ],\n        \"semantic_type\": \"\",\n        \"description\": \"\"\n      }\n    },\n    {\n      \"column\": \"fitzpatrick_scale\",\n      \"properties\": {\n        \"dtype\": \"number\",\n        \"std\": 1,\n        \"min\": -1,\n        \"max\": 6,\n        \"num_unique_values\": 7,\n        \"samples\": [\n          3,\n          1,\n          -1\n        ],\n        \"semantic_type\": \"\",\n        \"description\": \"\"\n      }\n    },\n    {\n      \"column\": \"fitzpatrick_centaur\",\n      \"properties\": {\n        \"dtype\": \"number\",\n        \"std\": 1,\n        \"min\": -1,\n        \"max\": 6,\n        \"num_unique_values\": 7,\n        \"samples\": [\n          3,\n          1,\n          -1\n        ],\n        \"semantic_type\": \"\",\n        \"description\": \"\"\n      }\n    },\n    {\n      \"column\": \"label\",\n      \"properties\": {\n        \"dtype\": \"category\",\n        \"num_unique_values\": 114,\n        \"samples\": [\n          \"lymphangioma\",\n          \"kaposi sarcoma\",\n          \"erythema nodosum\"\n        ],\n        \"semantic_type\": \"\",\n        \"description\": \"\"\n      }\n    },\n    {\n      \"column\": \"nine_partition_label\",\n      \"properties\": {\n        \"dtype\": \"category\",\n        \"num_unique_values\": 9,\n        \"samples\": [\n          \"benign melanocyte\",\n          \"benign dermal\",\n          \"malignant epidermal\"\n        ],\n        \"semantic_type\": \"\",\n        \"description\": \"\"\n      }\n    },\n    {\n      \"column\": \"three_partition_label\",\n      \"properties\": {\n        \"dtype\": \"category\",\n        \"num_unique_values\": 3,\n        \"samples\": [\n          \"non-neoplastic\",\n          \"benign\",\n          \"malignant\"\n        ],\n        \"semantic_type\": \"\",\n        \"description\": \"\"\n      }\n    },\n    {\n      \"column\": \"qc\",\n      \"properties\": {\n        \"dtype\": \"category\",\n        \"num_unique_values\": 4,\n        \"samples\": [\n          \"5 Potentially\",\n          \"4 Other\",\n          \"1 Diagnostic\"\n        ],\n        \"semantic_type\": \"\",\n        \"description\": \"\"\n      }\n    },\n    {\n      \"column\": \"url\",\n      \"properties\": {\n        \"dtype\": \"string\",\n        \"num_unique_values\": 16506,\n        \"samples\": [\n          \"https://www.dermaamin.com/site/images/clinical-pic/s/solar-urticaria/solar-urticaria1.jpg\",\n          \"http://atlasdermatologico.com.br/img?imageId=2164\",\n          \"https://www.dermaamin.com/site/images/clinical-pic/p/prurigo_nodularis/prurigo_nodularis50.jpg\"\n        ],\n        \"semantic_type\": \"\",\n        \"description\": \"\"\n      }\n    },\n    {\n      \"column\": \"url_alphanum\",\n      \"properties\": {\n        \"dtype\": \"string\",\n        \"num_unique_values\": 16506,\n        \"samples\": [\n          \"httpwwwdermaamincomsiteimagesclinicalpicssolarurticariasolarurticaria1jpg.jpg\",\n          \"httpwwwatlasdermatologicocombrimgimageId2164.jpg\",\n          \"httpwwwdermaamincomsiteimagesclinicalpicpprurigonodularisprurigonodularis50jpg.jpg\"\n        ],\n        \"semantic_type\": \"\",\n        \"description\": \"\"\n      }\n    },\n    {\n      \"column\": \"filename\",\n      \"properties\": {\n        \"dtype\": \"string\",\n        \"num_unique_values\": 16506,\n        \"samples\": [\n          \"solar-urticaria1.jpg\",\n          \"img_imageId=2164.jpg\",\n          \"prurigo_nodularis50.jpg\"\n        ],\n        \"semantic_type\": \"\",\n        \"description\": \"\"\n      }\n    },\n    {\n      \"column\": \"image_path\",\n      \"properties\": {\n        \"dtype\": \"string\",\n        \"num_unique_values\": 16506,\n        \"samples\": [\n          \"C:\\\\Users\\\\afspf\\\\Documents\\\\FAC\\\\2nd semester\\\\DL\\\\Project\\\\all_images\\\\all_images\\\\solar-urticaria1.jpg\",\n          \"C:\\\\Users\\\\afspf\\\\Documents\\\\FAC\\\\2nd semester\\\\DL\\\\Project\\\\all_images\\\\all_images\\\\img_imageId=2164.jpg\",\n          \"C:\\\\Users\\\\afspf\\\\Documents\\\\FAC\\\\2nd semester\\\\DL\\\\Project\\\\all_images\\\\all_images\\\\prurigo_nodularis50.jpg\"\n        ],\n        \"semantic_type\": \"\",\n        \"description\": \"\"\n      }\n    },\n    {\n      \"column\": \"image_array_sq\",\n      \"properties\": {\n        \"dtype\": \"object\",\n        \"semantic_type\": \"\",\n        \"description\": \"\"\n      }\n    },\n    {\n      \"column\": \"is_grayscale\",\n      \"properties\": {\n        \"dtype\": \"boolean\",\n        \"num_unique_values\": 1,\n        \"samples\": [\n          false\n        ],\n        \"semantic_type\": \"\",\n        \"description\": \"\"\n      }\n    },\n    {\n      \"column\": \"label_encoded\",\n      \"properties\": {\n        \"dtype\": \"number\",\n        \"std\": 32,\n        \"min\": 0,\n        \"max\": 113,\n        \"num_unique_values\": 114,\n        \"samples\": [\n          54\n        ],\n        \"semantic_type\": \"\",\n        \"description\": \"\"\n      }\n    }\n  ]\n}",
              "type": "dataframe",
              "variable_name": "dataset"
            },
            "text/html": [
              "\n",
              "  <div id=\"df-6821c565-a46c-4f61-8b28-01185effedf9\" class=\"colab-df-container\">\n",
              "    <div>\n",
              "<style scoped>\n",
              "    .dataframe tbody tr th:only-of-type {\n",
              "        vertical-align: middle;\n",
              "    }\n",
              "\n",
              "    .dataframe tbody tr th {\n",
              "        vertical-align: top;\n",
              "    }\n",
              "\n",
              "    .dataframe thead th {\n",
              "        text-align: right;\n",
              "    }\n",
              "</style>\n",
              "<table border=\"1\" class=\"dataframe\">\n",
              "  <thead>\n",
              "    <tr style=\"text-align: right;\">\n",
              "      <th></th>\n",
              "      <th>md5hash</th>\n",
              "      <th>fitzpatrick_scale</th>\n",
              "      <th>fitzpatrick_centaur</th>\n",
              "      <th>label</th>\n",
              "      <th>nine_partition_label</th>\n",
              "      <th>three_partition_label</th>\n",
              "      <th>qc</th>\n",
              "      <th>url</th>\n",
              "      <th>url_alphanum</th>\n",
              "      <th>filename</th>\n",
              "      <th>image_path</th>\n",
              "      <th>image_array_sq</th>\n",
              "      <th>is_grayscale</th>\n",
              "      <th>label_encoded</th>\n",
              "    </tr>\n",
              "  </thead>\n",
              "  <tbody>\n",
              "    <tr>\n",
              "      <th>0</th>\n",
              "      <td>5e82a45bc5d78bd24ae9202d194423f8</td>\n",
              "      <td>3</td>\n",
              "      <td>3</td>\n",
              "      <td>drug induced pigmentary changes</td>\n",
              "      <td>inflammatory</td>\n",
              "      <td>non-neoplastic</td>\n",
              "      <td>NaN</td>\n",
              "      <td>https://www.dermaamin.com/site/images/clinical...</td>\n",
              "      <td>httpwwwdermaamincomsiteimagesclinicalpicmminoc...</td>\n",
              "      <td>minocycline-pigmentation1.jpg</td>\n",
              "      <td>C:\\Users\\afspf\\Documents\\FAC\\2nd semester\\DL\\P...</td>\n",
              "      <td>[[[169, 180, 190], [171, 181, 193], [174, 182,...</td>\n",
              "      <td>False</td>\n",
              "      <td>20</td>\n",
              "    </tr>\n",
              "  </tbody>\n",
              "</table>\n",
              "</div>\n",
              "    <div class=\"colab-df-buttons\">\n",
              "\n",
              "  <div class=\"colab-df-container\">\n",
              "    <button class=\"colab-df-convert\" onclick=\"convertToInteractive('df-6821c565-a46c-4f61-8b28-01185effedf9')\"\n",
              "            title=\"Convert this dataframe to an interactive table.\"\n",
              "            style=\"display:none;\">\n",
              "\n",
              "  <svg xmlns=\"http://www.w3.org/2000/svg\" height=\"24px\" viewBox=\"0 -960 960 960\">\n",
              "    <path d=\"M120-120v-720h720v720H120Zm60-500h600v-160H180v160Zm220 220h160v-160H400v160Zm0 220h160v-160H400v160ZM180-400h160v-160H180v160Zm440 0h160v-160H620v160ZM180-180h160v-160H180v160Zm440 0h160v-160H620v160Z\"/>\n",
              "  </svg>\n",
              "    </button>\n",
              "\n",
              "  <style>\n",
              "    .colab-df-container {\n",
              "      display:flex;\n",
              "      gap: 12px;\n",
              "    }\n",
              "\n",
              "    .colab-df-convert {\n",
              "      background-color: #E8F0FE;\n",
              "      border: none;\n",
              "      border-radius: 50%;\n",
              "      cursor: pointer;\n",
              "      display: none;\n",
              "      fill: #1967D2;\n",
              "      height: 32px;\n",
              "      padding: 0 0 0 0;\n",
              "      width: 32px;\n",
              "    }\n",
              "\n",
              "    .colab-df-convert:hover {\n",
              "      background-color: #E2EBFA;\n",
              "      box-shadow: 0px 1px 2px rgba(60, 64, 67, 0.3), 0px 1px 3px 1px rgba(60, 64, 67, 0.15);\n",
              "      fill: #174EA6;\n",
              "    }\n",
              "\n",
              "    .colab-df-buttons div {\n",
              "      margin-bottom: 4px;\n",
              "    }\n",
              "\n",
              "    [theme=dark] .colab-df-convert {\n",
              "      background-color: #3B4455;\n",
              "      fill: #D2E3FC;\n",
              "    }\n",
              "\n",
              "    [theme=dark] .colab-df-convert:hover {\n",
              "      background-color: #434B5C;\n",
              "      box-shadow: 0px 1px 3px 1px rgba(0, 0, 0, 0.15);\n",
              "      filter: drop-shadow(0px 1px 2px rgba(0, 0, 0, 0.3));\n",
              "      fill: #FFFFFF;\n",
              "    }\n",
              "  </style>\n",
              "\n",
              "    <script>\n",
              "      const buttonEl =\n",
              "        document.querySelector('#df-6821c565-a46c-4f61-8b28-01185effedf9 button.colab-df-convert');\n",
              "      buttonEl.style.display =\n",
              "        google.colab.kernel.accessAllowed ? 'block' : 'none';\n",
              "\n",
              "      async function convertToInteractive(key) {\n",
              "        const element = document.querySelector('#df-6821c565-a46c-4f61-8b28-01185effedf9');\n",
              "        const dataTable =\n",
              "          await google.colab.kernel.invokeFunction('convertToInteractive',\n",
              "                                                    [key], {});\n",
              "        if (!dataTable) return;\n",
              "\n",
              "        const docLinkHtml = 'Like what you see? Visit the ' +\n",
              "          '<a target=\"_blank\" href=https://colab.research.google.com/notebooks/data_table.ipynb>data table notebook</a>'\n",
              "          + ' to learn more about interactive tables.';\n",
              "        element.innerHTML = '';\n",
              "        dataTable['output_type'] = 'display_data';\n",
              "        await google.colab.output.renderOutput(dataTable, element);\n",
              "        const docLink = document.createElement('div');\n",
              "        docLink.innerHTML = docLinkHtml;\n",
              "        element.appendChild(docLink);\n",
              "      }\n",
              "    </script>\n",
              "  </div>\n",
              "\n",
              "    </div>\n",
              "  </div>\n"
            ],
            "text/plain": [
              "                            md5hash  fitzpatrick_scale  fitzpatrick_centaur  \\\n",
              "0  5e82a45bc5d78bd24ae9202d194423f8                  3                    3   \n",
              "\n",
              "                             label nine_partition_label three_partition_label  \\\n",
              "0  drug induced pigmentary changes         inflammatory        non-neoplastic   \n",
              "\n",
              "    qc                                                url  \\\n",
              "0  NaN  https://www.dermaamin.com/site/images/clinical...   \n",
              "\n",
              "                                        url_alphanum  \\\n",
              "0  httpwwwdermaamincomsiteimagesclinicalpicmminoc...   \n",
              "\n",
              "                        filename  \\\n",
              "0  minocycline-pigmentation1.jpg   \n",
              "\n",
              "                                          image_path  \\\n",
              "0  C:\\Users\\afspf\\Documents\\FAC\\2nd semester\\DL\\P...   \n",
              "\n",
              "                                      image_array_sq  is_grayscale  \\\n",
              "0  [[[169, 180, 190], [171, 181, 193], [174, 182,...         False   \n",
              "\n",
              "   label_encoded  \n",
              "0             20  "
            ]
          },
          "execution_count": 11,
          "metadata": {},
          "output_type": "execute_result"
        }
      ],
      "source": [
        "dataset.head(1)"
      ]
    },
    {
      "cell_type": "code",
      "execution_count": 12,
      "metadata": {
        "id": "mg65XEP051KL"
      },
      "outputs": [],
      "source": [
        "from keras.applications.efficientnet import preprocess_input\n",
        "from tensorflow.keras.applications.efficientnet import preprocess_input\n",
        "\n",
        "X_train_img = preprocess_input(X_train)\n",
        "X_val_img = preprocess_input(X_val)\n",
        "X_test_img = preprocess_input(X_test)"
      ]
    },
    {
      "cell_type": "code",
      "execution_count": 13,
      "metadata": {
        "colab": {
          "base_uri": "https://localhost:8080/"
        },
        "id": "A1pylDkmZ6BQ",
        "outputId": "d2f88a8a-504b-4ca5-ee98-2ee643063263"
      },
      "outputs": [
        {
          "name": "stdout",
          "output_type": "stream",
          "text": [
            "Downloading data from https://storage.googleapis.com/keras-applications/efficientnetb3_notop.h5\n",
            "\u001b[1m43941136/43941136\u001b[0m \u001b[32m━━━━━━━━━━━━━━━━━━━━\u001b[0m\u001b[37m\u001b[0m \u001b[1m0s\u001b[0m 0us/step\n"
          ]
        }
      ],
      "source": [
        "\n",
        "from tensorflow.keras import applications\n",
        "IMG_SHAPE = (300,300, 3)\n",
        "\n",
        "\n",
        "base_model = applications.EfficientNetB3(input_shape=IMG_SHAPE,\n",
        "                                               include_top=False,\n",
        "                                               weights='imagenet')"
      ]
    },
    {
      "cell_type": "code",
      "execution_count": 14,
      "metadata": {
        "id": "U2QgLTpwZ9DS"
      },
      "outputs": [],
      "source": [
        "for layer in base_model.layers[:-2]:\n",
        "    layer.trainable = False"
      ]
    },
    {
      "cell_type": "code",
      "execution_count": 15,
      "metadata": {
        "id": "lu8moXxAZ-8_"
      },
      "outputs": [],
      "source": [
        "from tensorflow.keras import models, layers\n",
        "from tensorflow.keras import optimizers\n",
        "from tensorflow.keras.metrics import F1Score\n",
        "\n",
        "\n",
        "flatten_layer = layers.Flatten()\n",
        "dense_layer_1 = layers.Dense(512, activation='relu')\n",
        "dropout_1 = layers.Dropout(0.5)  # Dropout after the first dense layer\n",
        "dense_layer_2 = layers.Dense(256, activation='relu')\n",
        "dropout_2 = layers.Dropout(0.5)  # Dropout after the second dense layer\n",
        "dense_layer_3 = layers.Dense(128, activation='relu')\n",
        "dropout_3 = layers.Dropout(0.5)  # Dropout after the third dense layer\n",
        "prediction_layer = layers.Dense(114, activation='softmax')\n",
        "\n",
        "model2 = models.Sequential([\n",
        "    base_model,\n",
        "    flatten_layer,\n",
        "    dense_layer_1,\n",
        "    dropout_1,  # Dropout after the first dense layer\n",
        "    dense_layer_2,\n",
        "    dropout_2,  # Dropout after the second dense layer\n",
        "#    dense_layer_3,\n",
        "#    dropout_3,  # Dropout after the third dense layer\n",
        "    prediction_layer\n",
        "])\n",
        "\n",
        "base_learning_rate = 0.00001\n",
        "model2.compile(optimizer=optimizers.RMSprop(learning_rate=base_learning_rate),\n",
        "              loss='categorical_crossentropy',\n",
        "              metrics=['accuracy', F1Score(average='weighted', name = \"f1_score\")])"
      ]
    },
    {
      "cell_type": "markdown",
      "metadata": {
        "id": "nrtFrZSs5qbc"
      },
      "source": [
        "After the training stops by EarlyStopping callback, the current model may not be the best model with the highest/lowest monitored quantity. As a result a new argument, restore_best_weights, has been introduced in Keras 2.2.3 release for EarlyStopping callback if you would like to restore the best weights:\n",
        "\n",
        "restore_best_weights: whether to restore model weights from the epoch with the best value of the monitored quantity. If False, the model weights obtained at the last step of training are used."
      ]
    },
    {
      "cell_type": "code",
      "execution_count": 16,
      "metadata": {
        "id": "0nRs-SBuPTXz"
      },
      "outputs": [],
      "source": [
        "from tensorflow.keras.callbacks import EarlyStopping, ModelCheckpoint\n",
        "\n",
        "es = EarlyStopping(monitor='val_loss', mode='min', patience=2,  restore_best_weights=True)"
      ]
    },
    {
      "cell_type": "code",
      "execution_count": 17,
      "metadata": {
        "colab": {
          "base_uri": "https://localhost:8080/"
        },
        "id": "guDOoEOyaBLv",
        "outputId": "2ba5a15a-b4a8-47cd-8ac5-af5bccf9da01"
      },
      "outputs": [
        {
          "name": "stdout",
          "output_type": "stream",
          "text": [
            "Epoch 1/30\n",
            "\u001b[1m194/194\u001b[0m \u001b[32m━━━━━━━━━━━━━━━━━━━━\u001b[0m\u001b[37m\u001b[0m \u001b[1m203s\u001b[0m 612ms/step - accuracy: 0.0087 - f1_score: 0.0084 - loss: 5.2004 - val_accuracy: 0.0359 - val_f1_score: 0.0287 - val_loss: 4.6586\n",
            "Epoch 2/30\n",
            "\u001b[1m194/194\u001b[0m \u001b[32m━━━━━━━━━━━━━━━━━━━━\u001b[0m\u001b[37m\u001b[0m \u001b[1m36s\u001b[0m 184ms/step - accuracy: 0.0253 - f1_score: 0.0228 - loss: 4.7075 - val_accuracy: 0.0646 - val_f1_score: 0.0485 - val_loss: 4.5706\n",
            "Epoch 3/30\n",
            "\u001b[1m194/194\u001b[0m \u001b[32m━━━━━━━━━━━━━━━━━━━━\u001b[0m\u001b[37m\u001b[0m \u001b[1m36s\u001b[0m 184ms/step - accuracy: 0.0351 - f1_score: 0.0319 - loss: 4.5626 - val_accuracy: 0.0905 - val_f1_score: 0.0701 - val_loss: 4.4737\n",
            "Epoch 4/30\n",
            "\u001b[1m194/194\u001b[0m \u001b[32m━━━━━━━━━━━━━━━━━━━━\u001b[0m\u001b[37m\u001b[0m \u001b[1m36s\u001b[0m 184ms/step - accuracy: 0.0555 - f1_score: 0.0476 - loss: 4.4056 - val_accuracy: 0.1127 - val_f1_score: 0.0904 - val_loss: 4.3756\n",
            "Epoch 5/30\n",
            "\u001b[1m194/194\u001b[0m \u001b[32m━━━━━━━━━━━━━━━━━━━━\u001b[0m\u001b[37m\u001b[0m \u001b[1m36s\u001b[0m 184ms/step - accuracy: 0.0675 - f1_score: 0.0582 - loss: 4.2651 - val_accuracy: 0.1369 - val_f1_score: 0.1151 - val_loss: 4.2692\n",
            "Epoch 6/30\n",
            "\u001b[1m194/194\u001b[0m \u001b[32m━━━━━━━━━━━━━━━━━━━━\u001b[0m\u001b[37m\u001b[0m \u001b[1m36s\u001b[0m 184ms/step - accuracy: 0.0910 - f1_score: 0.0825 - loss: 4.1554 - val_accuracy: 0.1482 - val_f1_score: 0.1219 - val_loss: 4.1899\n",
            "Epoch 7/30\n",
            "\u001b[1m194/194\u001b[0m \u001b[32m━━━━━━━━━━━━━━━━━━━━\u001b[0m\u001b[37m\u001b[0m \u001b[1m36s\u001b[0m 184ms/step - accuracy: 0.1136 - f1_score: 0.1046 - loss: 4.0301 - val_accuracy: 0.1769 - val_f1_score: 0.1501 - val_loss: 4.1198\n",
            "Epoch 8/30\n",
            "\u001b[1m194/194\u001b[0m \u001b[32m━━━━━━━━━━━━━━━━━━━━\u001b[0m\u001b[37m\u001b[0m \u001b[1m36s\u001b[0m 184ms/step - accuracy: 0.1240 - f1_score: 0.1128 - loss: 3.8230 - val_accuracy: 0.1846 - val_f1_score: 0.1579 - val_loss: 4.0381\n",
            "Epoch 9/30\n",
            "\u001b[1m194/194\u001b[0m \u001b[32m━━━━━━━━━━━━━━━━━━━━\u001b[0m\u001b[37m\u001b[0m \u001b[1m36s\u001b[0m 183ms/step - accuracy: 0.1472 - f1_score: 0.1334 - loss: 3.6751 - val_accuracy: 0.1987 - val_f1_score: 0.1744 - val_loss: 3.9576\n",
            "Epoch 10/30\n",
            "\u001b[1m194/194\u001b[0m \u001b[32m━━━━━━━━━━━━━━━━━━━━\u001b[0m\u001b[37m\u001b[0m \u001b[1m36s\u001b[0m 184ms/step - accuracy: 0.1680 - f1_score: 0.1585 - loss: 3.5777 - val_accuracy: 0.2181 - val_f1_score: 0.1914 - val_loss: 3.8865\n",
            "Epoch 11/30\n",
            "\u001b[1m194/194\u001b[0m \u001b[32m━━━━━━━━━━━━━━━━━━━━\u001b[0m\u001b[37m\u001b[0m \u001b[1m36s\u001b[0m 183ms/step - accuracy: 0.1753 - f1_score: 0.1644 - loss: 3.4368 - val_accuracy: 0.2274 - val_f1_score: 0.2019 - val_loss: 3.8158\n",
            "Epoch 12/30\n",
            "\u001b[1m194/194\u001b[0m \u001b[32m━━━━━━━━━━━━━━━━━━━━\u001b[0m\u001b[37m\u001b[0m \u001b[1m36s\u001b[0m 184ms/step - accuracy: 0.2046 - f1_score: 0.1917 - loss: 3.3333 - val_accuracy: 0.2351 - val_f1_score: 0.2138 - val_loss: 3.7406\n",
            "Epoch 13/30\n",
            "\u001b[1m194/194\u001b[0m \u001b[32m━━━━━━━━━━━━━━━━━━━━\u001b[0m\u001b[37m\u001b[0m \u001b[1m36s\u001b[0m 184ms/step - accuracy: 0.2282 - f1_score: 0.2177 - loss: 3.2002 - val_accuracy: 0.2520 - val_f1_score: 0.2268 - val_loss: 3.6881\n",
            "Epoch 14/30\n",
            "\u001b[1m194/194\u001b[0m \u001b[32m━━━━━━━━━━━━━━━━━━━━\u001b[0m\u001b[37m\u001b[0m \u001b[1m36s\u001b[0m 184ms/step - accuracy: 0.2477 - f1_score: 0.2346 - loss: 3.0978 - val_accuracy: 0.2573 - val_f1_score: 0.2325 - val_loss: 3.6427\n",
            "Epoch 15/30\n",
            "\u001b[1m194/194\u001b[0m \u001b[32m━━━━━━━━━━━━━━━━━━━━\u001b[0m\u001b[37m\u001b[0m \u001b[1m36s\u001b[0m 184ms/step - accuracy: 0.2634 - f1_score: 0.2474 - loss: 2.9554 - val_accuracy: 0.2686 - val_f1_score: 0.2441 - val_loss: 3.5634\n",
            "Epoch 16/30\n",
            "\u001b[1m194/194\u001b[0m \u001b[32m━━━━━━━━━━━━━━━━━━━━\u001b[0m\u001b[37m\u001b[0m \u001b[1m36s\u001b[0m 184ms/step - accuracy: 0.2766 - f1_score: 0.2637 - loss: 2.8881 - val_accuracy: 0.2702 - val_f1_score: 0.2454 - val_loss: 3.5149\n",
            "Epoch 17/30\n",
            "\u001b[1m194/194\u001b[0m \u001b[32m━━━━━━━━━━━━━━━━━━━━\u001b[0m\u001b[37m\u001b[0m \u001b[1m36s\u001b[0m 184ms/step - accuracy: 0.2961 - f1_score: 0.2793 - loss: 2.7525 - val_accuracy: 0.2868 - val_f1_score: 0.2640 - val_loss: 3.4783\n",
            "Epoch 18/30\n",
            "\u001b[1m194/194\u001b[0m \u001b[32m━━━━━━━━━━━━━━━━━━━━\u001b[0m\u001b[37m\u001b[0m \u001b[1m36s\u001b[0m 183ms/step - accuracy: 0.3232 - f1_score: 0.3067 - loss: 2.6082 - val_accuracy: 0.2872 - val_f1_score: 0.2654 - val_loss: 3.4248\n",
            "Epoch 19/30\n",
            "\u001b[1m194/194\u001b[0m \u001b[32m━━━━━━━━━━━━━━━━━━━━\u001b[0m\u001b[37m\u001b[0m \u001b[1m36s\u001b[0m 183ms/step - accuracy: 0.3353 - f1_score: 0.3232 - loss: 2.5208 - val_accuracy: 0.3021 - val_f1_score: 0.2799 - val_loss: 3.4054\n",
            "Epoch 20/30\n",
            "\u001b[1m194/194\u001b[0m \u001b[32m━━━━━━━━━━━━━━━━━━━━\u001b[0m\u001b[37m\u001b[0m \u001b[1m36s\u001b[0m 183ms/step - accuracy: 0.3463 - f1_score: 0.3311 - loss: 2.3934 - val_accuracy: 0.3106 - val_f1_score: 0.2940 - val_loss: 3.3376\n",
            "Epoch 21/30\n",
            "\u001b[1m194/194\u001b[0m \u001b[32m━━━━━━━━━━━━━━━━━━━━\u001b[0m\u001b[37m\u001b[0m \u001b[1m36s\u001b[0m 183ms/step - accuracy: 0.3672 - f1_score: 0.3526 - loss: 2.3445 - val_accuracy: 0.3122 - val_f1_score: 0.2931 - val_loss: 3.3051\n",
            "Epoch 22/30\n",
            "\u001b[1m194/194\u001b[0m \u001b[32m━━━━━━━━━━━━━━━━━━━━\u001b[0m\u001b[37m\u001b[0m \u001b[1m35s\u001b[0m 183ms/step - accuracy: 0.4020 - f1_score: 0.3894 - loss: 2.1800 - val_accuracy: 0.3203 - val_f1_score: 0.3013 - val_loss: 3.2522\n",
            "Epoch 23/30\n",
            "\u001b[1m194/194\u001b[0m \u001b[32m━━━━━━━━━━━━━━━━━━━━\u001b[0m\u001b[37m\u001b[0m \u001b[1m35s\u001b[0m 183ms/step - accuracy: 0.3948 - f1_score: 0.3799 - loss: 2.1419 - val_accuracy: 0.3239 - val_f1_score: 0.3029 - val_loss: 3.2380\n",
            "Epoch 24/30\n",
            "\u001b[1m194/194\u001b[0m \u001b[32m━━━━━━━━━━━━━━━━━━━━\u001b[0m\u001b[37m\u001b[0m \u001b[1m36s\u001b[0m 183ms/step - accuracy: 0.4217 - f1_score: 0.4111 - loss: 2.0826 - val_accuracy: 0.3308 - val_f1_score: 0.3165 - val_loss: 3.2077\n",
            "Epoch 25/30\n",
            "\u001b[1m194/194\u001b[0m \u001b[32m━━━━━━━━━━━━━━━━━━━━\u001b[0m\u001b[37m\u001b[0m \u001b[1m36s\u001b[0m 183ms/step - accuracy: 0.4333 - f1_score: 0.4205 - loss: 2.0047 - val_accuracy: 0.3384 - val_f1_score: 0.3204 - val_loss: 3.1592\n",
            "Epoch 26/30\n",
            "\u001b[1m194/194\u001b[0m \u001b[32m━━━━━━━━━━━━━━━━━━━━\u001b[0m\u001b[37m\u001b[0m \u001b[1m35s\u001b[0m 183ms/step - accuracy: 0.4484 - f1_score: 0.4371 - loss: 1.9176 - val_accuracy: 0.3328 - val_f1_score: 0.3133 - val_loss: 3.1369\n",
            "Epoch 27/30\n",
            "\u001b[1m194/194\u001b[0m \u001b[32m━━━━━━━━━━━━━━━━━━━━\u001b[0m\u001b[37m\u001b[0m \u001b[1m36s\u001b[0m 183ms/step - accuracy: 0.4693 - f1_score: 0.4584 - loss: 1.8708 - val_accuracy: 0.3473 - val_f1_score: 0.3298 - val_loss: 3.1186\n",
            "Epoch 28/30\n",
            "\u001b[1m194/194\u001b[0m \u001b[32m━━━━━━━━━━━━━━━━━━━━\u001b[0m\u001b[37m\u001b[0m \u001b[1m36s\u001b[0m 183ms/step - accuracy: 0.4901 - f1_score: 0.4779 - loss: 1.7405 - val_accuracy: 0.3546 - val_f1_score: 0.3388 - val_loss: 3.0944\n",
            "Epoch 29/30\n",
            "\u001b[1m194/194\u001b[0m \u001b[32m━━━━━━━━━━━━━━━━━━━━\u001b[0m\u001b[37m\u001b[0m \u001b[1m35s\u001b[0m 183ms/step - accuracy: 0.4952 - f1_score: 0.4831 - loss: 1.6977 - val_accuracy: 0.3514 - val_f1_score: 0.3347 - val_loss: 3.0557\n",
            "Epoch 30/30\n",
            "\u001b[1m194/194\u001b[0m \u001b[32m━━━━━━━━━━━━━━━━━━━━\u001b[0m\u001b[37m\u001b[0m \u001b[1m36s\u001b[0m 183ms/step - accuracy: 0.5135 - f1_score: 0.5022 - loss: 1.6532 - val_accuracy: 0.3570 - val_f1_score: 0.3410 - val_loss: 3.0458\n"
          ]
        }
      ],
      "source": [
        "history = model2.fit(\n",
        "    x=X_train_img,\n",
        "    y=y_train_encoded,\n",
        "    epochs=30,\n",
        "    validation_data=(X_val_img, y_val_encoded),\n",
        "    class_weight=class_weights_dict,\n",
        "    batch_size = 64,\n",
        "    verbose=1,\n",
        "    shuffle=True,\n",
        "    callbacks=[es])"
      ]
    },
    {
      "cell_type": "code",
      "execution_count": 18,
      "metadata": {
        "colab": {
          "base_uri": "https://localhost:8080/",
          "height": 387
        },
        "id": "kBrt_2WDcoGD",
        "outputId": "646fc9bf-752f-46e1-a4fc-5995cc99532b"
      },
      "outputs": [
        {
          "data": {
            "text/html": [
              "<pre style=\"white-space:pre;overflow-x:auto;line-height:normal;font-family:Menlo,'DejaVu Sans Mono',consolas,'Courier New',monospace\"><span style=\"font-weight: bold\">Model: \"sequential\"</span>\n",
              "</pre>\n"
            ],
            "text/plain": [
              "\u001b[1mModel: \"sequential\"\u001b[0m\n"
            ]
          },
          "metadata": {},
          "output_type": "display_data"
        },
        {
          "data": {
            "text/html": [
              "<pre style=\"white-space:pre;overflow-x:auto;line-height:normal;font-family:Menlo,'DejaVu Sans Mono',consolas,'Courier New',monospace\">┏━━━━━━━━━━━━━━━━━━━━━━━━━━━━━━━━━━━━━━┳━━━━━━━━━━━━━━━━━━━━━━━━━━━━━┳━━━━━━━━━━━━━━━━━┓\n",
              "┃<span style=\"font-weight: bold\"> Layer (type)                         </span>┃<span style=\"font-weight: bold\"> Output Shape                </span>┃<span style=\"font-weight: bold\">         Param # </span>┃\n",
              "┡━━━━━━━━━━━━━━━━━━━━━━━━━━━━━━━━━━━━━━╇━━━━━━━━━━━━━━━━━━━━━━━━━━━━━╇━━━━━━━━━━━━━━━━━┩\n",
              "│ efficientnetb3 (<span style=\"color: #0087ff; text-decoration-color: #0087ff\">Functional</span>)          │ (<span style=\"color: #00d7ff; text-decoration-color: #00d7ff\">None</span>, <span style=\"color: #00af00; text-decoration-color: #00af00\">10</span>, <span style=\"color: #00af00; text-decoration-color: #00af00\">10</span>, <span style=\"color: #00af00; text-decoration-color: #00af00\">1536</span>)        │      <span style=\"color: #00af00; text-decoration-color: #00af00\">10,783,535</span> │\n",
              "├──────────────────────────────────────┼─────────────────────────────┼─────────────────┤\n",
              "│ flatten (<span style=\"color: #0087ff; text-decoration-color: #0087ff\">Flatten</span>)                    │ (<span style=\"color: #00d7ff; text-decoration-color: #00d7ff\">None</span>, <span style=\"color: #00af00; text-decoration-color: #00af00\">153600</span>)              │               <span style=\"color: #00af00; text-decoration-color: #00af00\">0</span> │\n",
              "├──────────────────────────────────────┼─────────────────────────────┼─────────────────┤\n",
              "│ dense (<span style=\"color: #0087ff; text-decoration-color: #0087ff\">Dense</span>)                        │ (<span style=\"color: #00d7ff; text-decoration-color: #00d7ff\">None</span>, <span style=\"color: #00af00; text-decoration-color: #00af00\">512</span>)                 │      <span style=\"color: #00af00; text-decoration-color: #00af00\">78,643,712</span> │\n",
              "├──────────────────────────────────────┼─────────────────────────────┼─────────────────┤\n",
              "│ dropout (<span style=\"color: #0087ff; text-decoration-color: #0087ff\">Dropout</span>)                    │ (<span style=\"color: #00d7ff; text-decoration-color: #00d7ff\">None</span>, <span style=\"color: #00af00; text-decoration-color: #00af00\">512</span>)                 │               <span style=\"color: #00af00; text-decoration-color: #00af00\">0</span> │\n",
              "├──────────────────────────────────────┼─────────────────────────────┼─────────────────┤\n",
              "│ dense_1 (<span style=\"color: #0087ff; text-decoration-color: #0087ff\">Dense</span>)                      │ (<span style=\"color: #00d7ff; text-decoration-color: #00d7ff\">None</span>, <span style=\"color: #00af00; text-decoration-color: #00af00\">256</span>)                 │         <span style=\"color: #00af00; text-decoration-color: #00af00\">131,328</span> │\n",
              "├──────────────────────────────────────┼─────────────────────────────┼─────────────────┤\n",
              "│ dropout_1 (<span style=\"color: #0087ff; text-decoration-color: #0087ff\">Dropout</span>)                  │ (<span style=\"color: #00d7ff; text-decoration-color: #00d7ff\">None</span>, <span style=\"color: #00af00; text-decoration-color: #00af00\">256</span>)                 │               <span style=\"color: #00af00; text-decoration-color: #00af00\">0</span> │\n",
              "├──────────────────────────────────────┼─────────────────────────────┼─────────────────┤\n",
              "│ dense_3 (<span style=\"color: #0087ff; text-decoration-color: #0087ff\">Dense</span>)                      │ (<span style=\"color: #00d7ff; text-decoration-color: #00d7ff\">None</span>, <span style=\"color: #00af00; text-decoration-color: #00af00\">114</span>)                 │          <span style=\"color: #00af00; text-decoration-color: #00af00\">29,298</span> │\n",
              "└──────────────────────────────────────┴─────────────────────────────┴─────────────────┘\n",
              "</pre>\n"
            ],
            "text/plain": [
              "┏━━━━━━━━━━━━━━━━━━━━━━━━━━━━━━━━━━━━━━┳━━━━━━━━━━━━━━━━━━━━━━━━━━━━━┳━━━━━━━━━━━━━━━━━┓\n",
              "┃\u001b[1m \u001b[0m\u001b[1mLayer (type)                        \u001b[0m\u001b[1m \u001b[0m┃\u001b[1m \u001b[0m\u001b[1mOutput Shape               \u001b[0m\u001b[1m \u001b[0m┃\u001b[1m \u001b[0m\u001b[1m        Param #\u001b[0m\u001b[1m \u001b[0m┃\n",
              "┡━━━━━━━━━━━━━━━━━━━━━━━━━━━━━━━━━━━━━━╇━━━━━━━━━━━━━━━━━━━━━━━━━━━━━╇━━━━━━━━━━━━━━━━━┩\n",
              "│ efficientnetb3 (\u001b[38;5;33mFunctional\u001b[0m)          │ (\u001b[38;5;45mNone\u001b[0m, \u001b[38;5;34m10\u001b[0m, \u001b[38;5;34m10\u001b[0m, \u001b[38;5;34m1536\u001b[0m)        │      \u001b[38;5;34m10,783,535\u001b[0m │\n",
              "├──────────────────────────────────────┼─────────────────────────────┼─────────────────┤\n",
              "│ flatten (\u001b[38;5;33mFlatten\u001b[0m)                    │ (\u001b[38;5;45mNone\u001b[0m, \u001b[38;5;34m153600\u001b[0m)              │               \u001b[38;5;34m0\u001b[0m │\n",
              "├──────────────────────────────────────┼─────────────────────────────┼─────────────────┤\n",
              "│ dense (\u001b[38;5;33mDense\u001b[0m)                        │ (\u001b[38;5;45mNone\u001b[0m, \u001b[38;5;34m512\u001b[0m)                 │      \u001b[38;5;34m78,643,712\u001b[0m │\n",
              "├──────────────────────────────────────┼─────────────────────────────┼─────────────────┤\n",
              "│ dropout (\u001b[38;5;33mDropout\u001b[0m)                    │ (\u001b[38;5;45mNone\u001b[0m, \u001b[38;5;34m512\u001b[0m)                 │               \u001b[38;5;34m0\u001b[0m │\n",
              "├──────────────────────────────────────┼─────────────────────────────┼─────────────────┤\n",
              "│ dense_1 (\u001b[38;5;33mDense\u001b[0m)                      │ (\u001b[38;5;45mNone\u001b[0m, \u001b[38;5;34m256\u001b[0m)                 │         \u001b[38;5;34m131,328\u001b[0m │\n",
              "├──────────────────────────────────────┼─────────────────────────────┼─────────────────┤\n",
              "│ dropout_1 (\u001b[38;5;33mDropout\u001b[0m)                  │ (\u001b[38;5;45mNone\u001b[0m, \u001b[38;5;34m256\u001b[0m)                 │               \u001b[38;5;34m0\u001b[0m │\n",
              "├──────────────────────────────────────┼─────────────────────────────┼─────────────────┤\n",
              "│ dense_3 (\u001b[38;5;33mDense\u001b[0m)                      │ (\u001b[38;5;45mNone\u001b[0m, \u001b[38;5;34m114\u001b[0m)                 │          \u001b[38;5;34m29,298\u001b[0m │\n",
              "└──────────────────────────────────────┴─────────────────────────────┴─────────────────┘\n"
            ]
          },
          "metadata": {},
          "output_type": "display_data"
        },
        {
          "data": {
            "text/html": [
              "<pre style=\"white-space:pre;overflow-x:auto;line-height:normal;font-family:Menlo,'DejaVu Sans Mono',consolas,'Courier New',monospace\"><span style=\"font-weight: bold\"> Total params: </span><span style=\"color: #00af00; text-decoration-color: #00af00\">168,395,285</span> (642.38 MB)\n",
              "</pre>\n"
            ],
            "text/plain": [
              "\u001b[1m Total params: \u001b[0m\u001b[38;5;34m168,395,285\u001b[0m (642.38 MB)\n"
            ]
          },
          "metadata": {},
          "output_type": "display_data"
        },
        {
          "data": {
            "text/html": [
              "<pre style=\"white-space:pre;overflow-x:auto;line-height:normal;font-family:Menlo,'DejaVu Sans Mono',consolas,'Courier New',monospace\"><span style=\"font-weight: bold\"> Trainable params: </span><span style=\"color: #00af00; text-decoration-color: #00af00\">78,807,410</span> (300.63 MB)\n",
              "</pre>\n"
            ],
            "text/plain": [
              "\u001b[1m Trainable params: \u001b[0m\u001b[38;5;34m78,807,410\u001b[0m (300.63 MB)\n"
            ]
          },
          "metadata": {},
          "output_type": "display_data"
        },
        {
          "data": {
            "text/html": [
              "<pre style=\"white-space:pre;overflow-x:auto;line-height:normal;font-family:Menlo,'DejaVu Sans Mono',consolas,'Courier New',monospace\"><span style=\"font-weight: bold\"> Non-trainable params: </span><span style=\"color: #00af00; text-decoration-color: #00af00\">10,780,463</span> (41.12 MB)\n",
              "</pre>\n"
            ],
            "text/plain": [
              "\u001b[1m Non-trainable params: \u001b[0m\u001b[38;5;34m10,780,463\u001b[0m (41.12 MB)\n"
            ]
          },
          "metadata": {},
          "output_type": "display_data"
        },
        {
          "data": {
            "text/html": [
              "<pre style=\"white-space:pre;overflow-x:auto;line-height:normal;font-family:Menlo,'DejaVu Sans Mono',consolas,'Courier New',monospace\"><span style=\"font-weight: bold\"> Optimizer params: </span><span style=\"color: #00af00; text-decoration-color: #00af00\">78,807,412</span> (300.63 MB)\n",
              "</pre>\n"
            ],
            "text/plain": [
              "\u001b[1m Optimizer params: \u001b[0m\u001b[38;5;34m78,807,412\u001b[0m (300.63 MB)\n"
            ]
          },
          "metadata": {},
          "output_type": "display_data"
        },
        {
          "name": "stdout",
          "output_type": "stream",
          "text": [
            "None\n"
          ]
        }
      ],
      "source": [
        "print(model2.summary())"
      ]
    },
    {
      "cell_type": "code",
      "execution_count": 24,
      "metadata": {
        "colab": {
          "base_uri": "https://localhost:8080/",
          "height": 407
        },
        "id": "whJFq5F5-AmL",
        "outputId": "b66ef4ea-a76e-4734-c9a8-adff657d3569"
      },
      "outputs": [
        {
          "data": {
            "image/png": "[encoded data removed]",
            "text/plain": [
              "<Figure size 1200x400 with 3 Axes>"
            ]
          },
          "metadata": {},
          "output_type": "display_data"
        }
      ],
      "source": [
        "import matplotlib.pyplot as plt\n",
        "\n",
        "acc = history.history['accuracy']\n",
        "val_acc = history.history['val_accuracy']\n",
        "loss = history.history['loss']\n",
        "val_loss = history.history['val_loss']\n",
        "f1_score = history.history['f1_score']  \n",
        "val_f1_score = history.history['val_f1_score']  \n",
        "\n",
        "epochs = range(1, len(acc) + 1)\n",
        "\n",
        "plt.figure(figsize=(12, 4))\n",
        "plt.subplot(1, 3, 1)\n",
        "plt.plot(epochs, acc, 'bo-', label='Training Accuracy')\n",
        "plt.plot(epochs, val_acc, 'b-', label='Validation Accuracy')\n",
        "plt.title('Training and Validation Accuracy')\n",
        "plt.xlabel('Epochs')\n",
        "plt.ylabel('Accuracy')\n",
        "plt.legend()\n",
        "\n",
        "plt.subplot(1, 3, 2)\n",
        "plt.plot(epochs, loss, 'ro-', label='Training Loss')\n",
        "plt.plot(epochs, val_loss, 'r-', label='Validation Loss')\n",
        "plt.title('Training and Validation Loss')\n",
        "plt.xlabel('Epochs')\n",
        "plt.ylabel('Loss')\n",
        "plt.legend()\n",
        "\n",
        "plt.subplot(1, 3, 3)\n",
        "plt.plot(epochs, f1_score, 'go-', label='Training F1 Score')\n",
        "plt.plot(epochs, val_f1_score, 'g-', label='Validation F1 Score')\n",
        "plt.title('Training and Validation F1 Score')\n",
        "plt.xlabel('Epochs')\n",
        "plt.ylabel('F1 Score')\n",
        "plt.legend()\n",
        "\n",
        "plt.tight_layout()\n",
        "plt.show()"
      ]
    },
    {
      "cell_type": "code",
      "execution_count": 25,
      "metadata": {
        "colab": {
          "base_uri": "https://localhost:8080/"
        },
        "id": "bmxJP47XQTIi",
        "outputId": "4a30f126-6c1a-4772-d160-c7c0e7b39650"
      },
      "outputs": [
        {
          "name": "stdout",
          "output_type": "stream",
          "text": [
            "\u001b[1m52/52\u001b[0m \u001b[32m━━━━━━━━━━━━━━━━━━━━\u001b[0m\u001b[37m\u001b[0m \u001b[1m44s\u001b[0m 416ms/step\n"
          ]
        }
      ],
      "source": [
        "predictions = model2.predict(X_test_img)\n"
      ]
    },
    {
      "cell_type": "code",
      "execution_count": 26,
      "metadata": {
        "id": "oLnA95XWQUF4"
      },
      "outputs": [],
      "source": [
        "predicted_classes = np.argmax(predictions, axis=1)\n",
        "true_classes = np.argmax(y_test_encoded, axis=1)\n"
      ]
    },
    {
      "cell_type": "code",
      "execution_count": 31,
      "metadata": {
        "colab": {
          "base_uri": "https://localhost:8080/"
        },
        "id": "5BrAnpyXQeZL",
        "outputId": "d67f92c7-a46c-47d5-a1c2-8c78deb5af1a"
      },
      "outputs": [
        {
          "name": "stdout",
          "output_type": "stream",
          "text": [
            "Weighted F1 Score :  0.3473166467760448\n"
          ]
        }
      ],
      "source": [
        "from sklearn.metrics import f1_score\n",
        "\n",
        "f1 = f1_score(true_classes, predicted_classes, average='weighted')\n",
        "print(\"Weighted F1 Score : \", f1)\n"
      ]
    },
    {
      "cell_type": "code",
      "execution_count": 36,
      "metadata": {
        "colab": {
          "base_uri": "https://localhost:8080/"
        },
        "id": "-MoE44XcNese",
        "outputId": "5ffeac33-6656-4a98-d6cb-b3b4cc03414b"
      },
      "outputs": [
        {
          "name": "stdout",
          "output_type": "stream",
          "text": [
            "Micro F1 Score :  0.35857056329497267\n"
          ]
        }
      ],
      "source": [
        "f1 = f1_score(true_classes, predicted_classes, average='micro')\n",
        "print(\"Micro F1 Score : \", f1)"
      ]
    },
    {
      "cell_type": "code",
      "execution_count": 35,
      "metadata": {
        "colab": {
          "base_uri": "https://localhost:8080/"
        },
        "id": "YwmLZOHoNhD2",
        "outputId": "377554ba-4f40-4b83-ef98-0a960e8ea648"
      },
      "outputs": [
        {
          "name": "stdout",
          "output_type": "stream",
          "text": [
            "Macro F1 Score :  0.3437022303395223\n"
          ]
        }
      ],
      "source": [
        "f1 = f1_score(true_classes, predicted_classes, average='macro')\n",
        "print(\"Macro F1 Score : \", f1)"
      ]
    },
    {
      "cell_type": "code",
      "execution_count": 30,
      "metadata": {
        "colab": {
          "base_uri": "https://localhost:8080/"
        },
        "id": "0qaa7R1AMk-x",
        "outputId": "ce37d6da-f06f-460b-ad17-a0188e1913c3"
      },
      "outputs": [
        {
          "name": "stdout",
          "output_type": "stream",
          "text": [
            "Final validation loss: 3.0458004474639893\n"
          ]
        }
      ],
      "source": [
        "final_val_loss = history.history['val_loss'][-1]\n",
        "print(\"Final validation loss:\", final_val_loss)"
      ]
    },
    {
      "cell_type": "code",
      "execution_count": 29,
      "metadata": {
        "colab": {
          "base_uri": "https://localhost:8080/"
        },
        "id": "t63upQpsQiCG",
        "outputId": "8d10e7b4-ee12-4727-86a9-2f8a60a65da3"
      },
      "outputs": [
        {
          "name": "stdout",
          "output_type": "stream",
          "text": [
            "                                                       precision    recall  f1-score   support\n",
            "\n",
            "                                 acanthosis nigricans       0.29      0.44      0.35         9\n",
            "                                                 acne       0.25      0.26      0.26        19\n",
            "                                        acne vulgaris       0.43      0.82      0.57        34\n",
            "acquired autoimmune bullous diseaseherpes gestationis       0.20      0.17      0.18         6\n",
            "                         acrodermatitis enteropathica       0.40      0.44      0.42         9\n",
            "                                    actinic keratosis       0.12      0.11      0.12        18\n",
            "                          allergic contact dermatitis       0.36      0.09      0.15        43\n",
            "                                        aplasia cutis       0.33      0.57      0.42         7\n",
            "                                 basal cell carcinoma       0.40      0.36      0.38        47\n",
            "                     basal cell carcinoma morpheiform       0.27      0.50      0.35         6\n",
            "                                         becker nevus       0.07      0.17      0.10         6\n",
            "                                      behcets disease       0.29      0.33      0.31         6\n",
            "                                     calcinosis cutis       0.44      0.50      0.47         8\n",
            "                                            cheilitis       0.33      0.36      0.35        11\n",
            "                                     congenital nevus       0.80      0.57      0.67         7\n",
            "                                      dariers disease       0.30      0.20      0.24        15\n",
            "                                       dermatofibroma       0.33      0.75      0.46         8\n",
            "                                      dermatomyositis       0.11      0.13      0.12        15\n",
            "                   disseminated actinic porokeratosis       0.57      0.67      0.62         6\n",
            "                                        drug eruption       0.14      0.15      0.14        20\n",
            "                      drug induced pigmentary changes       0.67      0.29      0.40         7\n",
            "                                   dyshidrotic eczema       0.12      0.12      0.12         8\n",
            "                                               eczema       0.15      0.14      0.15        21\n",
            "                               ehlers danlos syndrome       0.77      0.77      0.77        13\n",
            "                                      epidermal nevus       0.50      0.33      0.40         9\n",
            "                                epidermolysis bullosa       0.12      0.14      0.13         7\n",
            "                        erythema annulare centrifigum       0.17      0.22      0.19         9\n",
            "                           erythema elevatum diutinum       0.75      0.50      0.60         6\n",
            "                                  erythema multiforme       0.29      0.17      0.21        24\n",
            "                                     erythema nodosum       0.23      0.88      0.37         8\n",
            "                                 factitial dermatitis       1.00      0.50      0.67         6\n",
            "                                      fixed eruptions       0.50      0.25      0.33        12\n",
            "                                         folliculitis       0.72      0.38      0.50        34\n",
            "                                        fordyce spots       0.62      0.80      0.70        10\n",
            "                                   granuloma annulare       0.26      0.43      0.33        21\n",
            "                                   granuloma pyogenic       0.60      0.38      0.46         8\n",
            "                                hailey hailey disease       0.67      0.78      0.72        18\n",
            "                                           halo nevus       0.20      0.38      0.26         8\n",
            "                                         hidradenitis       0.15      0.22      0.18         9\n",
            "                                  ichthyosis vulgaris       0.00      0.00      0.00         6\n",
            "                               incontinentia pigmenti       0.28      0.70      0.40        10\n",
            "                             juvenile xanthogranuloma       0.82      0.60      0.69        15\n",
            "                                       kaposi sarcoma       0.67      0.25      0.36        16\n",
            "                                               keloid       0.43      0.56      0.49        16\n",
            "                                    keratosis pilaris       0.25      0.38      0.30         8\n",
            "                        langerhans cell histiocytosis       0.00      0.00      0.00         6\n",
            "                                      lentigo maligna       0.42      0.62      0.50         8\n",
            "                                   lichen amyloidosis       0.50      0.25      0.33         8\n",
            "                                        lichen planus       0.42      0.16      0.24        49\n",
            "                                       lichen simplex       0.67      0.33      0.44         6\n",
            "                                   livedo reticularis       0.13      0.33      0.19         6\n",
            "                                  lupus erythematosus       0.38      0.20      0.26        41\n",
            "                                       lupus subacute       0.30      0.27      0.29        11\n",
            "                                         lyme disease       0.13      0.23      0.17        13\n",
            "                                         lymphangioma       1.00      0.30      0.46        10\n",
            "                                   malignant melanoma       0.20      0.09      0.13        11\n",
            "                                             melanoma       0.50      0.46      0.48        26\n",
            "                                                milia       0.24      0.36      0.29        11\n",
            "                                            mucinosis       0.44      0.44      0.44         9\n",
            "                                          mucous cyst       0.29      0.25      0.27         8\n",
            "                                    mycosis fungoides       0.44      0.37      0.40        19\n",
            "                                              myiasis       0.80      0.57      0.67         7\n",
            "                                   naevus comedonicus       0.50      0.57      0.53         7\n",
            "                                necrobiosis lipoidica       0.19      0.42      0.26        12\n",
            "                                   nematode infection       0.61      0.54      0.57        26\n",
            "                                      neurodermatitis       0.20      0.14      0.17         7\n",
            "                                    neurofibromatosis       0.64      0.74      0.68        19\n",
            "                                neurotic excoriations       0.29      0.71      0.42         7\n",
            "                              neutrophilic dermatoses       0.44      0.31      0.36        36\n",
            "                                      nevocytic nevus       0.12      0.12      0.12         8\n",
            "                         nevus sebaceous of jadassohn       0.33      0.30      0.32        10\n",
            "             papilomatosis confluentes and reticulate       0.42      0.73      0.54        15\n",
            "                                           paronychia       0.15      0.50      0.23         6\n",
            "                                     pediculosis lids       0.94      1.00      0.97        15\n",
            "                                  perioral dermatitis       0.21      0.50      0.30         6\n",
            "                                      photodermatoses       0.44      0.11      0.18        35\n",
            "                                           pilar cyst       0.22      0.44      0.30         9\n",
            "                                        pilomatricoma       0.40      0.40      0.40         5\n",
            "                      pityriasis lichenoides chronica       0.36      0.71      0.48         7\n",
            "                                     pityriasis rosea       0.29      0.42      0.34        19\n",
            "                             pityriasis rubra pilaris       0.48      0.46      0.47        28\n",
            "                                porokeratosis actinic       0.54      0.74      0.62        19\n",
            "                             porokeratosis of mibelli       0.23      0.38      0.29         8\n",
            "                                            porphyria       0.14      0.31      0.19        13\n",
            "                                      port wine stain       0.29      0.33      0.31         6\n",
            "                                    prurigo nodularis       0.41      0.65      0.50        17\n",
            "                                            psoriasis       0.40      0.12      0.19        65\n",
            "                                   pustular psoriasis       0.00      0.00      0.00         5\n",
            "                                   pyogenic granuloma       0.50      0.45      0.48        11\n",
            "                                           rhinophyma       0.35      0.78      0.48         9\n",
            "                                              rosacea       0.14      0.20      0.17        10\n",
            "                                          sarcoidosis       0.33      0.14      0.20        35\n",
            "                                              scabies       0.50      0.35      0.41        34\n",
            "                                          scleroderma       0.60      0.10      0.17        31\n",
            "                                       scleromyxedema       0.23      0.45      0.30        11\n",
            "                                seborrheic dermatitis       0.28      0.42      0.33        12\n",
            "                                 seborrheic keratosis       0.25      0.14      0.18         7\n",
            "                    solid cystic basal cell carcinoma       0.17      0.50      0.25         6\n",
            "                              squamous cell carcinoma       0.51      0.50      0.50        58\n",
            "                                         stasis edema       0.17      0.14      0.15         7\n",
            "                             stevens johnson syndrome       0.29      0.18      0.22        11\n",
            "                                               striae       0.50      0.17      0.25         6\n",
            "                                     sun damaged skin       0.00      0.00      0.00         6\n",
            "                   superficial spreading melanoma ssm       0.19      0.25      0.21        12\n",
            "                                            syringoma       0.33      0.46      0.39        13\n",
            "                                       telangiectases       0.11      0.08      0.10        12\n",
            "                                            tick bite       0.40      0.29      0.33         7\n",
            "                                   tuberous sclerosis       0.39      0.50      0.44        14\n",
            "                                            tungiasis       0.75      0.80      0.77        15\n",
            "                                            urticaria       0.07      0.07      0.07        15\n",
            "                                 urticaria pigmentosa       0.29      0.18      0.22        11\n",
            "                                             vitiligo       0.25      0.18      0.21        17\n",
            "                                            xanthomas       0.25      0.20      0.22         5\n",
            "                                xeroderma pigmentosum       0.40      0.50      0.44         8\n",
            "\n",
            "                                             accuracy                           0.36      1651\n",
            "                                            macro avg       0.37      0.37      0.34      1651\n",
            "                                         weighted avg       0.40      0.36      0.35      1651\n",
            "\n"
          ]
        },
        {
          "name": "stderr",
          "output_type": "stream",
          "text": [
            "/usr/local/lib/python3.10/dist-packages/sklearn/metrics/_classification.py:1344: UndefinedMetricWarning: Precision and F-score are ill-defined and being set to 0.0 in labels with no predicted samples. Use `zero_division` parameter to control this behavior.\n",
            "  _warn_prf(average, modifier, msg_start, len(result))\n",
            "/usr/local/lib/python3.10/dist-packages/sklearn/metrics/_classification.py:1344: UndefinedMetricWarning: Precision and F-score are ill-defined and being set to 0.0 in labels with no predicted samples. Use `zero_division` parameter to control this behavior.\n",
            "  _warn_prf(average, modifier, msg_start, len(result))\n",
            "/usr/local/lib/python3.10/dist-packages/sklearn/metrics/_classification.py:1344: UndefinedMetricWarning: Precision and F-score are ill-defined and being set to 0.0 in labels with no predicted samples. Use `zero_division` parameter to control this behavior.\n",
            "  _warn_prf(average, modifier, msg_start, len(result))\n"
          ]
        }
      ],
      "source": [
        "from sklearn.metrics import classification_report\n",
        "\n",
        "class_names = label_encoder.inverse_transform(np.unique(y_test))\n",
        "report = classification_report(true_classes, predicted_classes, target_names=class_names)\n",
        "print(report)\n"
      ]
    },
    {
      "cell_type": "code",
      "execution_count": null,
      "metadata": {
        "id": "LMnZkC7_PTU2"
      },
      "outputs": [],
      "source": []
    }
  ],
  "metadata": {
    "accelerator": "GPU",
    "colab": {
      "gpuType": "L4",
      "machine_shape": "hm",
      "provenance": []
    },
    "kernelspec": {
      "display_name": "Python 3",
      "name": "python3"
    },
    "language_info": {
      "name": "python"
    }
  },
  "nbformat": 4,
  "nbformat_minor": 0
}
