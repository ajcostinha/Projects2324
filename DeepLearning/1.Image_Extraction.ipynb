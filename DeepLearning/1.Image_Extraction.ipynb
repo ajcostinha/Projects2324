{
  "cells": [
    {
      "cell_type": "markdown",
      "metadata": {},
      "source": [
        "# Preprocessing\n",
        "in this notebook we developed the code to download images that will be used during the course of the project"
      ]
    },
    {
      "cell_type": "markdown",
      "metadata": {},
      "source": [
        "### Imported libraries"
      ]
    },
    {
      "cell_type": "code",
      "execution_count": null,
      "metadata": {},
      "outputs": [
        {
          "name": "stderr",
          "output_type": "stream",
          "text": [
            "2024-04-28 12:01:55.461877: I tensorflow/core/platform/cpu_feature_guard.cc:210] This TensorFlow binary is optimized to use available CPU instructions in performance-critical operations.\n",
            "To enable the following instructions: AVX2 FMA, in other operations, rebuild TensorFlow with the appropriate compiler flags.\n"
          ]
        }
      ],
      "source": [
        "# Downloads\n",
        "import os\n",
        "import requests\n",
        "\n",
        "# Images and Data\n",
        "from PIL import Image\n",
        "\n",
        "#!pip install opencv-python\n",
        "import cv2\n",
        "\n",
        "import pandas as pd\n",
        "import numpy as np\n",
        "\n",
        "# for dividing images\n",
        "from math import floor\n",
        "import random\n"
      ]
    },
    {
      "cell_type": "markdown",
      "metadata": {},
      "source": [
        "only run if using colab"
      ]
    },
    {
      "cell_type": "code",
      "execution_count": null,
      "metadata": {},
      "outputs": [],
      "source": [
        "\n",
        "#from google.colab import drive\n",
        "#drive.flush_and_unmount()\n",
        "#drive.mount(\"/content/drive\")"
      ]
    },
    {
      "cell_type": "markdown",
      "metadata": {},
      "source": [
        "### Paths to diferent directories\n",
        "it's necessary to change the paths to the right directories where the files are saved"
      ]
    },
    {
      "cell_type": "code",
      "execution_count": null,
      "metadata": {},
      "outputs": [],
      "source": [
        "dataset = \"/Users/macbook/Documents/DL_Project/fitzpatrick17k.csv\""
      ]
    },
    {
      "cell_type": "markdown",
      "metadata": {},
      "source": [
        "## Data preparation/cleaning"
      ]
    },
    {
      "cell_type": "markdown",
      "metadata": {},
      "source": [
        "We start by loading and inspecting the data from \"fitzpatrick17k.csv\""
      ]
    },
    {
      "cell_type": "code",
      "execution_count": null,
      "metadata": {},
      "outputs": [],
      "source": [
        "dataset = pd.read_csv(dataset)\n"
      ]
    },
    {
      "cell_type": "code",
      "execution_count": null,
      "metadata": {},
      "outputs": [
        {
          "name": "stdout",
          "output_type": "stream",
          "text": [
            "<class 'pandas.core.frame.DataFrame'>\n",
            "RangeIndex: 16577 entries, 0 to 16576\n",
            "Data columns (total 9 columns):\n",
            " #   Column                 Non-Null Count  Dtype \n",
            "---  ------                 --------------  ----- \n",
            " 0   md5hash                16577 non-null  object\n",
            " 1   fitzpatrick_scale      16577 non-null  int64 \n",
            " 2   fitzpatrick_centaur    16577 non-null  int64 \n",
            " 3   label                  16577 non-null  object\n",
            " 4   nine_partition_label   16577 non-null  object\n",
            " 5   three_partition_label  16577 non-null  object\n",
            " 6   qc                     504 non-null    object\n",
            " 7   url                    16536 non-null  object\n",
            " 8   url_alphanum           16577 non-null  object\n",
            "dtypes: int64(2), object(7)\n",
            "memory usage: 1.1+ MB\n"
          ]
        }
      ],
      "source": [
        "dataset.info()"
      ]
    },
    {
      "cell_type": "code",
      "execution_count": null,
      "metadata": {},
      "outputs": [
        {
          "data": {
            "text/html": [
              "<div>\n",
              "<style scoped>\n",
              "    .dataframe tbody tr th:only-of-type {\n",
              "        vertical-align: middle;\n",
              "    }\n",
              "\n",
              "    .dataframe tbody tr th {\n",
              "        vertical-align: top;\n",
              "    }\n",
              "\n",
              "    .dataframe thead th {\n",
              "        text-align: right;\n",
              "    }\n",
              "</style>\n",
              "<table border=\"1\" class=\"dataframe\">\n",
              "  <thead>\n",
              "    <tr style=\"text-align: right;\">\n",
              "      <th></th>\n",
              "      <th>md5hash</th>\n",
              "      <th>fitzpatrick_scale</th>\n",
              "      <th>fitzpatrick_centaur</th>\n",
              "      <th>label</th>\n",
              "      <th>nine_partition_label</th>\n",
              "      <th>three_partition_label</th>\n",
              "      <th>qc</th>\n",
              "      <th>url</th>\n",
              "      <th>url_alphanum</th>\n",
              "    </tr>\n",
              "  </thead>\n",
              "  <tbody>\n",
              "    <tr>\n",
              "      <th>0</th>\n",
              "      <td>5e82a45bc5d78bd24ae9202d194423f8</td>\n",
              "      <td>3</td>\n",
              "      <td>3</td>\n",
              "      <td>drug induced pigmentary changes</td>\n",
              "      <td>inflammatory</td>\n",
              "      <td>non-neoplastic</td>\n",
              "      <td>NaN</td>\n",
              "      <td>https://www.dermaamin.com/site/images/clinical...</td>\n",
              "      <td>httpwwwdermaamincomsiteimagesclinicalpicmminoc...</td>\n",
              "    </tr>\n",
              "    <tr>\n",
              "      <th>1</th>\n",
              "      <td>fa2911a9b13b6f8af79cb700937cc14f</td>\n",
              "      <td>1</td>\n",
              "      <td>1</td>\n",
              "      <td>photodermatoses</td>\n",
              "      <td>inflammatory</td>\n",
              "      <td>non-neoplastic</td>\n",
              "      <td>NaN</td>\n",
              "      <td>https://www.dermaamin.com/site/images/clinical...</td>\n",
              "      <td>httpwwwdermaamincomsiteimagesclinicalpicpphoto...</td>\n",
              "    </tr>\n",
              "    <tr>\n",
              "      <th>2</th>\n",
              "      <td>d2bac3c9e4499032ca8e9b07c7d3bc40</td>\n",
              "      <td>2</td>\n",
              "      <td>3</td>\n",
              "      <td>dermatofibroma</td>\n",
              "      <td>benign dermal</td>\n",
              "      <td>benign</td>\n",
              "      <td>NaN</td>\n",
              "      <td>https://www.dermaamin.com/site/images/clinical...</td>\n",
              "      <td>httpwwwdermaamincomsiteimagesclinicalpicdderma...</td>\n",
              "    </tr>\n",
              "    <tr>\n",
              "      <th>3</th>\n",
              "      <td>0a94359e7eaacd7178e06b2823777789</td>\n",
              "      <td>1</td>\n",
              "      <td>1</td>\n",
              "      <td>psoriasis</td>\n",
              "      <td>inflammatory</td>\n",
              "      <td>non-neoplastic</td>\n",
              "      <td>NaN</td>\n",
              "      <td>https://www.dermaamin.com/site/images/clinical...</td>\n",
              "      <td>httpwwwdermaamincomsiteimagesclinicalpicppsori...</td>\n",
              "    </tr>\n",
              "    <tr>\n",
              "      <th>4</th>\n",
              "      <td>a39ec3b1f22c08a421fa20535e037bba</td>\n",
              "      <td>1</td>\n",
              "      <td>1</td>\n",
              "      <td>psoriasis</td>\n",
              "      <td>inflammatory</td>\n",
              "      <td>non-neoplastic</td>\n",
              "      <td>NaN</td>\n",
              "      <td>https://www.dermaamin.com/site/images/clinical...</td>\n",
              "      <td>httpwwwdermaamincomsiteimagesclinicalpicppsori...</td>\n",
              "    </tr>\n",
              "  </tbody>\n",
              "</table>\n",
              "</div>"
            ],
            "text/plain": [
              "                            md5hash  fitzpatrick_scale  fitzpatrick_centaur  \\\n",
              "0  5e82a45bc5d78bd24ae9202d194423f8                  3                    3   \n",
              "1  fa2911a9b13b6f8af79cb700937cc14f                  1                    1   \n",
              "2  d2bac3c9e4499032ca8e9b07c7d3bc40                  2                    3   \n",
              "3  0a94359e7eaacd7178e06b2823777789                  1                    1   \n",
              "4  a39ec3b1f22c08a421fa20535e037bba                  1                    1   \n",
              "\n",
              "                             label nine_partition_label three_partition_label  \\\n",
              "0  drug induced pigmentary changes         inflammatory        non-neoplastic   \n",
              "1                  photodermatoses         inflammatory        non-neoplastic   \n",
              "2                   dermatofibroma        benign dermal                benign   \n",
              "3                        psoriasis         inflammatory        non-neoplastic   \n",
              "4                        psoriasis         inflammatory        non-neoplastic   \n",
              "\n",
              "    qc                                                url  \\\n",
              "0  NaN  https://www.dermaamin.com/site/images/clinical...   \n",
              "1  NaN  https://www.dermaamin.com/site/images/clinical...   \n",
              "2  NaN  https://www.dermaamin.com/site/images/clinical...   \n",
              "3  NaN  https://www.dermaamin.com/site/images/clinical...   \n",
              "4  NaN  https://www.dermaamin.com/site/images/clinical...   \n",
              "\n",
              "                                        url_alphanum  \n",
              "0  httpwwwdermaamincomsiteimagesclinicalpicmminoc...  \n",
              "1  httpwwwdermaamincomsiteimagesclinicalpicpphoto...  \n",
              "2  httpwwwdermaamincomsiteimagesclinicalpicdderma...  \n",
              "3  httpwwwdermaamincomsiteimagesclinicalpicppsori...  \n",
              "4  httpwwwdermaamincomsiteimagesclinicalpicppsori...  "
            ]
          },
          "metadata": {},
          "output_type": "display_data"
        }
      ],
      "source": [
        "dataset.head()"
      ]
    },
    {
      "cell_type": "markdown",
      "metadata": {},
      "source": [
        "check different values from relevant columns"
      ]
    },
    {
      "cell_type": "code",
      "execution_count": null,
      "metadata": {},
      "outputs": [
        {
          "data": {
            "text/plain": [
              "array([nan, '1 Diagnostic', '5 Potentially', '3 Wrongly labelled',\n",
              "       '2 Characteristic', '4 Other'], dtype=object)"
            ]
          },
          "metadata": {},
          "output_type": "display_data"
        }
      ],
      "source": [
        "dataset['qc'].unique()"
      ]
    },
    {
      "cell_type": "markdown",
      "metadata": {},
      "source": [
        "doesn't make sence to keep Wrongly labelled images so we drop this instances"
      ]
    },
    {
      "cell_type": "code",
      "execution_count": null,
      "metadata": {},
      "outputs": [],
      "source": [
        "dataset = dataset.loc[dataset['qc'] != '3 Wrongly labelled']"
      ]
    },
    {
      "cell_type": "markdown",
      "metadata": {},
      "source": [
        "Check inconsistencies on URL links"
      ]
    },
    {
      "cell_type": "code",
      "execution_count": null,
      "metadata": {},
      "outputs": [
        {
          "data": {
            "text/plain": [
              "41"
            ]
          },
          "metadata": {},
          "output_type": "display_data"
        }
      ],
      "source": [
        "dataset['url'].isnull().sum()"
      ]
    },
    {
      "cell_type": "markdown",
      "metadata": {},
      "source": [
        "To many null we drop this instances"
      ]
    },
    {
      "cell_type": "code",
      "execution_count": null,
      "metadata": {},
      "outputs": [],
      "source": [
        "dataset = dataset[dataset['url'].notnull()] "
      ]
    },
    {
      "cell_type": "markdown",
      "metadata": {},
      "source": [
        "save the 'clean' data set so it can be used in other notebooks"
      ]
    },
    {
      "cell_type": "code",
      "execution_count": null,
      "metadata": {},
      "outputs": [],
      "source": [
        "dataset.to_csv('dataset_clean')"
      ]
    },
    {
      "cell_type": "markdown",
      "metadata": {},
      "source": [
        "## Downloading images"
      ]
    },
    {
      "cell_type": "markdown",
      "metadata": {},
      "source": [
        "We created a fuctions to download images with the Url from the dataset column"
      ]
    },
    {
      "cell_type": "code",
      "execution_count": null,
      "metadata": {
        "id": "8552LrtY7XPz"
      },
      "outputs": [],
      "source": [
        "def download_image(url, label, main_filepath):\n",
        "    headers = {\n",
        "        'User-Agent': 'Mozilla/5.0 (Windows NT 10.0; Win64; x64) AppleWebKit/537.36 (KHTML, like Gecko) Chrome/58.0.3029.110 Safari/537.3',\n",
        "        'Accept': 'image/webp,image/apng,image/*,*/*;q=0.8'\n",
        "    }\n",
        "    filename = url.split('/')[-1]\n",
        "    if not '.' in filename:\n",
        "        filename += \".jpg\"\n",
        "    label_dir = os.path.join(main_filepath, label)\n",
        "    os.makedirs(label_dir, exist_ok=True)\n",
        "    file_path = os.path.join(label_dir, filename)\n",
        "\n",
        "    try:\n",
        "        response = requests.get(url, headers=headers, timeout=10)\n",
        "        if response.status_code == 404:\n",
        "            print(f\"Error 404: URL not found {url}\")\n",
        "            return\n",
        "        elif response.status_code == 406:\n",
        "            print(f\"Error 406: Not Acceptable - content cannot be served according to the Accept headers {url}\")\n",
        "            return\n",
        "        elif response.status_code != 200:\n",
        "            print(f\"Error {response.status_code}: Unable to download image {url}\")\n",
        "            return\n",
        "\n",
        "        if 'image' in response.headers.get('Content-Type', ''):\n",
        "            with open(file_path, 'wb') as f:\n",
        "                f.write(response.content)\n",
        "            print(f\"Downloaded: {file_path}\")\n",
        "        else:\n",
        "            print(f\"Skipping non-image URL: {url}\")\n",
        "    except requests.RequestException as e:\n",
        "        print(f\"Error downloading {filename}: {e}\")\n",
        "\n",
        "def download_images(df, main_filepath):\n",
        "    for index, row in df.iterrows():\n",
        "        download_image(row['url'], row['label'],main_filepath)"
      ]
    },
    {
      "cell_type": "markdown",
      "metadata": {},
      "source": [
        "download images and save them on specific directory "
      ]
    },
    {
      "cell_type": "code",
      "execution_count": null,
      "metadata": {
        "id": "k9UD7XZ07XIE"
      },
      "outputs": [],
      "source": [
        "main_filepath = \"/content/drive/My Drive/Fac/DL2/main_filepath\"\n",
        "download_images(dataset, main_filepath)"
      ]
    },
    {
      "cell_type": "markdown",
      "metadata": {
        "id": "0N0a3hhee5O7"
      },
      "source": [
        "# Distributing Images:"
      ]
    },
    {
      "cell_type": "markdown",
      "metadata": {},
      "source": [
        "function to create the directories where we will store the diferetn set of images, from train, val and test"
      ]
    },
    {
      "cell_type": "code",
      "execution_count": null,
      "metadata": {
        "colab": {
          "base_uri": "https://localhost:8080/"
        },
        "id": "Buen5gTX7W5a",
        "outputId": "d308d144-6c7a-4f96-af28-55c6bef2c811"
      },
      "outputs": [
        {
          "name": "stdout",
          "output_type": "stream",
          "text": [
            "Created directory: /content/drive/My Drive/Fac_Adri/training\n",
            "Created directory: /content/drive/My Drive/Fac_Adri/validation\n",
            "Created directory: /content/drive/My Drive/Fac_Adri/testing\n"
          ]
        }
      ],
      "source": [
        "def create_dataset_directories(main_directory):\n",
        "    directories = ['training', 'validation', 'testing']\n",
        "\n",
        "    for directory in directories:\n",
        "        dir_path = os.path.join(main_directory, directory)\n",
        "        os.makedirs(dir_path, exist_ok=True)\n",
        "        print(f\"Created directory: {dir_path}\")\n",
        "\n",
        "folders_filepath = \"/content/drive/My Drive/Fac_Adri\"\n",
        "create_dataset_directories(folders_filepath)"
      ]
    },
    {
      "cell_type": "markdown",
      "metadata": {},
      "source": [
        "We also made a function to divide the images throght the dir we created\n",
        "- first we check if the function will count and divide stratrified the diferent labels\n",
        "- then we confirm how many images were saved on main_filepath"
      ]
    },
    {
      "cell_type": "code",
      "execution_count": null,
      "metadata": {
        "colab": {
          "base_uri": "https://localhost:8080/"
        },
        "id": "RgQF5mRNRRXP",
        "outputId": "4b5e0956-18f6-45eb-d7cf-9d0a48b1b648"
      },
      "outputs": [
        {
          "name": "stdout",
          "output_type": "stream",
          "text": [
            "Train counts: {'acanthosis nigricans': 69, 'acne': 137, 'acne vulgaris': 251, 'acquired autoimmune bullous diseaseherpes gestationis': 50, 'acrodermatitis enteropathica': 69, 'actinic keratosis': 131, 'allergic contact dermatitis': 322, 'aplasia cutis': 54, 'basal cell carcinoma': 351, 'basal cell carcinoma morpheiform': 46, 'becker nevus': 47, 'behcets disease': 47, 'calcinosis cutis': 60, 'cheilitis': 79, 'congenital nevus': 51, 'dariers disease': 114, 'dermatofibroma': 59, 'dermatomyositis': 113, 'disseminated actinic porokeratosis': 45, 'drug eruption': 150, 'drug induced pigmentary changes': 53, 'dyshidrotic eczema': 62, 'eczema': 153, 'ehlers danlos syndrome': 95, 'epidermal nevus': 68, 'epidermolysis bullosa': 52, 'erythema annulare centrifigum': 66, 'erythema elevatum diutinum': 41, 'erythema multiforme': 177, 'erythema nodosum': 60, 'factitial dermatitis': 49, 'fixed eruptions': 93, 'folliculitis': 256, 'fordyce spots': 75, 'granuloma annulare': 158, 'granuloma pyogenic': 56, 'hailey hailey disease': 130, 'halo nevus': 61, 'hidradenitis': 67, 'ichthyosis vulgaris': 48, 'incontinentia pigmenti': 76, 'juvenile xanthogranuloma': 111, 'kaposi sarcoma': 117, 'keloid': 117, 'keratosis pilaris': 58, 'langerhans cell histiocytosis': 45, 'lentigo maligna': 62, 'lichen amyloidosis': 57, 'lichen planus': 368, 'lichen simplex': 72, 'livedo reticularis': 45, 'lupus erythematosus': 307, 'lupus subacute': 83, 'lyme disease': 96, 'lymphangioma': 75, 'malignant melanoma': 83, 'melanoma': 195, 'milia': 84, 'mucinosis': 69, 'mucous cyst': 59, 'mycosis fungoides': 136, 'myiasis': 50, 'naevus comedonicus': 54, 'necrobiosis lipoidica': 92, 'nematode infection': 195, 'neurodermatitis': 51, 'neurofibromatosis': 141, 'neurotic excoriations': 54, 'neutrophilic dermatoses': 270, 'nevocytic nevus': 64, 'nevus sebaceous of jadassohn': 71, 'papilomatosis confluentes and reticulate': 112, 'paronychia': 44, 'pediculosis lids': 113, 'perioral dermatitis': 45, 'photodermatoses': 261, 'pilar cyst': 69, 'pilomatricoma': 39, 'pityriasis lichenoides chronica': 54, 'pityriasis rosea': 144, 'pityriasis rubra pilaris': 208, 'porokeratosis actinic': 137, 'porokeratosis of mibelli': 58, 'porphyria': 95, 'port wine stain': 44, 'prurigo nodularis': 127, 'psoriasis': 489, 'pustular psoriasis': 39, 'pyogenic granuloma': 84, 'rhinophyma': 68, 'rosacea': 76, 'sarcoidosis': 261, 'scabies': 254, 'scleroderma': 231, 'scleromyxedema': 81, 'seborrheic dermatitis': 94, 'seborrheic keratosis': 51, 'solid cystic basal cell carcinoma': 49, 'squamous cell carcinoma': 435, 'stasis edema': 51, 'stevens johnson syndrome': 84, 'striae': 50, 'sun damaged skin': 49, 'superficial spreading melanoma ssm': 88, 'syringoma': 95, 'telangiectases': 94, 'tick bite': 54, 'tuberous sclerosis': 105, 'tungiasis': 114, 'urticaria': 113, 'urticaria pigmentosa': 84, 'vitiligo': 124, 'xanthomas': 39, 'xeroderma pigmentosum': 60}\n",
            "Validation counts: {'acanthosis nigricans': 13, 'acne': 27, 'acne vulgaris': 50, 'acquired autoimmune bullous diseaseherpes gestationis': 10, 'acrodermatitis enteropathica': 13, 'actinic keratosis': 26, 'allergic contact dermatitis': 64, 'aplasia cutis': 10, 'basal cell carcinoma': 70, 'basal cell carcinoma morpheiform': 9, 'becker nevus': 9, 'behcets disease': 9, 'calcinosis cutis': 12, 'cheilitis': 15, 'congenital nevus': 10, 'dariers disease': 22, 'dermatofibroma': 11, 'dermatomyositis': 22, 'disseminated actinic porokeratosis': 9, 'drug eruption': 30, 'drug induced pigmentary changes': 10, 'dyshidrotic eczema': 12, 'eczema': 30, 'ehlers danlos syndrome': 19, 'epidermal nevus': 13, 'epidermolysis bullosa': 10, 'erythema annulare centrifigum': 13, 'erythema elevatum diutinum': 8, 'erythema multiforme': 35, 'erythema nodosum': 12, 'factitial dermatitis': 9, 'fixed eruptions': 18, 'folliculitis': 51, 'fordyce spots': 15, 'granuloma annulare': 31, 'granuloma pyogenic': 11, 'hailey hailey disease': 26, 'halo nevus': 12, 'hidradenitis': 13, 'ichthyosis vulgaris': 9, 'incontinentia pigmenti': 15, 'juvenile xanthogranuloma': 22, 'kaposi sarcoma': 23, 'keloid': 23, 'keratosis pilaris': 11, 'langerhans cell histiocytosis': 9, 'lentigo maligna': 12, 'lichen amyloidosis': 11, 'lichen planus': 73, 'lichen simplex': 14, 'livedo reticularis': 9, 'lupus erythematosus': 61, 'lupus subacute': 16, 'lyme disease': 19, 'lymphangioma': 15, 'malignant melanoma': 16, 'melanoma': 39, 'milia': 16, 'mucinosis': 13, 'mucous cyst': 11, 'mycosis fungoides': 27, 'myiasis': 10, 'naevus comedonicus': 10, 'necrobiosis lipoidica': 18, 'nematode infection': 39, 'neurodermatitis': 10, 'neurofibromatosis': 28, 'neurotic excoriations': 10, 'neutrophilic dermatoses': 54, 'nevocytic nevus': 12, 'nevus sebaceous of jadassohn': 14, 'papilomatosis confluentes and reticulate': 22, 'paronychia': 8, 'pediculosis lids': 22, 'perioral dermatitis': 9, 'photodermatoses': 52, 'pilar cyst': 13, 'pilomatricoma': 7, 'pityriasis lichenoides chronica': 10, 'pityriasis rosea': 28, 'pityriasis rubra pilaris': 41, 'porokeratosis actinic': 27, 'porokeratosis of mibelli': 11, 'porphyria': 19, 'port wine stain': 8, 'prurigo nodularis': 25, 'psoriasis': 97, 'pustular psoriasis': 7, 'pyogenic granuloma': 16, 'rhinophyma': 13, 'rosacea': 15, 'sarcoidosis': 52, 'scabies': 50, 'scleroderma': 46, 'scleromyxedema': 16, 'seborrheic dermatitis': 18, 'seborrheic keratosis': 10, 'solid cystic basal cell carcinoma': 9, 'squamous cell carcinoma': 87, 'stasis edema': 10, 'stevens johnson syndrome': 16, 'striae': 10, 'sun damaged skin': 9, 'superficial spreading melanoma ssm': 17, 'syringoma': 19, 'telangiectases': 18, 'tick bite': 10, 'tuberous sclerosis': 21, 'tungiasis': 22, 'urticaria': 22, 'urticaria pigmentosa': 16, 'vitiligo': 24, 'xanthomas': 7, 'xeroderma pigmentosum': 12}\n",
            "Test counts: {'acanthosis nigricans': 10, 'acne': 19, 'acne vulgaris': 34, 'acquired autoimmune bullous diseaseherpes gestationis': 7, 'acrodermatitis enteropathica': 10, 'actinic keratosis': 18, 'allergic contact dermatitis': 44, 'aplasia cutis': 8, 'basal cell carcinoma': 47, 'basal cell carcinoma morpheiform': 7, 'becker nevus': 7, 'behcets disease': 7, 'calcinosis cutis': 8, 'cheilitis': 12, 'congenital nevus': 7, 'dariers disease': 17, 'dermatofibroma': 9, 'dermatomyositis': 16, 'disseminated actinic porokeratosis': 6, 'drug eruption': 20, 'drug induced pigmentary changes': 8, 'dyshidrotic eczema': 9, 'eczema': 21, 'ehlers danlos syndrome': 13, 'epidermal nevus': 10, 'epidermolysis bullosa': 8, 'erythema annulare centrifigum': 9, 'erythema elevatum diutinum': 6, 'erythema multiforme': 24, 'erythema nodosum': 9, 'factitial dermatitis': 8, 'fixed eruptions': 14, 'folliculitis': 35, 'fordyce spots': 10, 'granuloma annulare': 22, 'granuloma pyogenic': 8, 'hailey hailey disease': 18, 'halo nevus': 9, 'hidradenitis': 10, 'ichthyosis vulgaris': 8, 'incontinentia pigmenti': 11, 'juvenile xanthogranuloma': 16, 'kaposi sarcoma': 16, 'keloid': 16, 'keratosis pilaris': 9, 'langerhans cell histiocytosis': 6, 'lentigo maligna': 9, 'lichen amyloidosis': 9, 'lichen planus': 50, 'lichen simplex': 11, 'livedo reticularis': 6, 'lupus erythematosus': 42, 'lupus subacute': 12, 'lyme disease': 14, 'lymphangioma': 10, 'malignant melanoma': 12, 'melanoma': 27, 'milia': 12, 'mucinosis': 10, 'mucous cyst': 9, 'mycosis fungoides': 19, 'myiasis': 7, 'naevus comedonicus': 9, 'necrobiosis lipoidica': 13, 'nematode infection': 26, 'neurodermatitis': 8, 'neurofibromatosis': 20, 'neurotic excoriations': 9, 'neutrophilic dermatoses': 37, 'nevocytic nevus': 10, 'nevus sebaceous of jadassohn': 10, 'papilomatosis confluentes and reticulate': 16, 'paronychia': 7, 'pediculosis lids': 16, 'perioral dermatitis': 7, 'photodermatoses': 35, 'pilar cyst': 11, 'pilomatricoma': 7, 'pityriasis lichenoides chronica': 9, 'pityriasis rosea': 21, 'pityriasis rubra pilaris': 29, 'porokeratosis actinic': 19, 'porokeratosis of mibelli': 9, 'porphyria': 13, 'port wine stain': 7, 'prurigo nodularis': 18, 'psoriasis': 67, 'pustular psoriasis': 7, 'pyogenic granuloma': 13, 'rhinophyma': 10, 'rosacea': 11, 'sarcoidosis': 36, 'scabies': 35, 'scleroderma': 32, 'scleromyxedema': 11, 'seborrheic dermatitis': 14, 'seborrheic keratosis': 8, 'solid cystic basal cell carcinoma': 8, 'squamous cell carcinoma': 59, 'stasis edema': 8, 'stevens johnson syndrome': 13, 'striae': 7, 'sun damaged skin': 8, 'superficial spreading melanoma ssm': 13, 'syringoma': 13, 'telangiectases': 14, 'tick bite': 9, 'tuberous sclerosis': 15, 'tungiasis': 16, 'urticaria': 16, 'urticaria pigmentosa': 12, 'vitiligo': 18, 'xanthomas': 7, 'xeroderma pigmentosum': 9}\n"
          ]
        }
      ],
      "source": [
        "grouped = dataset.groupby('label')\n",
        "label_counts = grouped.size()\n",
        "\n",
        "train_counts = {}\n",
        "val_counts = {}\n",
        "test_counts = {}\n",
        "\n",
        "for label, group_df in grouped:\n",
        "    num_images = len(group_df)\n",
        "    num_train = int(num_images * 0.75)\n",
        "    num_val = int(num_images * 0.15)\n",
        "    num_test = num_images - num_train - num_val\n",
        "\n",
        "    train_counts[label] = num_train\n",
        "    val_counts[label] = num_val\n",
        "    test_counts[label] = num_test\n",
        "\n",
        "print(\"Train counts:\", train_counts)\n",
        "print(\"Validation counts:\", val_counts)\n",
        "print(\"Test counts:\", test_counts)"
      ]
    },
    {
      "cell_type": "code",
      "execution_count": null,
      "metadata": {
        "colab": {
          "base_uri": "https://localhost:8080/"
        },
        "id": "z_e006xQX8Ff",
        "outputId": "87532326-3df6-417f-e49e-7b5ae20a4f47"
      },
      "outputs": [
        {
          "name": "stdout",
          "output_type": "stream",
          "text": [
            "16517\n"
          ]
        }
      ],
      "source": [
        "original_dataset_dir = '/content/drive/My Drive/Fac_Adri/main_filepath'\n",
        "labels = [d for d in os.listdir(original_dataset_dir) if os.path.isdir(os.path.join(original_dataset_dir, d))]\n",
        "image_extensions = ['.jpg', '.jpeg', '.png', '.bmp']\n",
        "num_files = 0\n",
        "\n",
        "for label in labels:\n",
        "    label_dir = os.path.join(original_dataset_dir, label)\n",
        "    files = [f for f in os.listdir(label_dir) if os.path.isfile(os.path.join(label_dir, f)) and os.path.splitext(f)[1].lower() in image_extensions]\n",
        "    num_files += len(files)\n",
        "\n",
        "print(num_files)"
      ]
    },
    {
      "cell_type": "markdown",
      "metadata": {},
      "source": [
        "the paths with the dirs we createad before"
      ]
    },
    {
      "cell_type": "code",
      "execution_count": null,
      "metadata": {
        "id": "36oICKH09xsQ"
      },
      "outputs": [],
      "source": [
        "base_dir = '/content/drive/My Drive/Fac/DL2/main_filepath'\n",
        "train_dir = '/content/drive/My Drive/Fac/DL2/training'\n",
        "val_dir = '/content/drive/My Drive/Fac/DL2/validation'\n",
        "test_dir = '/content/drive/My Drive/Fac/DL2/testing'"
      ]
    },
    {
      "cell_type": "markdown",
      "metadata": {},
      "source": [
        "code to distribute images\n",
        "- it will go to the base_dir and divide the images base on the counts we made before\n",
        "- before the division it suffles the images so its divided at random\n",
        "- finally it saves a copy to the new dir we created "
      ]
    },
    {
      "cell_type": "code",
      "execution_count": null,
      "metadata": {
        "id": "PdAHqsb19xog"
      },
      "outputs": [],
      "source": [
        "labels = [d for d in os.listdir(base_dir) if os.path.isdir(os.path.join(base_dir, d))]\n",
        "\n",
        "image_extensions = ['.jpg', '.jpeg', '.png', '.bmp']\n",
        "\n",
        "def copy_files(filenames, source_dir, dest_dir):\n",
        "    for fname in filenames:\n",
        "        src = os.path.join(source_dir, fname)\n",
        "        dst = os.path.join(dest_dir, fname)\n",
        "        shutil.copyfile(src, dst)\n",
        "\n",
        "for label in labels:\n",
        "    label_dir = os.path.join(base_dir, label)\n",
        "    files = [f for f in os.listdir(label_dir) if os.path.isfile(os.path.join(label_dir, f)) and os.path.splitext(f)[1].lower() in image_extensions]\n",
        "\n",
        "    num_files = len(files)\n",
        "    num_train = floor(num_files * 0.75)\n",
        "    num_val = floor(num_files * 0.15)\n",
        "    num_test = num_files - (num_train + num_val)\n",
        "\n",
        "    shuffled_files = random.sample(files, len(files))\n",
        "\n",
        "    train_files = shuffled_files[:num_train]\n",
        "    val_files = shuffled_files[num_train:num_train + num_val]\n",
        "    test_files = shuffled_files[num_train + num_val:]\n",
        "\n",
        "    train_label_dir = os.path.join(train_dir, label)\n",
        "    val_label_dir = os.path.join(val_dir, label)\n",
        "    test_label_dir = os.path.join(test_dir, label)\n",
        "\n",
        "    os.makedirs(train_label_dir, exist_ok=True)\n",
        "    os.makedirs(val_label_dir, exist_ok=True)\n",
        "    os.makedirs(test_label_dir, exist_ok=True)\n",
        "\n",
        "    copy_files(train_files, label_dir, train_label_dir)\n",
        "    copy_files(val_files, label_dir, val_label_dir)\n",
        "    copy_files(test_files, label_dir, test_label_dir)\n"
      ]
    },
    {
      "cell_type": "markdown",
      "metadata": {},
      "source": [
        "Finaly we print the counts to check consistency with number of images"
      ]
    },
    {
      "cell_type": "code",
      "execution_count": null,
      "metadata": {
        "colab": {
          "base_uri": "https://localhost:8080/"
        },
        "id": "unBEUsUp9xml",
        "outputId": "02fa0dc2-e430-4455-cb22-0e91f038e026"
      },
      "outputs": [
        {
          "name": "stdout",
          "output_type": "stream",
          "text": [
            "12340\n",
            "2419\n",
            "1750\n"
          ]
        }
      ],
      "source": [
        "labels = [d for d in os.listdir(base_dir) if os.path.isdir(os.path.join(base_dir, d))]\n",
        "image_extensions = ['.jpg', '.jpeg', '.png', '.bmp']\n",
        "\n",
        "num_train_total = 0\n",
        "num_val_total = 0\n",
        "num_test_toal = 0\n",
        "\n",
        "for label in labels:\n",
        "    label_dir = os.path.join(base_dir, label)\n",
        "    files = [f for f in os.listdir(label_dir) if os.path.isfile(os.path.join(label_dir, f)) and os.path.splitext(f)[1].lower() in image_extensions]\n",
        "\n",
        "    num_files = len(files)\n",
        "    num_train = floor(num_files * 0.75)\n",
        "    num_train_total += num_train\n",
        "    num_val = floor(num_files * 0.15)\n",
        "    num_val_total += num_val\n",
        "    num_test = num_files - (num_train + num_val)\n",
        "    num_test_toal += num_test\n",
        "\n",
        "print(num_train_total)\n",
        "print(num_val_total)\n",
        "print(num_test_toal)\n"
      ]
    },
    {
      "cell_type": "markdown",
      "metadata": {
        "id": "mEA6KfZgA5UG"
      },
      "source": [
        "## Sizes of images:"
      ]
    },
    {
      "cell_type": "markdown",
      "metadata": {},
      "source": [
        "we started to create a simple function that will get the size of a provided image"
      ]
    },
    {
      "cell_type": "code",
      "execution_count": null,
      "metadata": {
        "id": "kP_gmUF09xk8"
      },
      "outputs": [],
      "source": [
        "def get_file_size(file_path):\n",
        "    return os.path.getsize(file_path)\n",
        "\n",
        "image_sizes = {}\n",
        "\n",
        "image_extensions = ['.jpg', '.jpeg', '.png', '.bmp']\n",
        "\n",
        "for label in os.listdir(train_dir):\n",
        "    label_dir = os.path.join(train_dir, label)\n",
        "    if os.path.isdir(label_dir):\n",
        "        label_image_sizes = []\n",
        "        for file_name in os.listdir(label_dir):\n",
        "            if any(file_name.lower().endswith(ext) for ext in image_extensions):\n",
        "                file_path = os.path.join(label_dir, file_name)\n",
        "                label_image_sizes.append(get_file_size(file_path))\n",
        "        image_sizes[label] = label_image_sizes\n",
        "\n",
        "for label, sizes in image_sizes.items():\n",
        "    print(f\"Label: {label}\")\n",
        "    for size in sizes:\n",
        "        print(f\"Image Size: {size} bytes\")\n",
        "    print(\"\\n\")"
      ]
    },
    {
      "cell_type": "markdown",
      "metadata": {},
      "source": [
        "then we have another fuction to look inside the main_directory and look for the smallest image"
      ]
    },
    {
      "cell_type": "code",
      "execution_count": null,
      "metadata": {
        "colab": {
          "base_uri": "https://localhost:8080/"
        },
        "id": "EB6sd8D69xi7",
        "outputId": "d01a1dc5-1365-455f-abc5-c0c84191a39e"
      },
      "outputs": [
        {
          "name": "stdout",
          "output_type": "stream",
          "text": [
            "Smallest image: /content/drive/My Drive/Fac/DL/training/mucinosis/follicular-mucinosis41.jpg\n"
          ]
        }
      ],
      "source": [
        "def find_smallest_images(main_directory):\n",
        "    smallest_image = None\n",
        "    smallest_size = float('inf')\n",
        "\n",
        "    for label_dir in os.listdir(main_directory):\n",
        "        label_dir_path = os.path.join(main_directory, label_dir)\n",
        "\n",
        "        if os.path.isdir(label_dir_path):\n",
        "          for filename in os.listdir(label_dir_path):\n",
        "                  filepath = os.path.join(label_dir_path, filename)\n",
        "\n",
        "                  with Image.open(filepath) as img:\n",
        "                      width, height = img.size\n",
        "                      image_size = width * height\n",
        "                      if image_size < smallest_size:\n",
        "                          smallest_size = image_size\n",
        "                          smallest_image = filepath\n",
        "\n",
        "    return smallest_size\n",
        "\n",
        "train_dir = '/content/drive/My Drive/Fac/DL/training'\n",
        "smallest_image = find_smallest_images(train_dir)\n",
        "print(\"Smallest image:\", smallest_image)"
      ]
    },
    {
      "cell_type": "markdown",
      "metadata": {},
      "source": [
        "we mada some ajustmentsto the function so it could find the 5% smalest images which heled us improve the results of our models"
      ]
    },
    {
      "cell_type": "code",
      "execution_count": null,
      "metadata": {
        "id": "55hXpSdxSesb",
        "outputId": "04a6d2f1-8cfe-4dee-cdf7-3ebde9d29dd9"
      },
      "outputs": [
        {
          "name": "stdout",
          "output_type": "stream",
          "text": [
            "Width of the image in the lowest 25%: 290\n",
            "Height of the image in the lowest 25%: 192\n"
          ]
        }
      ],
      "source": [
        "def find_smallest_images(main_directory):\n",
        "    widths = []\n",
        "    heights = []\n",
        "\n",
        "    for label_dir in os.listdir(main_directory):\n",
        "        label_dir_path = os.path.join(main_directory, label_dir)\n",
        "\n",
        "        if os.path.isdir(label_dir_path):\n",
        "            for filename in os.listdir(label_dir_path):\n",
        "                filepath = os.path.join(label_dir_path, filename)\n",
        "                with Image.open(filepath) as img:\n",
        "                    width, height = img.size\n",
        "                    widths.append(width)\n",
        "                    heights.append(height)\n",
        "\n",
        "    widths = np.array(widths)\n",
        "    heights = np.array(heights)\n",
        "\n",
        "    sorted_widths = np.sort(widths)\n",
        "    sorted_heights = np.sort(heights)\n",
        "\n",
        "    lowest_5_percent = int(0.05 * len(sorted_widths))\n",
        "    width_in_lowest_5_percent = sorted_widths[lowest_5_percent]\n",
        "    height_in_lowest_5_percent = sorted_heights[lowest_5_percent]\n",
        "\n",
        "    return width_in_lowest_5_percent, height_in_lowest_5_percent\n",
        "\n",
        "train_dir = 'C:/Users/User/Documents/Fac/training'\n",
        "smallest_width, smallest_height = find_smallest_images(train_dir)\n",
        "print(\"Width of the image in the lowest 5%:\", smallest_width)\n",
        "print(\"Height of the image in the lowest 5%:\", smallest_height)\n"
      ]
    }
  ],
  "metadata": {
    "accelerator": "GPU",
    "colab": {
      "gpuType": "T4",
      "provenance": []
    },
    "kernelspec": {
      "display_name": "Python 3",
      "name": "python3"
    },
    "language_info": {
      "name": "python"
    }
  },
  "nbformat": 4,
  "nbformat_minor": 0
}
